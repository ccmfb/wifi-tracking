{
 "cells": [
  {
   "cell_type": "code",
   "execution_count": 1,
   "metadata": {},
   "outputs": [],
   "source": [
    "import sys\n",
    "sys.path.append('../src')\n",
    "sys.path.append('..')\n",
    "\n",
    "from main import generate_refined_data\n",
    "\n",
    "from tqdm import tqdm\n",
    "import pandas as pd"
   ]
  },
  {
   "cell_type": "code",
   "execution_count": 2,
   "metadata": {},
   "outputs": [
    {
     "data": {
      "text/html": [
       "<div>\n",
       "<style scoped>\n",
       "    .dataframe tbody tr th:only-of-type {\n",
       "        vertical-align: middle;\n",
       "    }\n",
       "\n",
       "    .dataframe tbody tr th {\n",
       "        vertical-align: top;\n",
       "    }\n",
       "\n",
       "    .dataframe thead th {\n",
       "        text-align: right;\n",
       "    }\n",
       "</style>\n",
       "<table border=\"1\" class=\"dataframe\">\n",
       "  <thead>\n",
       "    <tr style=\"text-align: right;\">\n",
       "      <th></th>\n",
       "      <th>timestamp</th>\n",
       "      <th>mac</th>\n",
       "      <th>map_id</th>\n",
       "      <th>rssi</th>\n",
       "      <th>site_id</th>\n",
       "      <th>type</th>\n",
       "      <th>x</th>\n",
       "      <th>y</th>\n",
       "    </tr>\n",
       "  </thead>\n",
       "  <tbody>\n",
       "    <tr>\n",
       "      <th>0</th>\n",
       "      <td>1.723194e+09</td>\n",
       "      <td>6e55c33d4bf94fc912546aa53df0a83e6cd97bc542e861...</td>\n",
       "      <td>7445f317-78d8-4a93-add1-ac223c538c55</td>\n",
       "      <td>-55.300000</td>\n",
       "      <td>48b01af6-138b-465d-8996-bace824f5726</td>\n",
       "      <td>wifi</td>\n",
       "      <td>78.165060</td>\n",
       "      <td>49.166220</td>\n",
       "    </tr>\n",
       "    <tr>\n",
       "      <th>1</th>\n",
       "      <td>1.723194e+09</td>\n",
       "      <td>211dcd244bd609da55415aa490f81a19fda9563ec32425...</td>\n",
       "      <td>527aaffb-bc14-4013-b03c-d81bfde894bf</td>\n",
       "      <td>-62.000000</td>\n",
       "      <td>48b01af6-138b-465d-8996-bace824f5726</td>\n",
       "      <td>wifi</td>\n",
       "      <td>48.303600</td>\n",
       "      <td>22.940083</td>\n",
       "    </tr>\n",
       "    <tr>\n",
       "      <th>2</th>\n",
       "      <td>1.723194e+09</td>\n",
       "      <td>c806634ea9528565a397a6d8e2c6c11733892ed6c683d6...</td>\n",
       "      <td>529cbd22-3119-42b3-9bf9-086d108ed159</td>\n",
       "      <td>-47.550003</td>\n",
       "      <td>48b01af6-138b-465d-8996-bace824f5726</td>\n",
       "      <td>wifi</td>\n",
       "      <td>15.859675</td>\n",
       "      <td>18.266554</td>\n",
       "    </tr>\n",
       "    <tr>\n",
       "      <th>3</th>\n",
       "      <td>1.723194e+09</td>\n",
       "      <td>bf07a6f97d267a8841751725f1c270399910b53058b918...</td>\n",
       "      <td>162b807a-8c8b-4169-8c33-91882455b0a8</td>\n",
       "      <td>-68.200000</td>\n",
       "      <td>48b01af6-138b-465d-8996-bace824f5726</td>\n",
       "      <td>wifi</td>\n",
       "      <td>67.894010</td>\n",
       "      <td>37.696960</td>\n",
       "    </tr>\n",
       "    <tr>\n",
       "      <th>4</th>\n",
       "      <td>1.723194e+09</td>\n",
       "      <td>074b3881ba8aa8155093cf20719051392f85885c03bf8b...</td>\n",
       "      <td>caa07ab5-c4fb-4848-a8bf-57b482b429e6</td>\n",
       "      <td>-41.850000</td>\n",
       "      <td>48b01af6-138b-465d-8996-bace824f5726</td>\n",
       "      <td>wifi</td>\n",
       "      <td>52.415646</td>\n",
       "      <td>34.921520</td>\n",
       "    </tr>\n",
       "  </tbody>\n",
       "</table>\n",
       "</div>"
      ],
      "text/plain": [
       "      timestamp                                                mac  \\\n",
       "0  1.723194e+09  6e55c33d4bf94fc912546aa53df0a83e6cd97bc542e861...   \n",
       "1  1.723194e+09  211dcd244bd609da55415aa490f81a19fda9563ec32425...   \n",
       "2  1.723194e+09  c806634ea9528565a397a6d8e2c6c11733892ed6c683d6...   \n",
       "3  1.723194e+09  bf07a6f97d267a8841751725f1c270399910b53058b918...   \n",
       "4  1.723194e+09  074b3881ba8aa8155093cf20719051392f85885c03bf8b...   \n",
       "\n",
       "                                 map_id       rssi  \\\n",
       "0  7445f317-78d8-4a93-add1-ac223c538c55 -55.300000   \n",
       "1  527aaffb-bc14-4013-b03c-d81bfde894bf -62.000000   \n",
       "2  529cbd22-3119-42b3-9bf9-086d108ed159 -47.550003   \n",
       "3  162b807a-8c8b-4169-8c33-91882455b0a8 -68.200000   \n",
       "4  caa07ab5-c4fb-4848-a8bf-57b482b429e6 -41.850000   \n",
       "\n",
       "                                site_id  type          x          y  \n",
       "0  48b01af6-138b-465d-8996-bace824f5726  wifi  78.165060  49.166220  \n",
       "1  48b01af6-138b-465d-8996-bace824f5726  wifi  48.303600  22.940083  \n",
       "2  48b01af6-138b-465d-8996-bace824f5726  wifi  15.859675  18.266554  \n",
       "3  48b01af6-138b-465d-8996-bace824f5726  wifi  67.894010  37.696960  \n",
       "4  48b01af6-138b-465d-8996-bace824f5726  wifi  52.415646  34.921520  "
      ]
     },
     "execution_count": 2,
     "metadata": {},
     "output_type": "execute_result"
    }
   ],
   "source": [
    "df = pd.read_csv('../data/data.csv')\n",
    "df = df.sort_values(by='timestamp', ascending=True)\n",
    "df = df.reset_index(drop=True)\n",
    "df.head()"
   ]
  },
  {
   "cell_type": "code",
   "execution_count": 3,
   "metadata": {},
   "outputs": [],
   "source": [
    "# split into 5 minute intervals\n",
    "# feed batches into main script -> generates refined data\n",
    "# run script to turn refined data into occupancy stats\n",
    "# run script to turn occupancy stats into density maps"
   ]
  },
  {
   "cell_type": "code",
   "execution_count": 4,
   "metadata": {},
   "outputs": [
    {
     "name": "stdout",
     "output_type": "stream",
     "text": [
      "[0, 2026, 4659, 8703, 13386, 18911, 25192, 31964, 39636, 47386, 55804, 65327, 75290, 84768, 94282, 104142, 114803, 125615, 135843, 146291, 156441, 167336, 178184, 190182, 202459, 213763, 225234, 236686, 248250, 260796, 272795, 284573, 296370, 306690, 316883, 326793, 334762, 342985, 349319, 356786, 363717, 371538, 378697, 386281, 393409, 400721, 407162, 412832, 418414, 424243, 429258, 434014, 439196, 444140, 449621, 454811, 460450, 466188, 471152, 477215, 482019, 487248, 492569, 497481, 502732, 507914, 513612, 518892, 523859, 529061, 534747, 539526]\n"
     ]
    }
   ],
   "source": [
    "timestamps = df['timestamp'].to_numpy()\n",
    "cutoff_indices = [0]\n",
    "\n",
    "prev_timestamp = timestamps[0]\n",
    "for i, timestamp in enumerate(timestamps):\n",
    "\n",
    "    if timestamp - prev_timestamp > 60*5:\n",
    "        cutoff_indices.append(i)\n",
    "        prev_timestamp = timestamp\n",
    "\n",
    "    if len(cutoff_indices) == 2*6*6:\n",
    "        break\n",
    "\n",
    "print(cutoff_indices)"
   ]
  },
  {
   "cell_type": "code",
   "execution_count": 5,
   "metadata": {},
   "outputs": [
    {
     "name": "stderr",
     "output_type": "stream",
     "text": [
      " 99%|█████████▊| 71/72 [00:00<00:00, 43115.04it/s]\n"
     ]
    }
   ],
   "source": [
    "batches = []\n",
    "\n",
    "for i in tqdm(range(len(cutoff_indices))):\n",
    "    if i == len(cutoff_indices) - 1:\n",
    "        break\n",
    "\n",
    "    batch = df.iloc[cutoff_indices[i]:cutoff_indices[i+1]]\n",
    "    batches.append(batch)"
   ]
  },
  {
   "cell_type": "code",
   "execution_count": 6,
   "metadata": {},
   "outputs": [
    {
     "name": "stdout",
     "output_type": "stream",
     "text": [
      "71\n",
      "4683\n"
     ]
    }
   ],
   "source": [
    "print(len(batches))\n",
    "print(len(batches[3]))"
   ]
  },
  {
   "cell_type": "code",
   "execution_count": 7,
   "metadata": {},
   "outputs": [
    {
     "name": "stderr",
     "output_type": "stream",
     "text": [
      "  1%|▏         | 1/71 [00:00<00:27,  2.50it/s]"
     ]
    },
    {
     "name": "stdout",
     "output_type": "stream",
     "text": [
      "Loading data took 0.31 seconds\n",
      "Processing data took 0.05 seconds\n",
      "Writing data took 0.01 seconds\n"
     ]
    },
    {
     "name": "stderr",
     "output_type": "stream",
     "text": [
      "/Users/carl/Desktop/ict/wifi-tracking2/test/../src/device.py:66: RuntimeWarning: invalid value encountered in scalar divide\n",
      "  z = radius_to_prev / prev_error\n",
      "  3%|▎         | 2/71 [00:00<00:31,  2.17it/s]"
     ]
    },
    {
     "name": "stdout",
     "output_type": "stream",
     "text": [
      "Loading data took 0.33 seconds\n",
      "Processing data took 0.08 seconds\n",
      "Writing data took 0.06 seconds\n",
      "Loading data took 0.33 seconds\n",
      "Processing data took 0.15 seconds\n",
      "Writing data took 0.05 seconds\n"
     ]
    },
    {
     "name": "stderr",
     "output_type": "stream",
     "text": [
      "/Users/carl/Desktop/ict/wifi-tracking2/test/../src/device.py:66: RuntimeWarning: divide by zero encountered in scalar divide\n",
      "  z = radius_to_prev / prev_error\n",
      "  4%|▍         | 3/71 [00:01<00:34,  1.96it/s]"
     ]
    },
    {
     "name": "stdout",
     "output_type": "stream",
     "text": [
      "Loading data took 0.35 seconds\n",
      "Processing data took 0.20 seconds\n"
     ]
    },
    {
     "name": "stderr",
     "output_type": "stream",
     "text": [
      "  6%|▌         | 4/71 [00:02<00:37,  1.76it/s]"
     ]
    },
    {
     "name": "stdout",
     "output_type": "stream",
     "text": [
      "Writing data took 0.07 seconds\n",
      "Loading data took 0.39 seconds\n"
     ]
    },
    {
     "name": "stderr",
     "output_type": "stream",
     "text": [
      "  7%|▋         | 5/71 [00:02<00:42,  1.54it/s]"
     ]
    },
    {
     "name": "stdout",
     "output_type": "stream",
     "text": [
      "Processing data took 0.28 seconds\n",
      "Writing data took 0.09 seconds\n",
      "Loading data took 0.40 seconds\n"
     ]
    },
    {
     "name": "stderr",
     "output_type": "stream",
     "text": [
      "  8%|▊         | 6/71 [00:03<00:48,  1.33it/s]"
     ]
    },
    {
     "name": "stdout",
     "output_type": "stream",
     "text": [
      "Processing data took 0.35 seconds\n",
      "Writing data took 0.13 seconds\n",
      "Loading data took 0.36 seconds\n",
      "Processing data took 0.41 seconds\n"
     ]
    },
    {
     "name": "stderr",
     "output_type": "stream",
     "text": [
      " 10%|▉         | 7/71 [00:04<00:53,  1.19it/s]"
     ]
    },
    {
     "name": "stdout",
     "output_type": "stream",
     "text": [
      "Writing data took 0.21 seconds\n",
      "Loading data took 0.40 seconds\n",
      "Processing data took 0.51 seconds\n"
     ]
    },
    {
     "name": "stderr",
     "output_type": "stream",
     "text": [
      " 11%|█▏        | 8/71 [00:06<00:59,  1.06it/s]"
     ]
    },
    {
     "name": "stdout",
     "output_type": "stream",
     "text": [
      "Writing data took 0.22 seconds\n",
      "Loading data took 0.40 seconds\n",
      "Processing data took 0.52 seconds\n"
     ]
    },
    {
     "name": "stderr",
     "output_type": "stream",
     "text": [
      " 13%|█▎        | 9/71 [00:07<01:03,  1.03s/it]"
     ]
    },
    {
     "name": "stdout",
     "output_type": "stream",
     "text": [
      "Writing data took 0.27 seconds\n",
      "Loading data took 0.39 seconds\n",
      "Processing data took 0.65 seconds\n"
     ]
    },
    {
     "name": "stderr",
     "output_type": "stream",
     "text": [
      " 14%|█▍        | 10/71 [00:08<01:10,  1.16s/it]"
     ]
    },
    {
     "name": "stdout",
     "output_type": "stream",
     "text": [
      "Writing data took 0.39 seconds\n",
      "Loading data took 0.40 seconds\n",
      "Processing data took 0.70 seconds\n"
     ]
    },
    {
     "name": "stderr",
     "output_type": "stream",
     "text": [
      " 15%|█▌        | 11/71 [00:10<01:15,  1.26s/it]"
     ]
    },
    {
     "name": "stdout",
     "output_type": "stream",
     "text": [
      "Writing data took 0.35 seconds\n",
      "Loading data took 0.48 seconds\n",
      "Processing data took 0.77 seconds\n"
     ]
    },
    {
     "name": "stderr",
     "output_type": "stream",
     "text": [
      " 17%|█▋        | 12/71 [00:11<01:22,  1.40s/it]"
     ]
    },
    {
     "name": "stdout",
     "output_type": "stream",
     "text": [
      "Writing data took 0.42 seconds\n",
      "Loading data took 0.44 seconds\n",
      "Processing data took 0.81 seconds\n"
     ]
    },
    {
     "name": "stderr",
     "output_type": "stream",
     "text": [
      " 18%|█▊        | 13/71 [00:13<01:27,  1.51s/it]"
     ]
    },
    {
     "name": "stdout",
     "output_type": "stream",
     "text": [
      "Writing data took 0.47 seconds\n",
      "Loading data took 0.49 seconds\n",
      "Processing data took 0.87 seconds\n"
     ]
    },
    {
     "name": "stderr",
     "output_type": "stream",
     "text": [
      " 20%|█▉        | 14/71 [00:15<01:33,  1.63s/it]"
     ]
    },
    {
     "name": "stdout",
     "output_type": "stream",
     "text": [
      "Writing data took 0.52 seconds\n",
      "Loading data took 0.50 seconds\n",
      "Processing data took 0.94 seconds\n"
     ]
    },
    {
     "name": "stderr",
     "output_type": "stream",
     "text": [
      " 21%|██        | 15/71 [00:17<01:40,  1.79s/it]"
     ]
    },
    {
     "name": "stdout",
     "output_type": "stream",
     "text": [
      "Writing data took 0.68 seconds\n",
      "Loading data took 0.55 seconds\n",
      "Processing data took 1.00 seconds\n"
     ]
    },
    {
     "name": "stderr",
     "output_type": "stream",
     "text": [
      " 23%|██▎       | 16/71 [00:20<01:46,  1.93s/it]"
     ]
    },
    {
     "name": "stdout",
     "output_type": "stream",
     "text": [
      "Writing data took 0.65 seconds\n",
      "Loading data took 0.51 seconds\n",
      "Processing data took 1.16 seconds\n"
     ]
    },
    {
     "name": "stderr",
     "output_type": "stream",
     "text": [
      " 24%|██▍       | 17/71 [00:22<01:51,  2.07s/it]"
     ]
    },
    {
     "name": "stdout",
     "output_type": "stream",
     "text": [
      "Writing data took 0.67 seconds\n",
      "Loading data took 0.54 seconds\n",
      "Processing data took 1.13 seconds\n"
     ]
    },
    {
     "name": "stderr",
     "output_type": "stream",
     "text": [
      " 25%|██▌       | 18/71 [00:24<01:55,  2.18s/it]"
     ]
    },
    {
     "name": "stdout",
     "output_type": "stream",
     "text": [
      "Writing data took 0.74 seconds\n",
      "Loading data took 0.60 seconds\n",
      "Processing data took 1.19 seconds\n"
     ]
    },
    {
     "name": "stderr",
     "output_type": "stream",
     "text": [
      " 27%|██▋       | 19/71 [00:27<02:00,  2.32s/it]"
     ]
    },
    {
     "name": "stdout",
     "output_type": "stream",
     "text": [
      "Writing data took 0.82 seconds\n",
      "Loading data took 0.53 seconds\n",
      "Processing data took 1.26 seconds\n"
     ]
    },
    {
     "name": "stderr",
     "output_type": "stream",
     "text": [
      " 28%|██▊       | 20/71 [00:30<02:05,  2.47s/it]"
     ]
    },
    {
     "name": "stdout",
     "output_type": "stream",
     "text": [
      "Writing data took 0.95 seconds\n",
      "Loading data took 0.60 seconds\n",
      "Processing data took 1.33 seconds\n"
     ]
    },
    {
     "name": "stderr",
     "output_type": "stream",
     "text": [
      " 30%|██▉       | 21/71 [00:33<02:08,  2.58s/it]"
     ]
    },
    {
     "name": "stdout",
     "output_type": "stream",
     "text": [
      "Writing data took 0.86 seconds\n",
      "Loading data took 0.60 seconds\n",
      "Processing data took 1.40 seconds\n"
     ]
    },
    {
     "name": "stderr",
     "output_type": "stream",
     "text": [
      " 31%|███       | 22/71 [00:36<02:12,  2.70s/it]"
     ]
    },
    {
     "name": "stdout",
     "output_type": "stream",
     "text": [
      "Writing data took 0.96 seconds\n",
      "Loading data took 0.71 seconds\n",
      "Processing data took 1.50 seconds\n"
     ]
    },
    {
     "name": "stderr",
     "output_type": "stream",
     "text": [
      " 32%|███▏      | 23/71 [00:39<02:19,  2.90s/it]"
     ]
    },
    {
     "name": "stdout",
     "output_type": "stream",
     "text": [
      "Writing data took 1.10 seconds\n",
      "Loading data took 0.65 seconds\n",
      "Processing data took 1.57 seconds\n"
     ]
    },
    {
     "name": "stderr",
     "output_type": "stream",
     "text": [
      " 34%|███▍      | 24/71 [00:42<02:22,  3.04s/it]"
     ]
    },
    {
     "name": "stdout",
     "output_type": "stream",
     "text": [
      "Writing data took 1.10 seconds\n",
      "Loading data took 0.66 seconds\n",
      "Processing data took 1.51 seconds\n"
     ]
    },
    {
     "name": "stderr",
     "output_type": "stream",
     "text": [
      " 35%|███▌      | 25/71 [00:46<02:23,  3.13s/it]"
     ]
    },
    {
     "name": "stdout",
     "output_type": "stream",
     "text": [
      "Writing data took 1.11 seconds\n",
      "Loading data took 0.69 seconds\n",
      "Processing data took 1.59 seconds\n"
     ]
    },
    {
     "name": "stderr",
     "output_type": "stream",
     "text": [
      " 37%|███▋      | 26/71 [00:49<02:27,  3.28s/it]"
     ]
    },
    {
     "name": "stdout",
     "output_type": "stream",
     "text": [
      "Writing data took 1.30 seconds\n",
      "Loading data took 0.72 seconds\n",
      "Processing data took 1.61 seconds\n"
     ]
    },
    {
     "name": "stderr",
     "output_type": "stream",
     "text": [
      " 38%|███▊      | 27/71 [00:53<02:28,  3.38s/it]"
     ]
    },
    {
     "name": "stdout",
     "output_type": "stream",
     "text": [
      "Writing data took 1.24 seconds\n",
      "Loading data took 0.75 seconds\n",
      "Processing data took 1.66 seconds\n"
     ]
    },
    {
     "name": "stderr",
     "output_type": "stream",
     "text": [
      " 39%|███▉      | 28/71 [00:57<02:30,  3.51s/it]"
     ]
    },
    {
     "name": "stdout",
     "output_type": "stream",
     "text": [
      "Writing data took 1.31 seconds\n",
      "Loading data took 0.71 seconds\n",
      "Processing data took 1.76 seconds\n"
     ]
    },
    {
     "name": "stderr",
     "output_type": "stream",
     "text": [
      " 41%|████      | 29/71 [01:01<02:34,  3.67s/it]"
     ]
    },
    {
     "name": "stdout",
     "output_type": "stream",
     "text": [
      "Writing data took 1.53 seconds\n",
      "Loading data took 0.67 seconds\n",
      "Processing data took 1.77 seconds\n"
     ]
    },
    {
     "name": "stderr",
     "output_type": "stream",
     "text": [
      " 42%|████▏     | 30/71 [01:05<02:34,  3.76s/it]"
     ]
    },
    {
     "name": "stdout",
     "output_type": "stream",
     "text": [
      "Writing data took 1.45 seconds\n",
      "Loading data took 0.87 seconds\n",
      "Processing data took 1.93 seconds\n"
     ]
    },
    {
     "name": "stderr",
     "output_type": "stream",
     "text": [
      " 44%|████▎     | 31/71 [01:09<02:38,  3.97s/it]"
     ]
    },
    {
     "name": "stdout",
     "output_type": "stream",
     "text": [
      "Writing data took 1.60 seconds\n",
      "Loading data took 0.78 seconds\n",
      "Processing data took 1.82 seconds\n"
     ]
    },
    {
     "name": "stderr",
     "output_type": "stream",
     "text": [
      " 45%|████▌     | 32/71 [01:13<02:37,  4.05s/it]"
     ]
    },
    {
     "name": "stdout",
     "output_type": "stream",
     "text": [
      "Writing data took 1.55 seconds\n",
      "Loading data took 0.89 seconds\n",
      "Processing data took 1.77 seconds\n"
     ]
    },
    {
     "name": "stderr",
     "output_type": "stream",
     "text": [
      " 46%|████▋     | 33/71 [01:18<02:35,  4.10s/it]"
     ]
    },
    {
     "name": "stdout",
     "output_type": "stream",
     "text": [
      "Writing data took 1.51 seconds\n",
      "Loading data took 0.77 seconds\n",
      "Processing data took 1.77 seconds\n"
     ]
    },
    {
     "name": "stderr",
     "output_type": "stream",
     "text": [
      " 48%|████▊     | 34/71 [01:22<02:33,  4.16s/it]"
     ]
    },
    {
     "name": "stdout",
     "output_type": "stream",
     "text": [
      "Writing data took 1.68 seconds\n",
      "Loading data took 0.83 seconds\n",
      "Processing data took 1.83 seconds\n"
     ]
    },
    {
     "name": "stderr",
     "output_type": "stream",
     "text": [
      " 49%|████▉     | 35/71 [01:26<02:31,  4.20s/it]"
     ]
    },
    {
     "name": "stdout",
     "output_type": "stream",
     "text": [
      "Writing data took 1.58 seconds\n",
      "Loading data took 0.88 seconds\n",
      "Processing data took 1.57 seconds\n"
     ]
    },
    {
     "name": "stderr",
     "output_type": "stream",
     "text": [
      " 51%|█████     | 36/71 [01:30<02:26,  4.20s/it]"
     ]
    },
    {
     "name": "stdout",
     "output_type": "stream",
     "text": [
      "Writing data took 1.69 seconds\n",
      "Loading data took 0.81 seconds\n",
      "Processing data took 1.52 seconds\n"
     ]
    },
    {
     "name": "stderr",
     "output_type": "stream",
     "text": [
      " 52%|█████▏    | 37/71 [01:35<02:21,  4.16s/it]"
     ]
    },
    {
     "name": "stdout",
     "output_type": "stream",
     "text": [
      "Writing data took 1.65 seconds\n",
      "Loading data took 0.87 seconds\n",
      "Processing data took 1.29 seconds\n"
     ]
    },
    {
     "name": "stderr",
     "output_type": "stream",
     "text": [
      " 54%|█████▎    | 38/71 [01:39<02:15,  4.11s/it]"
     ]
    },
    {
     "name": "stdout",
     "output_type": "stream",
     "text": [
      "Writing data took 1.76 seconds\n",
      "Loading data took 0.97 seconds\n",
      "Processing data took 1.57 seconds\n"
     ]
    },
    {
     "name": "stderr",
     "output_type": "stream",
     "text": [
      " 55%|█████▍    | 39/71 [01:43<02:16,  4.25s/it]"
     ]
    },
    {
     "name": "stdout",
     "output_type": "stream",
     "text": [
      "Writing data took 1.97 seconds\n",
      "Loading data took 0.92 seconds\n",
      "Processing data took 1.65 seconds\n"
     ]
    },
    {
     "name": "stderr",
     "output_type": "stream",
     "text": [
      " 56%|█████▋    | 40/71 [01:48<02:14,  4.33s/it]"
     ]
    },
    {
     "name": "stdout",
     "output_type": "stream",
     "text": [
      "Writing data took 1.86 seconds\n",
      "Loading data took 0.84 seconds\n",
      "Processing data took 1.52 seconds\n"
     ]
    },
    {
     "name": "stderr",
     "output_type": "stream",
     "text": [
      " 58%|█████▊    | 41/71 [01:52<02:07,  4.26s/it]"
     ]
    },
    {
     "name": "stdout",
     "output_type": "stream",
     "text": [
      "Writing data took 1.69 seconds\n",
      "Loading data took 0.83 seconds\n",
      "Processing data took 1.45 seconds\n"
     ]
    },
    {
     "name": "stderr",
     "output_type": "stream",
     "text": [
      " 59%|█████▉    | 42/71 [01:56<02:01,  4.19s/it]"
     ]
    },
    {
     "name": "stdout",
     "output_type": "stream",
     "text": [
      "Writing data took 1.69 seconds\n",
      "Loading data took 0.89 seconds\n",
      "Processing data took 1.54 seconds\n"
     ]
    },
    {
     "name": "stderr",
     "output_type": "stream",
     "text": [
      " 61%|██████    | 43/71 [02:00<01:58,  4.24s/it]"
     ]
    },
    {
     "name": "stdout",
     "output_type": "stream",
     "text": [
      "Writing data took 1.84 seconds\n",
      "Loading data took 0.95 seconds\n",
      "Processing data took 1.50 seconds\n"
     ]
    },
    {
     "name": "stderr",
     "output_type": "stream",
     "text": [
      " 62%|██████▏   | 44/71 [02:04<01:54,  4.25s/it]"
     ]
    },
    {
     "name": "stdout",
     "output_type": "stream",
     "text": [
      "Writing data took 1.78 seconds\n",
      "Loading data took 0.83 seconds\n",
      "Processing data took 1.54 seconds\n"
     ]
    },
    {
     "name": "stderr",
     "output_type": "stream",
     "text": [
      " 63%|██████▎   | 45/71 [02:09<01:49,  4.23s/it]"
     ]
    },
    {
     "name": "stdout",
     "output_type": "stream",
     "text": [
      "Writing data took 1.75 seconds\n",
      "Loading data took 0.79 seconds\n",
      "Processing data took 1.25 seconds\n"
     ]
    },
    {
     "name": "stderr",
     "output_type": "stream",
     "text": [
      " 65%|██████▍   | 46/71 [02:13<01:44,  4.18s/it]"
     ]
    },
    {
     "name": "stdout",
     "output_type": "stream",
     "text": [
      "Writing data took 1.95 seconds\n",
      "Loading data took 0.85 seconds\n",
      "Processing data took 1.22 seconds\n"
     ]
    },
    {
     "name": "stderr",
     "output_type": "stream",
     "text": [
      " 66%|██████▌   | 47/71 [02:17<01:38,  4.10s/it]"
     ]
    },
    {
     "name": "stdout",
     "output_type": "stream",
     "text": [
      "Writing data took 1.79 seconds\n",
      "Loading data took 0.82 seconds\n",
      "Processing data took 1.15 seconds\n"
     ]
    },
    {
     "name": "stderr",
     "output_type": "stream",
     "text": [
      " 68%|██████▊   | 48/71 [02:20<01:32,  4.02s/it]"
     ]
    },
    {
     "name": "stdout",
     "output_type": "stream",
     "text": [
      "Writing data took 1.80 seconds\n",
      "Loading data took 0.83 seconds\n",
      "Processing data took 1.27 seconds\n"
     ]
    },
    {
     "name": "stderr",
     "output_type": "stream",
     "text": [
      " 69%|██████▉   | 49/71 [02:24<01:28,  4.01s/it]"
     ]
    },
    {
     "name": "stdout",
     "output_type": "stream",
     "text": [
      "Writing data took 1.83 seconds\n",
      "Loading data took 0.95 seconds\n",
      "Processing data took 1.12 seconds\n"
     ]
    },
    {
     "name": "stderr",
     "output_type": "stream",
     "text": [
      " 70%|███████   | 50/71 [02:28<01:24,  4.00s/it]"
     ]
    },
    {
     "name": "stdout",
     "output_type": "stream",
     "text": [
      "Writing data took 1.85 seconds\n",
      "Loading data took 0.80 seconds\n",
      "Processing data took 1.11 seconds\n"
     ]
    },
    {
     "name": "stderr",
     "output_type": "stream",
     "text": [
      " 72%|███████▏  | 51/71 [02:33<01:21,  4.05s/it]"
     ]
    },
    {
     "name": "stdout",
     "output_type": "stream",
     "text": [
      "Writing data took 2.20 seconds\n",
      "Loading data took 0.88 seconds\n",
      "Processing data took 1.10 seconds\n"
     ]
    },
    {
     "name": "stderr",
     "output_type": "stream",
     "text": [
      " 73%|███████▎  | 52/71 [02:36<01:16,  4.01s/it]"
     ]
    },
    {
     "name": "stdout",
     "output_type": "stream",
     "text": [
      "Writing data took 1.87 seconds\n",
      "Loading data took 0.84 seconds\n",
      "Processing data took 1.09 seconds\n"
     ]
    },
    {
     "name": "stderr",
     "output_type": "stream",
     "text": [
      " 75%|███████▍  | 53/71 [02:40<01:11,  3.97s/it]"
     ]
    },
    {
     "name": "stdout",
     "output_type": "stream",
     "text": [
      "Writing data took 1.88 seconds\n",
      "Loading data took 0.91 seconds\n",
      "Processing data took 1.26 seconds\n"
     ]
    },
    {
     "name": "stderr",
     "output_type": "stream",
     "text": [
      " 76%|███████▌  | 54/71 [02:44<01:08,  4.01s/it]"
     ]
    },
    {
     "name": "stdout",
     "output_type": "stream",
     "text": [
      "Writing data took 1.85 seconds\n",
      "Loading data took 0.84 seconds\n",
      "Processing data took 1.22 seconds\n"
     ]
    },
    {
     "name": "stderr",
     "output_type": "stream",
     "text": [
      " 77%|███████▋  | 55/71 [02:49<01:04,  4.06s/it]"
     ]
    },
    {
     "name": "stdout",
     "output_type": "stream",
     "text": [
      "Writing data took 2.07 seconds\n",
      "Loading data took 0.86 seconds\n",
      "Processing data took 1.29 seconds\n"
     ]
    },
    {
     "name": "stderr",
     "output_type": "stream",
     "text": [
      " 79%|███████▉  | 56/71 [02:53<01:01,  4.11s/it]"
     ]
    },
    {
     "name": "stdout",
     "output_type": "stream",
     "text": [
      "Writing data took 1.98 seconds\n",
      "Loading data took 0.89 seconds\n",
      "Processing data took 1.17 seconds\n"
     ]
    },
    {
     "name": "stderr",
     "output_type": "stream",
     "text": [
      " 80%|████████  | 57/71 [02:57<00:57,  4.14s/it]"
     ]
    },
    {
     "name": "stdout",
     "output_type": "stream",
     "text": [
      "Writing data took 2.09 seconds\n",
      "Loading data took 0.87 seconds\n",
      "Processing data took 1.13 seconds\n"
     ]
    },
    {
     "name": "stderr",
     "output_type": "stream",
     "text": [
      " 82%|████████▏ | 58/71 [03:01<00:53,  4.10s/it]"
     ]
    },
    {
     "name": "stdout",
     "output_type": "stream",
     "text": [
      "Writing data took 1.94 seconds\n",
      "Loading data took 0.79 seconds\n",
      "Processing data took 1.42 seconds\n"
     ]
    },
    {
     "name": "stderr",
     "output_type": "stream",
     "text": [
      " 83%|████████▎ | 59/71 [03:05<00:49,  4.17s/it]"
     ]
    },
    {
     "name": "stdout",
     "output_type": "stream",
     "text": [
      "Writing data took 2.05 seconds\n",
      "Loading data took 0.88 seconds\n",
      "Processing data took 1.14 seconds\n"
     ]
    },
    {
     "name": "stderr",
     "output_type": "stream",
     "text": [
      " 85%|████████▍ | 60/71 [03:09<00:45,  4.13s/it]"
     ]
    },
    {
     "name": "stdout",
     "output_type": "stream",
     "text": [
      "Writing data took 1.98 seconds\n",
      "Loading data took 0.78 seconds\n",
      "Processing data took 1.26 seconds\n"
     ]
    },
    {
     "name": "stderr",
     "output_type": "stream",
     "text": [
      " 86%|████████▌ | 61/71 [03:14<00:41,  4.16s/it]"
     ]
    },
    {
     "name": "stdout",
     "output_type": "stream",
     "text": [
      "Writing data took 2.12 seconds\n",
      "Loading data took 0.87 seconds\n",
      "Processing data took 1.21 seconds\n"
     ]
    },
    {
     "name": "stderr",
     "output_type": "stream",
     "text": [
      " 87%|████████▋ | 62/71 [03:18<00:37,  4.15s/it]"
     ]
    },
    {
     "name": "stdout",
     "output_type": "stream",
     "text": [
      "Writing data took 1.98 seconds\n",
      "Loading data took 1.01 seconds\n",
      "Processing data took 1.13 seconds\n"
     ]
    },
    {
     "name": "stderr",
     "output_type": "stream",
     "text": [
      " 89%|████████▊ | 63/71 [03:22<00:34,  4.27s/it]"
     ]
    },
    {
     "name": "stdout",
     "output_type": "stream",
     "text": [
      "Writing data took 2.36 seconds\n",
      "Loading data took 0.87 seconds\n",
      "Processing data took 1.11 seconds\n"
     ]
    },
    {
     "name": "stderr",
     "output_type": "stream",
     "text": [
      " 90%|█████████ | 64/71 [03:27<00:29,  4.28s/it]"
     ]
    },
    {
     "name": "stdout",
     "output_type": "stream",
     "text": [
      "Writing data took 2.24 seconds\n",
      "Loading data took 0.92 seconds\n",
      "Processing data took 1.17 seconds\n"
     ]
    },
    {
     "name": "stderr",
     "output_type": "stream",
     "text": [
      " 92%|█████████▏| 65/71 [03:31<00:25,  4.27s/it]"
     ]
    },
    {
     "name": "stdout",
     "output_type": "stream",
     "text": [
      "Writing data took 2.09 seconds\n",
      "Loading data took 0.82 seconds\n",
      "Processing data took 1.34 seconds\n"
     ]
    },
    {
     "name": "stderr",
     "output_type": "stream",
     "text": [
      " 93%|█████████▎| 66/71 [03:35<00:21,  4.32s/it]"
     ]
    },
    {
     "name": "stdout",
     "output_type": "stream",
     "text": [
      "Writing data took 2.21 seconds\n",
      "Loading data took 0.99 seconds\n",
      "Processing data took 1.20 seconds\n"
     ]
    },
    {
     "name": "stderr",
     "output_type": "stream",
     "text": [
      " 94%|█████████▍| 67/71 [03:40<00:17,  4.34s/it]"
     ]
    },
    {
     "name": "stdout",
     "output_type": "stream",
     "text": [
      "Writing data took 2.15 seconds\n",
      "Loading data took 0.93 seconds\n",
      "Processing data took 1.17 seconds\n"
     ]
    },
    {
     "name": "stderr",
     "output_type": "stream",
     "text": [
      " 96%|█████████▌| 68/71 [03:44<00:13,  4.36s/it]"
     ]
    },
    {
     "name": "stdout",
     "output_type": "stream",
     "text": [
      "Writing data took 2.24 seconds\n",
      "Loading data took 0.96 seconds\n",
      "Processing data took 1.19 seconds\n"
     ]
    },
    {
     "name": "stderr",
     "output_type": "stream",
     "text": [
      " 97%|█████████▋| 69/71 [03:48<00:08,  4.37s/it]"
     ]
    },
    {
     "name": "stdout",
     "output_type": "stream",
     "text": [
      "Writing data took 2.18 seconds\n",
      "Loading data took 0.87 seconds\n",
      "Processing data took 1.29 seconds\n"
     ]
    },
    {
     "name": "stderr",
     "output_type": "stream",
     "text": [
      " 99%|█████████▊| 70/71 [03:53<00:04,  4.41s/it]"
     ]
    },
    {
     "name": "stdout",
     "output_type": "stream",
     "text": [
      "Writing data took 2.26 seconds\n",
      "Loading data took 0.98 seconds\n",
      "Processing data took 1.34 seconds\n"
     ]
    },
    {
     "name": "stderr",
     "output_type": "stream",
     "text": [
      "100%|██████████| 71/71 [03:57<00:00,  3.35s/it]"
     ]
    },
    {
     "name": "stdout",
     "output_type": "stream",
     "text": [
      "Writing data took 2.09 seconds\n"
     ]
    },
    {
     "name": "stderr",
     "output_type": "stream",
     "text": [
      "\n"
     ]
    }
   ],
   "source": [
    "for i, batch in enumerate(tqdm(batches)):\n",
    "    if i == 0:\n",
    "        generate_refined_data(batch, first_batch=True)\n",
    "    else:\n",
    "        generate_refined_data(batch)"
   ]
  },
  {
   "cell_type": "code",
   "execution_count": 4,
   "metadata": {},
   "outputs": [
    {
     "name": "stdout",
     "output_type": "stream",
     "text": [
      "<class 'pandas.core.frame.DataFrame'>\n",
      "Index: 2024 entries, 0 to 2023\n",
      "Data columns (total 8 columns):\n",
      " #   Column     Non-Null Count  Dtype  \n",
      "---  ------     --------------  -----  \n",
      " 0   timestamp  2024 non-null   float64\n",
      " 1   mac        2024 non-null   object \n",
      " 2   map_id     2024 non-null   object \n",
      " 3   rssi       2024 non-null   float64\n",
      " 4   site_id    2024 non-null   object \n",
      " 5   type       2024 non-null   object \n",
      " 6   x          2024 non-null   float64\n",
      " 7   y          2024 non-null   float64\n",
      "dtypes: float64(4), object(4)\n",
      "memory usage: 142.3+ KB\n"
     ]
    }
   ],
   "source": [
    "timestamps = df['timestamp'].to_numpy()\n",
    "batch_1 = df[df['timestamp'] < timestamps[0] + 60 * 5]\n",
    "batch_1.info()"
   ]
  },
  {
   "cell_type": "code",
   "execution_count": 5,
   "metadata": {},
   "outputs": [
    {
     "name": "stdout",
     "output_type": "stream",
     "text": [
      "<class 'pandas.core.frame.DataFrame'>\n",
      "Index: 2621 entries, 2024 to 4644\n",
      "Data columns (total 8 columns):\n",
      " #   Column     Non-Null Count  Dtype  \n",
      "---  ------     --------------  -----  \n",
      " 0   timestamp  2621 non-null   float64\n",
      " 1   mac        2621 non-null   object \n",
      " 2   map_id     2621 non-null   object \n",
      " 3   rssi       2621 non-null   float64\n",
      " 4   site_id    2621 non-null   object \n",
      " 5   type       2621 non-null   object \n",
      " 6   x          2621 non-null   float64\n",
      " 7   y          2621 non-null   float64\n",
      "dtypes: float64(4), object(4)\n",
      "memory usage: 184.3+ KB\n"
     ]
    }
   ],
   "source": [
    "batch_2 = df[(df['timestamp'] >= timestamps[0] + 60 * 5) & (df['timestamp'] < timestamps[0] + 60 * 10)]\n",
    "batch_2.info()"
   ]
  },
  {
   "cell_type": "code",
   "execution_count": 6,
   "metadata": {},
   "outputs": [
    {
     "name": "stdout",
     "output_type": "stream",
     "text": [
      "Loading data took 0.34 seconds\n",
      "Processing data took 0.05 seconds\n",
      "Writing data took 0.01 seconds\n"
     ]
    }
   ],
   "source": [
    "generate_refined_data(batch_1, first_batch=True)"
   ]
  },
  {
   "cell_type": "code",
   "execution_count": 7,
   "metadata": {},
   "outputs": [
    {
     "name": "stdout",
     "output_type": "stream",
     "text": [
      "{'6e55c33d4bf94fc912546aa53df0a83e6cd97bc542e86141c4827ecb6ae4ab8a': <device.Device object at 0x1309eb250>, '211dcd244bd609da55415aa490f81a19fda9563ec324256fc2a956d11e119a28': <device.Device object at 0x13674bc50>, 'c806634ea9528565a397a6d8e2c6c11733892ed6c683d606dabf6942a9031628': <device.Device object at 0x1309eb510>, 'bf07a6f97d267a8841751725f1c270399910b53058b918fd2627a052462fc193': <device.Device object at 0x1309e9b10>, '074b3881ba8aa8155093cf20719051392f85885c03bf8bd5a23337f6bc67ea3c': <device.Device object at 0x1309e8350>, '71429fde930618013134ee44b3772509984ef0bca4d5c4e184f6fb83bc2badee': <device.Device object at 0x1309eb2d0>, '4da56d39adfea01ac46c912bf732c08d271a6543c01fe49254c52d759334c644': <device.Device object at 0x1309eab50>, 'c9aa0012377f51e02779d5ed023d9c01a773ff9055e7b093e77088ab2cc98975': <device.Device object at 0x1309ea390>, '30cdf56e4a5e86369a59e0ea9970d979a9ecf963916e4661690edc203fd75b3f': <device.Device object at 0x1309e9b50>, '7d5871548129928e87a529382651215324425c7f0c39b1f3e3c7b7fc0475b77e': <device.Device object at 0x1309e9390>, '6b04bb07dcdb1b5d610e894f41d0777f64523d449f387614a984ee05ac00a385': <device.Device object at 0x1309eb310>, '1b65f2881e2c7f35917c43d23d5af5b30ec93bf9ebec52523b74467aeda512da': <device.Device object at 0x1309eae10>, '8282b1205d4fbcd588381f5e88755bd87c2a1d94f3e0738d12e5d2d407f69cc4': <device.Device object at 0x1309e9150>, 'eb2c99a03ade81054fe21340e35681a3775266e2c5722c4379e7f5bbd9618531': <device.Device object at 0x1309eb110>, '0afde2c2fefc6a2307b9c0bbee7e61f44cf2c363aba467a1c29c504089df9348': <device.Device object at 0x1309e8790>, '1f4a6de34f5e9b81cdea2292e23de3721191eae11200babc4fa3eb9c656b14de': <device.Device object at 0x1309ea990>, '14dcaff9f3b920e4628cfb0edda242e7e4bf11de3f95fa2730e39baf9e2fc269': <device.Device object at 0x1309e8550>, 'cf12397cb3f80dfc8980d63a63ba038bd78cc328040617336a20d87b6c6cb9e0': <device.Device object at 0x1309eb410>, 'e9b802dde9710ae5f3fb60f12bd5db2fb75934ec46cc7ec103a45b61fd356c0b': <device.Device object at 0x136757fd0>, '1ef6959723e3cc8ebf3abe902849572be36fb4000c3fae5a6936136811fa6563': <device.Device object at 0x136757bd0>, '54d3fc49e9ff1d8b3588108609668f43d010434e8d17e1b54ba91662beba9ea8': <device.Device object at 0x1367577d0>, '0e40855771868c610152c5c67b29b3db993c7d7d2e521f9c2a80ccfb694fb138': <device.Device object at 0x1367573d0>, '3e8f541c9c93d283aeb27fe493a14014ac4bb56d405e508aae4ccd7614b78d0d': <device.Device object at 0x136756fd0>, '501292ace5af86152229892090d81f8191beb1229f8e4e4e3b1580e9685c38e2': <device.Device object at 0x136756b90>, 'b5650501c32ad2495dee82fecc444be6ca3b367c9b678bdc700701d7fd1787ca': <device.Device object at 0x136756950>, '377bc6d272242b4dbc487f0ab26a484c76e9952c6f6ce2be0ca51e6e56fda91d': <device.Device object at 0x136756710>, 'fcf25365f6e7245c45d2eab14e6c432ee680d6583370f424ee7fea24b84605a5': <device.Device object at 0x136756310>, '268868f61b1c074779504314f05787bdd091c6a1bafa30d0f9183c6745f510b9': <device.Device object at 0x1367560d0>, 'fbde7ddea48a2221cbecf291e803525d43d1d5e4abfea5fd0af99b6d1869edc1': <device.Device object at 0x136755e90>, '58532185d1003961bb8f7180613b201db24ad6a7e881de0951888d8fd9a61336': <device.Device object at 0x136755ad0>, 'c13f03e40d6504d02d067cc6a8568d5342d8139cb154798aeef661575bbbffc2': <device.Device object at 0x1367555d0>, '2b77da2236155103e19a52eec992905d94c931cc56bed78e80ca86a16a03da2a': <device.Device object at 0x1367551d0>, '860dac8c4f0a0905a5c5dea04ab98e4896a41f668415dff9bcc7941e3ec3e3cf': <device.Device object at 0x136754dd0>, '3cbb6947ab73424d42b79d2ca2db1387431b386acb784167c78ce809427d920b': <device.Device object at 0x136754a10>, '4a96b2ea0d2fe671e1c5de9f63ee6fafae3c0db35ac4ea2c4e53c6edd6a63e5a': <device.Device object at 0x136754590>, '50917918cfbc63745c7b30fac9ed2449909526a024da231f6970ea6d4a4279b3': <device.Device object at 0x136754390>, '935859c04ee9463026e54420d20d57921d107431a236bd61fb3a915b3015f484': <device.Device object at 0x13672bf90>, '8f0edaf38dcbda8dc0cac9b4528e0b9cffc2fd62874d6dd40b3550a017940fa6': <device.Device object at 0x13672bb50>, 'db89bce3ff006b88c064a8cccc358e960bdb2c92eba04ab65f11c91579e45d21': <device.Device object at 0x13672b650>, '71c8e89e704f51e99a8f8e3d709d4c15577fc76cd7abe008d3770d4c42c3c06d': <device.Device object at 0x13672b1d0>, '070cd40f5bc2f5dce6c2c74bd767cedac859027b72919cc5617f0156475941ff': <device.Device object at 0x13672acd0>, 'aef0a0741a93a5276568c4ac254e28a2ce521cef8eae1cf1ca3286afcbf19644': <device.Device object at 0x13672a7d0>, '350dcbaf600dfa9953a829477e67fb46aee5137f94f8c43860e549b858ed8135': <device.Device object at 0x13672a4d0>, '35233e155ed85344b5da8ed782a21f8b600938bdea77534685590cc5ee3a53bb': <device.Device object at 0x13672a090>, 'c613b69e77e9f26b465f59b4c3fd369eb34771f2c09a16d1f32feb7e58558871': <device.Device object at 0x136729dd0>, '85fc25ad0f5eddc469ac3abfabf9430cffa458b912f4f3fad7dfaa050571be23': <device.Device object at 0x136729b50>, '8d310d2cea7230d89833481a7da59878e820f38389bd39291d15fdef7b653deb': <device.Device object at 0x1367296d0>, 'edec740034c56064c871ca1e5d227d5f711689a7ca9840665097836afadd6317': <device.Device object at 0x1367293d0>, 'a036193af4d1e263a9c2176d0ce68071994d4240e30b6f28fae5a5d943ec55ea': <device.Device object at 0x136728f10>, '7b1bb978999daf86292fbbbab16a7872009d556762a0e61d81d92ee950ebcfa4': <device.Device object at 0x136728c90>, '7a05ae921e3fc85ac32fb768ee17775888b2b13e4131b2b7d5548cbaf345a2a1': <device.Device object at 0x136728790>, 'b0963a39414028519932278d3518ea405d4abaff66258b67f4b93d4b466a4e9a': <device.Device object at 0x136728310>, '31fa19018f3dc9db8b0e63f7ba8fb417a4e39e9de645771e4f18e7a53fec56e1': <device.Device object at 0x136707f90>, 'e11ae3801832724a6650c3d355a162ad6d196cdb50840e6b8bdd955600026d45': <device.Device object at 0x136707b50>, '9482093b4ab33af2f19435fafd876453e568fd45a7e0cdfaf85fe1d48ed8f99d': <device.Device object at 0x1367078d0>, '8f6d9eaef1dcc269e4ef3bc33820b1347b57c3340e0482002784084a2716015a': <device.Device object at 0x136707410>, 'c3486835b2e2861fdc18ac7a07640c2f4985e597fe82b3d9f2a549549ee377d4': <device.Device object at 0x136706f10>, '643ea973951de8dfba8126e320957a992dc33fa12269747d28fb9b87e1572320': <device.Device object at 0x136706c10>, '966299beda4a0d3fe74e79b8c0303b6e1031b28af533a0ba3d5ba00aea4808e2': <device.Device object at 0x136706950>, 'd461c907a0cecb4d223b78ae61ed0f13f82124942604e966fec20064d5275f95': <device.Device object at 0x1367064d0>, 'a7e91e4f19b188ffd33f92de355e258ed999edb7df7529e1ecd0d52c367dc88f': <device.Device object at 0x136706090>, '299e1364c0b09c4bbcf0816696d66d0d9d82102dfdf6e0e241c96c90f31aed42': <device.Device object at 0x136705c10>, '7e120d2568511867b7454b6ecf0a099348be4bbd2a55a665e04629df3ff67f16': <device.Device object at 0x1367057d0>, '32b0c1df1ea6e49916c61c863f395090498e7a94d6f39c1d4d65ebfe59c7b665': <device.Device object at 0x136705250>, 'f8abc4915d7114274381708eef3a6f92808e48aa015bbf1d6d5696763a90d34b': <device.Device object at 0x136704d50>, '477629c00e7576b1568dd84a7ecb5c14599b23cab879d523f384189be4369cd6': <device.Device object at 0x136704ad0>, 'b85d175dda7850a4758b7dd097d9d13626952593683cee671d060fcb4fa8a562': <device.Device object at 0x136704690>, '8671dd6d87e8c093d4da3a4adca475c0bf64e29d172397a6e662e9f00cc3cba4': <device.Device object at 0x136704390>, '4f7b640af26fcb64b06851dc0ac6dff1170d366d3ad4c442369128f009ee7230': <device.Device object at 0x1367052d0>, '786ae51bf84d1b1f08e4a920041bfcfedc367a47c9632b2d975cd2d52e56e090': <device.Device object at 0x136717c10>, 'b1046e62c9bec04643d97bfa820187b38fdda63eca23dfe985fad7c75bbe7cc5': <device.Device object at 0x1367177d0>, '6915527c9e8dd87165cbc8b97ca73eb2f9eee75d710bbcf7bd36742499f58bc7': <device.Device object at 0x136717250>, 'fd6b0696469484cc68f6bd92f2fb8aa66ed2f38710780bb26464fa378729b538': <device.Device object at 0x136716fd0>, '0b0b41a5751f7b9b88857b20a8d9c1d55fc17cdbee4e0fbe0de997405612d6df': <device.Device object at 0x136716b10>, '81160a44182d271994c0e24b5835606486733083f9cde5be70f8271fa0b929f9': <device.Device object at 0x136716810>, '1e706f7007926353d9b28f3ed32c786753613c04c13edd2442f9a039d5abccfb': <device.Device object at 0x136716350>, '3fc2f5ee5c5836acddf2fc5d6ebec7fd99adc553960e418704954a2962444730': <device.Device object at 0x1367160d0>, 'b12c888f0d630da5622e64df43ae58b880b00ac1db627fa47939144256a829af': <device.Device object at 0x136715b90>, 'ebf8794edf03528df45d02d04ed0e3d7f3f4ed7a6110bbc0c1426970ef82d02e': <device.Device object at 0x136715910>, '4759691774e882ec4374155bc8f7438a799794be1c1d5da8a974372b931b9062': <device.Device object at 0x1367154d0>, '749737a3986d0b56943d8b583d082e842054e4bc8cf5c542d1eb083c24a7c120': <device.Device object at 0x136715250>, '2c9f7d963bebf83cfab834ea0e2380946169526193ebc6dbc1358dcc57e50b26': <device.Device object at 0x136714f50>, '5ed82e5a60fc98a4db48861d42374fb09dcefaaef25380334b93288eb2725ad0': <device.Device object at 0x136714ad0>, 'e17161525ed62610341fc94c6637e2b8200f9d1e075a0acc64c980a7d4f26b4c': <device.Device object at 0x136714610>, 'cd68d0f41ddfae559989eb6fdd4f732de8139e702bad47fc7fbc7481fb15b128': <device.Device object at 0x136714350>, '4280bd43bbfa3736948f52f9499ce30a78196cd69382b615b4d3666d36f95ed3': <device.Device object at 0x1364f7fd0>, 'b51261812144b217bb62c41824ecf18f697f4581c0009b52c8d79a0a7e2c8ff0': <device.Device object at 0x1364f7d10>, '164d1fa8a3aa2dc6b0d55f53535ce6c00a44f7b19195543dbd90666b4f2207c3': <device.Device object at 0x1364f78d0>, 'd8c6008b7d25e8f8a47ca8823e0389d5bd79b9c68024267e2bbfc6dda935f038': <device.Device object at 0x1364f7410>, '2aeef494d2ab9448b25d69af8144517868f8cefbdc37a7a4fd952d0a8ce7297d': <device.Device object at 0x1364f7110>, 'a8c2f47ee501fd56246654d43de47a1479a0a07f0c64bb2089af7f5f44816813': <device.Device object at 0x1364f6c90>, '90ba2902ce8a74c3cc357e30da7b6ae5bfcbdf9097813213310cf4327e0841dd': <device.Device object at 0x1364f6790>, 'c9536728adc6bfa1f69313e38a5ff81e8af56427d4b329f4b18afb01d11d1a25': <device.Device object at 0x1364f6350>, '1d9ed7f9a0f7040a7c900029fb305a724c5ab6b6566fc87858d1424fa4bddc41': <device.Device object at 0x1364f60d0>, 'd6d5ccbd5dd36185a97bc045560289bf2fa612e9c4601523c64910a9aca14bf5': <device.Device object at 0x1364f5c10>, '9eaa581baa3a6804bca272016b7c1b1ca339c733e0b9e03b726dd604779ec622': <device.Device object at 0x1364f5690>, '003ee87844800656c3a1ae11b3ac03461cf0318f73f92235721596fd0488e710': <device.Device object at 0x1364f51d0>, '32bf853bc8ce9f37ed45d36b1733d16dc310ade39f46e1a563a29f0ae5f93550': <device.Device object at 0x1364f4f50>, '67a9a877ed8c723586d3bc2452c0b9e9556d6c822dada411026bb8042784fc66': <device.Device object at 0x1364f4cd0>, 'a1967192db06b424f145803674520345f27ad7f51afca6fd78d472b7b376625e': <device.Device object at 0x1364f4890>, '6d91b27238741e16206a7c3bae8a7d0489b468c1f486143e527f91a761efc11a': <device.Device object at 0x1364f4610>, '35e946f294c0e554d99b67159e632f403b31d9ba6b806f73f46a4c7ca1a9441e': <device.Device object at 0x1364f41d0>, '52b8b0a54e76329f55246bef9b3d36b6777682fa43281e15c92378330e42aca6': <device.Device object at 0x1364f59d0>, '6b514813883637cac206416a8eebc117c6ce213fbd60c9ac6e6ae73e9e0b52c2': <device.Device object at 0x1364cfbd0>, 'd7ac14a62b3974a3ceed60d45d6e4e72dae0099da5521bfa579ec03a0ae8d3ac': <device.Device object at 0x1364cf910>, '79e72bf61b95f9eff67932cb16cde1118db0bffde1e3a7dbf6b4d805e0311afa': <device.Device object at 0x1364cf650>, 'c554bf424fded99d6ab7fbfda16b39f31dfb18e2757b4132b6a832d5a8b597c6': <device.Device object at 0x1364cf210>, '424f8b453d4661776f8aae31c0a4bb9e1dcd9080c1bd405325aa6e9dda1eeb6a': <device.Device object at 0x1364cedd0>, 'e133d04e6edff92d08d6daf2b36d26c6c3ee06be2705b68eba4676c2cb17a9cb': <device.Device object at 0x1364ceb50>, '62977b184340709d322e6107ed13f89536e8b14081a41ed3075ff0f5a2e1a191': <device.Device object at 0x1364ce710>, '295e3311e1dc7fb1d8ae7a9e28265ae8b9a770634bed57825a4955bd3bee2a8d': <device.Device object at 0x1364ce290>, 'dc0a9e7853d1d0df3773d2a37fe77e766998623f32cc244c127ab744540d06d1': <device.Device object at 0x1364cdfd0>, '8f70f473fe4fa6d43073f47d3268e690b09b2ac71265d7edc2127bd05bb99a9c': <device.Device object at 0x1364cdb90>, 'ff4c14d015e8e344cbd33c0732c3839b764c340c806eb3908369f27ddc58768a': <device.Device object at 0x1364cd910>, 'c96ab1b54c0840dffe38526c78c9ba88d41ec40f0e43a368d6db2f12e4b9ff35': <device.Device object at 0x1364cd690>, 'ec178612a348d2849c247dbf14c2af912ccb32e6fc8f17fcf93a283828f36038': <device.Device object at 0x1364cd1d0>, '1ae512e3f60df2afba36bfb072bf57c2a7bb06c088de701bdfd06009ce3c3363': <device.Device object at 0x1364ccbd0>, '5ce2b0cebe65dd20ef60e060d435f123ffaa0b0709351f10b0b123793752ebfe': <device.Device object at 0x1364cc710>, 'b3226f927d1fd511d452dabae876b2d8d1cefc679a97c6186dc1102872fa10d5': <device.Device object at 0x1364cc2d0>, 'f3a5c9d48ed634a92281a7a750ed8f43f689522748d91ba7f26f0726bffd6646': <device.Device object at 0x1364dff50>, '4daf1c78f0916e8403078f1094c13a3c0dbbfd208cda56f84d5b686acefa0dd1': <device.Device object at 0x1364dfcd0>, 'b85354c8cf153958884c58d7eea7f512a2a9f242417dbd05b8b1cc3256c2a8d4': <device.Device object at 0x1364df810>, '2dc3aa14906408c742da4539a43e20c470268070c05ab598accb487a32fff1b7': <device.Device object at 0x1364df3d0>, '5186e7ec2ffcfa49f330aff089facdeee4d9e8567a81b4193b51b23e01c3e643': <device.Device object at 0x1364def10>, '0641d58a5fd8cb5e73ccff55e18e26ad5892eb54a5c879876e5bf3e58cc12596': <device.Device object at 0x1364de990>, '87b94feb1d0bc42a49d540dc1440ffd8e2e6b9c9a3c026f2d4a920175ef2e420': <device.Device object at 0x1364de710>, '8bcaa8d32db3c4ab64ab86c8d4e25e75cf1ddcbe482d2cf86623b5c9e791d691': <device.Device object at 0x1364de2d0>, '36c59e0ff05b2daff6fe3b5819f0ba48008c2b7eed36af385764cd3ee2c437a2': <device.Device object at 0x1364dde10>, '7c7491393925e649fa4ead2345d8df547770d03ab30929f1e5772cfc6d777d10': <device.Device object at 0x1364dd910>, 'b4eb4b20432bc4fb50ddf1ee52be9666f75195efc4673fad7dc054167ca829e9': <device.Device object at 0x1364dd690>, '48d8f9ed081f44a70dec99b3b08d9a487e1d339d1ea164f6c1acebfee404d188': <device.Device object at 0x1364dd1d0>, '612c0d89be9d28ebc71c024f2d827384b64a908f03ee5e1ab41932d579f2b0ed': <device.Device object at 0x1364dcd50>, 'ec2d09996f92d5f2806aca1da001ac995242c7f4f5c96ec90b107041ca6dbc77': <device.Device object at 0x1364dc910>, '7a113bef326078c28231f0724064658c775452b7ba704442301a0daa48e7c1a5': <device.Device object at 0x1364dc410>, 'bb0d1cc74a7de7067dcf4bec8ead4b2f42d07862e48e3958e379492fdd0ee8c2': <device.Device object at 0x1364dded0>, 'd9accd9fcbd78b69ffe0696dc463529435b6b149f1682be41c6920c643e413ee': <device.Device object at 0x1364afb90>, 'e8fd90bef17d5e281fc9e16133ffce59a709999976695dfb2adbb92cab225825': <device.Device object at 0x1364af6d0>, 'ad50f129fb50fa133be387181f123c1fdc8d6eaf4adf83a3a3082a44fa86b99e': <device.Device object at 0x1364af210>, '6984468757332d974e3ef4d99f58ee5b7d6caf41ff0f3462656a9bbca7d493d5': <device.Device object at 0x1364aedd0>, '027892cfeff529ba8f595e6aa3afe9aada01e7f6861a001ae7239a9805f20f03': <device.Device object at 0x1364ae910>, '686801be15b68c9510bd01ee1c67428ccc96b072eaed3c6a0ed89b1ee114dbfc': <device.Device object at 0x1364ae4d0>, '44a0eb4b65b84815a3a7180442b161913f5e1c46855d3da42d0bbddc02e7a44a': <device.Device object at 0x1364adf90>, '7408d677ef78a897ecdf76b22c2533365db1b9a458b3d16f4f562c529081f759': <device.Device object at 0x1364ada50>, '9ec91d9b03fec22ca997ecbcc9b9dc0159b8077f5b2e49c5f927f3516ffa093e': <device.Device object at 0x1364ad4d0>, '465860f487758e013d8dff9b1289f70b5671eeb2f5bf2917a25faf8087205fdc': <device.Device object at 0x1364ad250>, 'e9b7d5496060da483185da45d64b00def02dbe244e90879dcad987fcf24c5457': <device.Device object at 0x1364acd90>, '817f431721a96834632d5dbbfeaf5fd949a1d34f7f2af41fc166ea3befdda2ca': <device.Device object at 0x1364acb10>, 'f0db0df6dcbadb92405ce886810b363fc34d920c2044880445a05b1235273489': <device.Device object at 0x1364ac650>, '825671db0d84a75c8c4736d382746fa7169bf0a33d7d923513ec8f452e4da0b7': <device.Device object at 0x1364ac210>, 'b845dfc4e4f5389f985bdfebd2d737652f32c4c02445ed5705e9495eca6af90f': <device.Device object at 0x1364a3e10>, 'd58c0c08a76cd3fb953e458fd9c2529119e6a98e1e86fb459dc72e08a3831254': <device.Device object at 0x1364a3890>, '1dcce40e505ce51fa097b173cc8b32124d3a505b15800f7c754614a79412b850': <device.Device object at 0x1364a33d0>, '77727da84d4fe39c63b494aa4b1c3d78fbace87a470ae59d8c2b63f077d9a961': <device.Device object at 0x1364a2f10>, 'ecd10fde9c541879c5ab5d17575c386e6290e9d03fbc3c5eefb829ecfa7eb7f0': <device.Device object at 0x1364a29d0>, 'eb3fdb65fdc974208bf5370481c920f5438bfae121e1f64200714933cbc7092b': <device.Device object at 0x1364a2510>, '6db189ef586c35e6619bf0b53adf1ca7d127d4cc030797bacff6c7310389c975': <device.Device object at 0x1364a2050>, '86fa26bd8080fc49866eb85aa2f56720bc4c53bb78f6665bee9f6c33068f6020': <device.Device object at 0x1364a1ad0>, '1ffa24bb8257092cb337656171454e77b36a9d88dd1bff3253459a34d6a8f80f': <device.Device object at 0x1364a1690>, '4fbc7ee851cc782a20e7d17b9134ad59fb31f993cb20312dbc2ef7c7b7975529': <device.Device object at 0x1364a1090>, '1db7149c3fc0966af3ae114f48a9751a88b29778a0b16003ebef6dbce3340026': <device.Device object at 0x1364a0bd0>, '97b06dab53e8e927ecca56466d5eb9f23c66eca2b153b6b9ff51b56aea4c9086': <device.Device object at 0x1364a0690>, '7d46d6cfccbb79190ac39c204ca65a24cc8e375f3123454265f0e305e4853bbc': <device.Device object at 0x1364a01d0>, 'c39b70b0adb6d67e60ccef8b86d86bcf327581005aeaac1b0e92189992310150': <device.Device object at 0x136487e90>, '0ab9dedde65c5dc15f340296d933e22301887c91ebcaa4c013950f5bd88ee28d': <device.Device object at 0x136487990>, '41eabca6382e61c5822abddce82e64746853b4bd66282a4b83a3ef56680f2216': <device.Device object at 0x136487510>, 'f34dc9951d0a22e5df1a8914b82f328f48771e29e7532630f9fbc259d9454a7d': <device.Device object at 0x1364870d0>, '52cb88749292240bb0b287e391c6ffd2ad1ec755cc3aad069f0c2ed4e67e61b4': <device.Device object at 0x136486c90>, 'a39a4c53657ea814fc7b64dde9cfe4e740019d53e4c13c9f78b61202db6f34e6': <device.Device object at 0x136486850>, '392106fa73225eff55f33d75c37cbfd62db69a7b698c12eac764e9044ce45770': <device.Device object at 0x136486410>, 'af6e6563056d696e5d31e572648365097506d6c4fa84c0b5f0ce362c44e48cc0': <device.Device object at 0x136485f10>, 'a9da41ea11ace34e8ad5edf0532fd67dc2119d5626fa59ccc26198e2aebbd9c8': <device.Device object at 0x136485990>, '2442d519eb654b28d2d269264878a59c7d831de456c890f496a5c39cb7271abf': <device.Device object at 0x136485550>, 'e4c79eda2b64e2efda366cbd15d458080ea8015a7e638c5d07e21b002ac7d4bd': <device.Device object at 0x136485110>, 'bc085cfdf5945811753a3c0509e34b5988c55203595953d2d3c4f873bb02f24b': <device.Device object at 0x136484cd0>, '3cffc44a7b67f6f085f085e4a05170e2e4ce483c08992451e610f87bce124c5f': <device.Device object at 0x136484890>, 'db4875743de3ae8129a42d36ad528e5310e2e4cba5d60b849010e23cb16989a0': <device.Device object at 0x1364843d0>, '16a98a52f3e58c1b4f6bde44798da8bb5cd311cc7d4fbed199ca5806e6ab15b9': <device.Device object at 0x13646ff10>, '0186e0a27efa244fe6b59145570177507bb2ea8965d045b8c88a116bcd557deb': <device.Device object at 0x13646f9d0>, '46da21bf8bef85998fa20b61e858163015f61ff8cc1971ed29cf8def8d28f1f2': <device.Device object at 0x13646f410>, '8a3234b951d0a721b56dd90655f2561e887259011238cba992a4c4e751a71087': <device.Device object at 0x13646ed50>, '81f7e548540574428b4f6208ee61d517cbbe9ddcc2b5f2493085b9687f0d9158': <device.Device object at 0x13646e290>, 'a393055f662e050d2104ca036bc8dd7e640297ff4512303cff19102a63762226': <device.Device object at 0x13646db50>, '149700781a29a99798c82f47c78c9ebda4af6293d2ebaae2c2041c340e6f4e72': <device.Device object at 0x13646d790>, '858059e3ac9e71414eda91efc85b4b15741cd21b7dd326735f2a49a24fe788b0': <device.Device object at 0x13646d310>, 'f11acdce1acc6ef044c07c09d1bbbaa5095ae2c72f143d6b3405def15b123166': <device.Device object at 0x13646ca10>, '35758dd7671468e220d1c9982622c57e4933d4c831d4c819f65ace1a8d6543fd': <device.Device object at 0x13646c1d0>, 'cabd8db6cf8bb728d2f2326982bb329d781020a544664b809be4d5e99c97e9eb': <device.Device object at 0x136497c10>, 'c4aafd0004a5d195d5c544d62a1af66295e0b29b30abc528d14e0a3d7cbc1af7': <device.Device object at 0x136497310>, '86ddf343b471cc2438b5cb714a70e41d104e1e230b570ae6634e83df34e883c7': <device.Device object at 0x136496bd0>, 'b34098287effeff1c60af6d072a0da2f207b434efd6e62724a16a90dd0ee8fa4': <device.Device object at 0x1364967d0>, '172b64533abfdf590923d7b88d3fab2ecb17a55648d6c981c38cea3ca6d22bca': <device.Device object at 0x136496050>, '1b74ca5eb9a5dbb6da0bec54811355adc2caea9733d160e3973919d50f1714bf': <device.Device object at 0x1364958d0>, '2ab9690b445bb8d9d3d15a6b8d8ed8646cda084e05065c844f8c32d0f96758f1': <device.Device object at 0x136494f10>, 'eedd0810279f3e3c2f1fc698827ec110f4ce5a4460bace6b3d0711daac29b17b': <device.Device object at 0x1364947d0>, 'fb23192e24fd9d5ed68d2e354ce7d765493be8decf1992fb10979c84983616b0': <device.Device object at 0x136494410>, 'ac6a5735718e633cd098d0996b3c67275d86dde6ca007f2eba704f6089c997bc': <device.Device object at 0x136495e10>, '9a68882c6f89d5032ad572a24fcb77c0d681e26181db7d07d593f10160012ea8': <device.Device object at 0x13644fcd0>, '1822182d9967ada3cd2dd044f79340e263f8fa664d60f178f135db241ac9e9ca': <device.Device object at 0x13644f910>, '1e0970009f01e7a839eb22c555fc2451a263ba26b080d4c27362da480ff4fdc6': <device.Device object at 0x13644f550>, '1f1774e63092fe6728c1d12de2b3d21db1c089f03ec267e2e834adda5373c32c': <device.Device object at 0x13644ec50>, '0065c8356b368fab27196baa2e973c31584f4e7409d2ee4fa07aafeb56ed3a65': <device.Device object at 0x13644e550>, '4ec8ecd7a30bcaa2ad09d0cc463abe73db1e7d19085d9974e3056807873acae4': <device.Device object at 0x13644e190>, 'a39a212b3934af33e1db1c64e184761de0b555ad104314dbc8806d299a49cbe6': <device.Device object at 0x13644d890>, 'd9905e45d9f01b1c87e999aa8f7ffe1bfc866929e34e04ab98346944243ba752': <device.Device object at 0x13644d0d0>, 'd9470a4657cafb3acfbdc074e0a3796ca92e29603d84748a70b9da33bd0d22fe': <device.Device object at 0x13644cd10>, 'ecc823e1ad98cc1ccfd3beb5dfc64230391d1a1adba8e06659b58d2049353bdb': <device.Device object at 0x13644c3d0>, 'e6955a7b9ddbca0e0387df3d46fef29e2cb44113d9862d4466af3e9efe9b98bf': <device.Device object at 0x13643fb10>, 'a30893818e5effa063cae643bae26ce6aa33a703eb82ef4c483c7e2ce2661b45': <device.Device object at 0x13643f350>, '65da1baa5427e24b0bb069fe9051e2079bf933b426469e8d0dfbd6d90d1adec4': <device.Device object at 0x13643ef10>, 'b5e9ce61a77d6e26c825edc9e2204a326733c7f4be3ecb004d0ed9abc265b126': <device.Device object at 0x13643e610>, '0b6af040aa36006a854c283be7bfd72c83f2abd955535b7183efff40e6ed639c': <device.Device object at 0x13643ded0>, '2e3e3f5bad5325b2f5cd6603966fe772c31cab81a77733c4e4584e86f10490a5': <device.Device object at 0x13643d790>, '6416a0f71fbcd034d49c73dbd6da23932b8979e739d2f2a5439c40a2985307f5': <device.Device object at 0x13643d050>, '0630dbc00dc718a02136ca74ea8881233f355b5ebef31d72c6d7ffdfb54c6332': <device.Device object at 0x13643cc90>, 'f8d52745f2344b3d3e605e3566128741cc9a6363652c23db86839cd01f6fe7ac': <device.Device object at 0x13643c510>, 'a634b27c9c1d8ba0e4252f19de5f19c72180b8dd684c7a8f40f3adce639e0deb': <device.Device object at 0x13643c0d0>, 'ef68a5c583535572c7cd093c8430d839e180208b527ca8c175c839045d66fc72': <device.Device object at 0x13645bd90>, '090b32cea39a931b3aaade485b2db6f81876e48f3740fef633ab9164260724ee': <device.Device object at 0x13645b6d0>, '5f54cad3437690565a353b037707345b590ab2b43c7c93f4a68b7e8e068ef880': <device.Device object at 0x13645afd0>, '096619d6af3794667a783c674fd26dd0c636b0b7ac914b39082ecce09e8e35ca': <device.Device object at 0x13645a8d0>, '04acc6107e228110584a51c82cf273824cd742b41d9a77a1674b9ea252f8a2c7': <device.Device object at 0x13645a450>, '4d39663f3065bd8e098f3544c770eb5453ac3dbfd23bfbbecd23f9dbb2af9aaa': <device.Device object at 0x13645a050>, '6a12cc669d4e637dbc7308fe0f06ac9cc0509224c207d6cc7ba15d868fc91986': <device.Device object at 0x136459990>, 'ef684de1d68e9035cd4acb241d9ccffccddfec5d89902070d1d2bcb87bc54bd1': <device.Device object at 0x1364592d0>, '606f570416c33b644fe9748baf9c7a108edbb45001147e1c3f6b77a1688c328d': <device.Device object at 0x136458b90>, '4dfcbaf87b27961295e208a02e94ee12f62c64ce33aabe8aaf6a0beb17d43706': <device.Device object at 0x136458290>, '49139edf92ec493f9fc27d68fb0fa34d05f84a9bfae3394ae597444c9d330301': <device.Device object at 0x136413ed0>, 'd4167cd9663f81671e532c21ea8b463efb6661054c45485aa1a11c8aa3c3d6eb': <device.Device object at 0x136413790>, '12b4a69dcbbff2266d8449a7c5b776a78fe0d2470a67015912db47e43572a520': <device.Device object at 0x1364133d0>, 'f338cb41e98411fd6221e98f85d2313cb49e230ba5c5fd2b8b3e856bb5553c45': <device.Device object at 0x136413010>, '66740b0c1139ad0e0dcafb5d11a309ff1885cd436a7ddad727c219ee44ae5da1': <device.Device object at 0x1364128d0>, '9e3540abb9e0301348e8bd1c4d2d987c25a02754420787557678326e3b4b9ae0': <device.Device object at 0x136412510>, '99a8e66ce940120074b7f8bec96b77f24940557a836450673b52b6ba78e62a46': <device.Device object at 0x136412150>, '4172668ed8dca625be4528e34ba50d6c33650acde2ebb17cf45dc29790f5c0de': <device.Device object at 0x136411d90>, 'ef0a18a7ce104748a95ea54f850c79a2b779b27430a347a57625a0ae3495d990': <device.Device object at 0x1364119d0>, 'a19a12d955e1af9cd0ec66d3c04d6e001a8493d750dcc73a4bd9a6d1c7b516ee': <device.Device object at 0x136411610>, '3e62c0165a371ba1a811bd7e4fa3e729c1f0f7d4a4e705dfb1798a660300d745': <device.Device object at 0x1364111d0>, 'faddd5eba2d76300058edf77fe9e4435effb00ed21368e227e8124cdc8eceda3': <device.Device object at 0x136410e10>, 'f477ede116f1cd85ca61c771c2692fe1d6bbdb030fa366afbbde312522aabcce': <device.Device object at 0x136410a50>, 'a27ce5b2618c3cf3fecea2ada26fa0d47b0df81ff25b8ab3e6ebf143062744cc': <device.Device object at 0x136410690>, 'a0151f8115a031d7735fcd1aa4965d89b49cc7ae72110f71dc82e273316e29a8': <device.Device object at 0x13642ff90>, '162c8d5bc034c906209a37587eecdb40f4fe739143b01dd86a3f7a9acca36427': <device.Device object at 0x13642fbd0>, 'd1ddf52352aa0a390c18a35aa97a0fb799d1e49f13637fb3b9b6293358386642': <device.Device object at 0x13642f810>, '59868cc0aabb07b19b547df021a06b068323853b36cad71e6478055d1873c984': <device.Device object at 0x13642f450>, '6f24b06f8188fcbd815e754b87faa6fa513e16dd747b926ddf30982be04912f0': <device.Device object at 0x13642f090>, 'd8f702501acdbd44f9ef13472a3ba75c16ca1a98cbc0f06df4688122c2fefddc': <device.Device object at 0x13642ec50>, '24e64a3eb9e8567c9be7c2a7e48465fb064dbc2b3ed5226d4121c743e9dbe833': <device.Device object at 0x13642e890>, '0a512dee5c6142e03bb570c03ca9c085908a7dda0c1b2df5022665e6ea30d4e9': <device.Device object at 0x13642e4d0>, '3d16b489d7e07304fd5e79f9598c39a907f4e99dcfc0a6a899a4acef0e640bcc': <device.Device object at 0x13642e110>, 'fd98b09520ef6ab1fbacec8c26cf55dad9eceddbcad1934c349df8ec62a624b7': <device.Device object at 0x13642dd50>, '56b999a37649746ba49b6f3bbef8d6e1c1adcb3da9067517b6d2db15b846463b': <device.Device object at 0x13642d610>, '8693ae3e4336e5cd114466dd9c1325cd758464ccac9b5764d205027875acac80': <device.Device object at 0x13642d250>, '076aa2736f6f2e0b781e38a8fbcac8ccd706ce0ae0454edeac31f91f21a03998': <device.Device object at 0x13642ce90>, '50f55d48e9f2d7ee40aa6dcf29fd93d59f3f7cccd406206d0bba2213dd0b5340': <device.Device object at 0x13642cad0>, 'e37ba1b762ce3d0f23983b31deb3fdd569f061d0915e13dd2de6b346d4338f9e': <device.Device object at 0x13642c710>, '961ed67b264e3928e61e1a71ce64ec1aad6d0128a97b72cbc113db81857d0401': <device.Device object at 0x13642c2d0>, '9c4a26858920e69158239a48925797df69a136a33eda2f2e77183a6249ddef4c': <device.Device object at 0x136407f50>, '84fd0402eeef3d64852a53318fe3fc4e2a84df987b93ccba24b3992708a1b3be': <device.Device object at 0x136407b90>, 'd10169af79cbce9ac1d3fa02caa1b304daed2a710f06e90cf66418965eb859cf': <device.Device object at 0x1364077d0>, '4c9e856edcfaf95b0ef8279259ad84201feb2234ed8f16d100950ca480f74dfa': <device.Device object at 0x136407410>, '8c846b2c6ea9313cf4b8b55b18700ddc083eb4a94effdc6f9927118c62f5033a': <device.Device object at 0x136407050>, 'd21f24f1c1c6f050d382c718153bd30b0b8b16ab9d9c660a0575a743e0d0d638': <device.Device object at 0x136406c90>, '0b683099f9334bb238b4e98eb3d26918fe65884ea22411dd946ef7b93e0187e0': <device.Device object at 0x1364068d0>, 'bed109e5baf85b682c00af9eb92d8bb95667c77b6268c414292db38deded7209': <device.Device object at 0x136406390>, 'e0825b2111e591cc273dae00891cd7eec98cac1dd9940592d3d8018d95ca6df1': <device.Device object at 0x136405b50>, 'ac34e0a71b5785dced0794f2819d94de8a48a24f26991939851ed3da5382f993': <device.Device object at 0x136405790>, '8260ebb1ad8eaaf9f54c23f68543aa2142c14d31d1c74a3f68e487b92daee220': <device.Device object at 0x1364053d0>, 'eda422ef266264fe040d9a53f00f2a351172ace466d47131bf4f8760f722b48f': <device.Device object at 0x136405010>, 'fb6dd5b2e1dc0f278a5c811872e748fb500a7ca4608fe0815dd18dcaf6a18480': <device.Device object at 0x136404bd0>, 'c03ca8ee4238e1c162aa68044cb013f83df2de453d1edd2005862e3fa8292b83': <device.Device object at 0x136404810>, '9b846b37a49f88049cc3d3840e6755f719337ce6eb5999d8786ed672aa1b05a3': <device.Device object at 0x136404450>, 'eb70549dbb718be031b2230b9e4568e9c839d31e1cdba035df962d563bddc37d': <device.Device object at 0x136404090>, 'a68d331f26f07f58bc640d3d0a51908eec51528714ef12c3dd7f2894f46cf3c0': <device.Device object at 0x1361e7dd0>, '2ef7132dcbb5327c171ae65755ddc4f408b0989a19c4588b19d204208574cb28': <device.Device object at 0x1361e7a10>, '88512a7ffd962facd65e474f42ff0c9f0f4d409299524e3ea74c4192f8950187': <device.Device object at 0x1361e7650>, '3df54f743b2388b14ea2b9d123eaa065048fcb132a23e84c3521f8fbc5ebeec6': <device.Device object at 0x1361e7290>, '6c9496d9df37e8ba774d91cd8a02eae470d269e10d669b5f67ae9cfebf108fc3': <device.Device object at 0x1361e6e50>, '19905944e297e0c122382d4796c48dd408a0b9e35ef8f506ce5e5b499a7e18a2': <device.Device object at 0x1361e6a90>, 'cc9316aca3e47e93888a4f0ea94231e0b086be267356f43f3472b5af19d8291a': <device.Device object at 0x1361e66d0>, '006164578ad3c1934252250dde4da4934b1aa2259ba723c0fb077da2f393079f': <device.Device object at 0x1361e62d0>, 'c68ddb82371b84e0379448008f97d356a0ca77192516630430c52ef3c65f7cf2': <device.Device object at 0x1361e5f10>, 'f08c6035c994dc56f19e6e2fb9a041c388810f544068912bf5f38f568958a798': <device.Device object at 0x1361e5b50>, 'f7c994f8fe7d7323acb925da86a561bd7ce7e08b361936ce04b8c16fc8e72bc0': <device.Device object at 0x1361e5710>, '341bb7efd5cdab47a7ba5743bf37016ec9153414b7a0f31f8c5d69d5b6187656': <device.Device object at 0x1361e5350>, 'b9e4353137dbfd4aa9c5321b2db5ed4164a9fb160a0109cdf7df34b41874a25c': <device.Device object at 0x1361e4f90>, '65e79a7307fb5ae90befa216a7b9d37b90b306e6f18bd990ab894dbccf91b4f9': <device.Device object at 0x1361e4bd0>, '930513f49f18475e9b6f53c1bf9f60d1d012f786605b411d14cbc9b9faab96eb': <device.Device object at 0x1361e4810>, '44c32c5eb7d0b626d941ad644691b2a978816829f56611856a966be165c1c99b': <device.Device object at 0x1361e4150>, 'ede31f1cb77f6cf09f3754a07b02ad242ca1a2615a2aed60849f9b9031632b58': <device.Device object at 0x1361f3e10>, '4df96e71bc37ab9aee53e0c8c860946c49438ca1b32fa3d0fcd0610fdf160c90': <device.Device object at 0x1361f3a50>, '2e813b34fadc0dbab03a82372cfb896bc3c8a2e349235980adb49c80be05b682': <device.Device object at 0x1361f3610>, '5962e1cab71885555dc5152690069833644cc64944207d06e39390f0054f87e8': <device.Device object at 0x1361f3250>, '1ee0e7caf18617d266d3b350fd162db4a30f31b7d565ae1e39c683767ee759b7': <device.Device object at 0x1361f2d90>, '1c5412e910e7fd25601ee185fb7742edc72fcac5a32438a40cb688a46c973d9f': <device.Device object at 0x1361f29d0>, '1ccd07b6d45ec221b7f82c775d9ef6a75149a341a525b702929c6943ceb7bd47': <device.Device object at 0x1361f2610>, '02c41638575e2a13dcbb6864908cb58c43b7601d0d577062523159d12d7b83f7': <device.Device object at 0x1361f2250>, '0a7d9cc53df0b6c43f8a4f0b90f3b07754a0b80fe62aa2f55598307f066d9c77': <device.Device object at 0x1361f1e50>, '041d47034103cb60e03451fe905f0f764ca4a3ab27f67cfc9a19064706485b85': <device.Device object at 0x1361f1a50>, 'f9ad2e8ad830edcf5406b884b4db77a52e71b4ef456cc03e1c891cd410c230d1': <device.Device object at 0x1361f1650>, '690d845c3da213be034f1ea9336c7057324fda0f92cb92a02260db17f8db7b92': <device.Device object at 0x1361f0f90>, '3c22b50e9d0720ca296c827a02b72f973020d44e5a8d2ddc15584ddcf135987d': <device.Device object at 0x1361f08d0>, 'bb6eeb639ce7214c8c0404a9bbf78734598918d4a574bc65c834f6fb76dd7469': <device.Device object at 0x1361f0110>, '5c972c62de3a4b700e26dccdb85b9cf9f66b5523e322e7e165350337e37f1f86': <device.Device object at 0x1361cbad0>, '0f142fc7f921b4389f5d84c8fa3307c9a401a8d050ef21d50eae21e9a059e962': <device.Device object at 0x1361cb710>, '67150ef08f82b550d4b58786d6915a745513c7b3393732c9d2e9a9630ef99f60': <device.Device object at 0x1361cb350>, 'c089312ae8c40e839c8bfe2a8b04270c3b13d4bf6ede5f5e9e68acce14712076': <device.Device object at 0x1361cac10>, '86c3e00aaa6924f8b4a1907ac49b6fef7b6c8ec15d3370824ad8829586856593': <device.Device object at 0x1361ca310>, '788fd0dfe67e844d6477c514a89fcdaecef241654a4cd174b6f535e8dd02f8c0': <device.Device object at 0x1361c9f50>, '3105e42330d05ba6b3270863edfb18ab8332d884c30b7b224f0157d5f972d3b1': <device.Device object at 0x1361c9b50>, '403c37a46877a555425efe5b1dfe8b93d76920c19645e9dceb7e4793af4a3730': <device.Device object at 0x1361c9790>, 'dc4af0cd6b178edfef2ebbf34d67085be6db60cbd954893bfad71c0dc708076b': <device.Device object at 0x1361c93d0>, '62da05ff4a2bf35787ba8171644a4563d7d2bc6931d800de014598a0b5c81bdb': <device.Device object at 0x1361c9010>, '0c39647ad8d0965008d62484c054e3ead1af0f5233e8da39e72c86ca01f36e50': <device.Device object at 0x1361c8c50>, 'e0249fa33a21078f97f4fa7e24b71dce05b766045ac0288ccd8506094399ca14': <device.Device object at 0x1361c8810>, '6579aa282f394160c328476e111f8a23c0b169b23d67c035872db03742ebdeb8': <device.Device object at 0x1361c83d0>, '7bedfa1145ff02f097fcafa414663b8b6954d353ddca32f3363e210e2a547618': <device.Device object at 0x1361d7c90>, '62e6e9178194d9fe5ba7405b6ee566b51d109cefccf6728663749413267a3830': <device.Device object at 0x1361d7890>, 'a8813e27db73342dc2313581a0dcb9ed4fbb939e8e016a30869803fa4077f05b': <device.Device object at 0x1361d74d0>, 'eec1a9020f77598dc8a9cb055084fb3ddc290d4bef6fee72c18abd9571dfbd2e': <device.Device object at 0x1361d6d90>, '51c0cc8d895735d023006646d254a9e5d346ebec026b8dc29b03b1cae1c19d87': <device.Device object at 0x1361d6990>, '5976c2c21ea17c22d93714d20444fcfd8f95b006b6f4c5981ad0975e88b1f991': <device.Device object at 0x1361d6090>, 'e10fddd9664298424963b9470becf698499f396c930a070fb34806dbcd48b473': <device.Device object at 0x1361d5cd0>, 'a47596384110e229810a7c237e54d4a8ec3785342dc29c8deba99dd31f58d38e': <device.Device object at 0x1361d5550>, 'f19f053fbb95938e68c5f68a21372792e16bfb14cc1a28d5109ae20ba220baa3': <device.Device object at 0x1361d50d0>, 'c51a72ecf6eb7cf676e63fa7d9c2a87ce3969ad78576695523a3861c4090bdb3': <device.Device object at 0x1361d4c10>, '1bc20387ab7d28ecfae29c200ea60294c1605286ec41882cce33838471a359b4': <device.Device object at 0x1361d44d0>, 'e2793ed70b0134deff218777cfa01f3975139d665de6a087341ee6b9412f0ce9': <device.Device object at 0x1361d4110>, 'ceb8fe2dd580cac898dd2f1538448e00c981fe2bd39a7a2e3c2c7f8bc27adbac': <device.Device object at 0x1361afb10>, '3cc6062d7a10ede1cd21a5385ff494473d476748ddc019be7cb4955169822fe9': <device.Device object at 0x1361af3d0>, '2a399e0aef8beb754b21809983203f856dcd992ed53b9e707af42ec1909321d5': <device.Device object at 0x1361af010>, '86b6e0bd2dc400c47a32a3f9a145bb9a94be01b11ef6ef73c582ba60f389f8d3': <device.Device object at 0x1361aec10>, 'c549b90e87b70ff7053ebc87b94defb136f8302c2093215295f9ea24c5b98c29': <device.Device object at 0x1361ae4d0>, 'c381365a1f6227dc7a989e315173c362fd4f28ec5df3848b3062c45b5eb9125a': <device.Device object at 0x1361add90>, '116d1fbc35d309d61cef1d0d3c1d11851eff9e2cf02401db2249ab3edfb738df': <device.Device object at 0x1361ad5d0>, '5ff2454e361d86f5155a574ab5e309821d6f29266c32a281ddf89c2e13f436dc': <device.Device object at 0x1361ad190>, '2d75d2bf7dba8534e30d294b3a79aba8ac8fca1db89dd0cb8dd81f8b9dbd566a': <device.Device object at 0x1361acdd0>, 'b92792f4e8e206c0a80eb559842322d5776bb9eef2806ea1c6852a42bdc0a2e5': <device.Device object at 0x1361ac610>, 'a2d4b56b44e16f2e93196fd8c9e5e4256dfd42b3c59b039af2184db603f4c190': <device.Device object at 0x13618fd90>, '8353f24821672dde48c2d39b187f98694d1293726bb4e1a26c54f9663d07e7f9': <device.Device object at 0x13618f5d0>, 'e104209d82118917eef04fe809547317691a81184db1f94e0071fe0c754c9054': <device.Device object at 0x13618f210>, '5ad9af44014bb8f9c1ab8e81c1f938f66a079eb9eb7323673c175c3441879995': <device.Device object at 0x13618e9d0>, '051a585145cb74f923f3bd69c908e23bb3ce07be6cf9e1c47956676486b2969a': <device.Device object at 0x13618e610>, '76ee0efc4fbe6eccc2c5134ba1b1601a07af2a1ae14296913d44746f0d78adc0': <device.Device object at 0x13618e210>, 'f6829f30d5d1c3b82c3684910ff02088e9380cc83d807f8883fd743ce824e2a8': <device.Device object at 0x13618da50>, 'afd8de451552e748e22101c16947735a3917cce0b367089c8acc77594fe77a88': <device.Device object at 0x13618d310>, '1b1a5c92326d88b63e0b058951b84165345a97468fd0076a138d09bfb54b3c34': <device.Device object at 0x13618cb50>, '0509e6c7ce79fba942ff726373d896e907ffe6ecf09f68bb5b6188af100e6213': <device.Device object at 0x13618c390>, 'f92782e809007698a8f3897801e0af63674b193d9c1cb138bc978007246080d3': <device.Device object at 0x13619fc50>, '57ebaceee41dff4f60a10c6e6afd6a6a9badd4113b46c03386758b30227b4b2a': <device.Device object at 0x13619f510>, '7a0c973749f2873f46c09b73f57baa22894314a9165fa71cf11d796f24907eef': <device.Device object at 0x13619f0d0>, '40cf6b158f5cd7fca3f29b3a0c0c3526ccc0fdc2848b19212712daf57eb7bb71': <device.Device object at 0x13619e590>, '483a90c274aa98a673838558009c01a7508e05442d642a8dafbe4480c720b73c': <device.Device object at 0x13619de50>, '141c56bf07410331c98d3bf795aafa05e16b79f6dc0d95853f5a3e752994df0a': <device.Device object at 0x13619d690>, '98301a9d7a8d89cd9b140ed3cf6cd9c58c35185cab67c31c9a5df0f70fa06972': <device.Device object at 0x13619cd90>, 'ba21e63bdf91914d593b30a97e6eb74286ec3d0abae51d17bc0dd58bd7db93e6': <device.Device object at 0x13619c650>, '58fca76ad0f7cf34b185587cf963bd0bf9b4362082b90853f4dec374e513ca6f': <device.Device object at 0x13619f250>, '504ac60fe17386674c60949e537fc12b85ebbf777486fb097cc3a65bfa43658c': <device.Device object at 0x136183c90>, 'e2a039239cf98a05a3a601469918090ed88a7711c81a692270e501812359301f': <device.Device object at 0x136183550>, '9f6fc8bc3a0e9aefb8f9d351202ca520ae26476fc79aa41b7bb6188e10bc6e53': <device.Device object at 0x136182cd0>, 'd214cac0317b93b43c25fc14569cb401e7f665d6fe53a9e38ba000102f933ccd': <device.Device object at 0x136182910>, '28e225ec018072dfa08a60bebf21b02e2f60374f685948f143e5be85ae001e04': <device.Device object at 0x136182550>, '828071ec6ea755216fe30e1718c73b508995e17fee07dc0a9d4130ea5a2cd979': <device.Device object at 0x136182190>, '9286ae607206dead940c791d999fed3132cbab0a961a7e98b1fc18b5e26c1759': <device.Device object at 0x136181dd0>, 'bed3e845b0f1ae2bc2058bd2d4986beb737080c5eb007d62e8832594883d9423': <device.Device object at 0x136181690>, 'c4de2890d47bab97a086f3825f417ff12539292394f6c01bb767d7a4d4ef74aa': <device.Device object at 0x1361812d0>, '0239d1611a394cd5da9e9ad6efd4279e38f80947c5b34da3be81e1e296d6619f': <device.Device object at 0x136180b10>, 'c023d2b771362ec30763a2c0e114dd6d81d6938cb2f714a15c5ee27e4b6c75ec': <device.Device object at 0x1361806d0>, 'b866f00357e4088ed103b83705238b66276a3fd8daff2527b04b8b1499922772': <device.Device object at 0x136163ed0>, 'dc9ad12d806330ba1b9d920abef43f231c59b28f31564ebc2c44b03a9e27538d': <device.Device object at 0x136163b10>, 'dc2141882a5104a0219dd95280a6b1e511ff5c1e4df1ee6f53240ec7fcf20d99': <device.Device object at 0x1361633d0>, 'ea20da00471d0b7131d77647dee8415599811d5c9fd6d42299cf11ad85346900': <device.Device object at 0x136162c10>, '02a6c07905a48a788938cff2a92eb3ff19f01f0ff2c583fc790b5f91fb2214a0': <device.Device object at 0x1361624d0>, '40fc056cf68422956470a395058aee7c2bf74434658d59955de3ab2782a87707': <device.Device object at 0x136162110>, 'c19394c8c16afab4d517d43d9e59aa9692509dc28711792a36306bdeb57eaac3': <device.Device object at 0x1361619d0>, '22aba1fa3dd1fcc4146df7852a119cc997b7423ff0c141b654ee93e216676b43': <device.Device object at 0x136161290>, '6e9ba23514e7df8603f303acbbb1bd8f0dee9b950c6a066b67ed47323939a316': <device.Device object at 0x136160ed0>, '08bc653c3da6d6edc611deab28b9c07d5d735da5c2a6c2357fc8b29c30963e54': <device.Device object at 0x136160790>, '6c32781d8c9d3be05c6f81c98d0aea34f0d19061bbd6b2a389af5aba612bc0c2': <device.Device object at 0x136160350>, '6f9ea0ed62c03cdce925953ba1241f044213f0c08485bb8f4ce4a1e72a75eaaa': <device.Device object at 0x13616fc50>, '8e774f53e6fcd76959b0ae81303696ce40a3647b869bde25843e84d990e14c25': <device.Device object at 0x13616f890>, '8acfb6e2aac25f8dce5f0258f8eea88c73bbc7887dfbe1514388297b1307613c': <device.Device object at 0x13616f410>, '716fee5489279bd498966f82361ce78e1585fa4b72cd531f858331a2ece98261': <device.Device object at 0x13616ef50>, 'bbcfb38bd7e7bcb18589017ec779ee6ba5bb75e553375704154fcab066bc5d45': <device.Device object at 0x13616eb90>, 'bc1d29eed7f0eeacbf17d2f503aedc52016482cc6ebe236b7605eafe8e4ff34d': <device.Device object at 0x13616e7d0>, '0cb10e404e5d67c84367eb5790e0380c83945687cd28580d7ceb533f0d237b41': <device.Device object at 0x13616e410>, '36f7fab13ad2b3b6d9b2d0e44ec00d6409ee46960d5725824090c8e1d3607fe0': <device.Device object at 0x13616e050>, '27e6d08a91e2293299bf1914265ab43219af44c384957aeaa1dbb5c365dc3a18': <device.Device object at 0x13616dc90>, '67028b093bfee83a06f90864eae81b2f115c3def6772cdc34459aacef5ff77d5': <device.Device object at 0x13616d8d0>, 'dc0b293ad998e7a293015bbd238d7dadd3afea7f161ccc066274a5856018da62': <device.Device object at 0x13616d510>, 'a3bd0b7ef945350146106b40a9d166fd69e9069312a6d4cd4282efe1dd62e894': <device.Device object at 0x13616cdd0>, 'e1da6545cd262a2cb0a3060f91d4ecc7dd8d42f30c438cd4b7ca259ed0ec127a': <device.Device object at 0x13616ca10>, 'bbdf0999e8bdd7588459b713582427af58328642e065ddda407f92ffba4bd52d': <device.Device object at 0x13616c250>, '03be32d2dea1d7e2f2610bd627af037baa8ca11797f212bdc12701658b03e029': <device.Device object at 0x13613fc10>, '5429f063739b1744e6246bb6cc4108a168a438837d2fcf2852d59850459c3a7a': <device.Device object at 0x13613f850>, '2feadf12e95cf9e36645950e2b81814f49b9920b34e076d3751f1a78701f107c': <device.Device object at 0x13613f490>, 'ad346bc2ec4e5bb061467c42eb95bc504490f341b38f52f420727b6804364e4c': <device.Device object at 0x13613ef90>, '58e1c82f99eba4bc1d534257bf8dc4b87be3b36945f510bb576cc3c36b40cd55': <device.Device object at 0x13613ebd0>, '6525d131dfa7383f8e1ec2c8f9bdb456c6f5c63fba8610cacdddf0c965a2ed07': <device.Device object at 0x13613e810>, '52497ed3d3cb9e5e08400fef92607095f3f0aba0e600b708712f9ebe27d40e2c': <device.Device object at 0x13613e450>, '3a51b914349c22a6caf09add7eaa831da1ec04b88427760756ac2bb9d5edcb98': <device.Device object at 0x13613e090>, '6f4788fbaeaa87ed328bddcec1a44ad910bf5b5e188302a50fdcbfe385474d8f': <device.Device object at 0x13613dcd0>, '3398f9364d108d4e80e7396284433359367d6ea37d1a0693778b54fc8f3ef79a': <device.Device object at 0x13613d910>, '184cafd41b34aef0f6eba1f50ff61745a4a92b641faf3e61a34024e02bfb5391': <device.Device object at 0x13613d550>, '8ae4173478db12183c35adc809a49d81bf437f712204777cd2a3c025e253af10': <device.Device object at 0x13613d150>, '483c6eb0aad839b3657743e307d3c59a9b20a14622525f4babc1a7dd4adb93cf': <device.Device object at 0x13613cd90>, '0dda708d5f78e2cb5409ccc16b341ea4d6f0ae397abc0cf6a7f5ab0617fe5749': <device.Device object at 0x13613c990>, 'fb0ad84b2573b10e8b265b02750002c46afa9856b4babf6955df0d4faa644bbb': <device.Device object at 0x13613c590>, 'c3bde00f9dc53ec08ff12916392460222898879a44a231a2f4d08aa59f6ca6c8': <device.Device object at 0x13613c1d0>, 'acfd5395f9d6ac5305b1486bb60fb51a9cd133d82b63a2df873af87b120fe1bc': <device.Device object at 0x136153ed0>, 'fb0b5549a83d2a741d2724351a85e189f31839e08485963a3461af32e29ced18': <device.Device object at 0x136153b10>, '762e1d352f1958d6696ff83c3527facc13c89fa27e2cc91c94d7fe0eba1108a9': <device.Device object at 0x136153750>, '6c8217e4b536bc65c1e67e8f21f7180851ab84448049fd680a626e8d0bd8c872': <device.Device object at 0x136153310>, 'abad03fa4be6bd05dad0fe1645954cd3c7c6f74b1959ee0eb0eef8949b57cc60': <device.Device object at 0x136152f50>, '92a6e3658356566221ee17d0f796cf94fbbed8fd4f5ab6fdfb0ab944a0ac4447': <device.Device object at 0x136152810>, 'c12163eaba9a78055f7cec6edd3eb8bef74a2777a409254dd24ce36ade7791ec': <device.Device object at 0x1361520d0>, '790c120b95d03c0fefedf5c1aab1749d05c5559d05369b0e3d55944b2fbf3cc4': <device.Device object at 0x136151d10>, 'e5cb0071da72b6b02691520be28c0cc18524798d2cff02bcd4267d9ef0abd288': <device.Device object at 0x1361518d0>, '50d8c98a5be30e051a8f371af283d75133b8f0be68f996d14e1a39e4256cec29': <device.Device object at 0x136151510>, '3aee55e0d0e83e6717dbe58923411262d66e8f0ab37e42800b67f669c188e3a0': <device.Device object at 0x136151150>, 'd8e13dc1097e903bc0865eec9e9ce53fdd51a10e909a8f36f989134885c41923': <device.Device object at 0x136150d90>, 'e315648cd606ce47061c453952099106a5403bdb4fd927639df20d02b830946f': <device.Device object at 0x1361509d0>, '49b6497d24515bd2895408d2f39024918ccc0648fd37300f8519b0bdcf958718': <device.Device object at 0x136150590>, '68d955845b783ff1a2c7cc123f1a889a14c0e1c264b94ef1ff61853ecf9cad29': <device.Device object at 0x136113ed0>, '6728484e9ee218250cd789cfb0e08e78d0f266875ee08b8ec7f8aa119f96fb01': <device.Device object at 0x136113550>, '158b49bfe1a9be582b3037f3db12ae7100b809aa273deb21ab60590df8514d95': <device.Device object at 0x136112e10>, '3b905937a94a537f1ac1e9afc36b49bade5a4036ed1d6fbed3c20dd426a1f88e': <device.Device object at 0x136112510>, 'aa12d68943ceab1dd76eb00eda4754c6173e26919756f2d974cf8909720a7ab9': <device.Device object at 0x136112150>, '882b5b7147b260764b0b8484bcf273139ddd30afe36343b7009b99040d38798c': <device.Device object at 0x136111d90>, '6ce345349f9dbc5f6caabc35009bf83c4f6045d32b505f0dcc257673552d441e': <device.Device object at 0x136111650>, 'd5afaaccbe9863d485ab83364f2b7bf1c744a71de46e9867bea2db7e4e88deda': <device.Device object at 0x136111290>, '8508232dc9901d08aa2a74f2b2996962560d9eb1cb3c0a8d34796f2802abd1ea': <device.Device object at 0x136110ed0>, 'c1c33f5346bdbf71c03d79ce6c63143ba2c853034429243eb07c806a10bf8d7a': <device.Device object at 0x136110750>, '62797f2cef59d05b03e38db4ce220a3467887b4b933f2163d2b18da5597c07b1': <device.Device object at 0x136110310>, 'd74ec337ced3646211662a3570a7239a912bccb4c89f75361e0a993d42e2367d': <device.Device object at 0x136127f90>, '65405921a2568d02642495c52d532b2c01c04ba5438b352d2381a2c62c5a6185': <device.Device object at 0x136127850>, '38caa1f8195b95dd95892d28ab50c0ad1a9eaf2da8fc53a07321c2c67dac3c09': <device.Device object at 0x136126ed0>, '5837bb8c0f93919b733a1495e5d48e19991d1fb0532c45e0c34e8a8e1a51e4d5': <device.Device object at 0x136126790>, 'e53f9e99c1c94ba4c53ef9d011768ce44783f788f7765b2372234fe589af1a9d': <device.Device object at 0x1361263d0>, '1f1e329d7b21e45dcdbe894e1fc9f07045ea81b0145f8d2a1c7c1029b31e98bb': <device.Device object at 0x136126010>, '5218aa786e780efd213cef5e437a7c03a9ffb3a8667a87953edf8c1e77d23c5d': <device.Device object at 0x136125490>, 'ceec59502cb7e759241f9a0187e73a9673b1113ea7099bdc3347b65924b65cf4': <device.Device object at 0x1361250d0>, 'd938583839e4c0f0503157571bae56e1b0629762ea603eab730329982baaa4af': <device.Device object at 0x136124950>, '12b0cfc17ab5ef3880597d726d0f60f63a4cf19e99081ffc2012e2b54da9ee12': <device.Device object at 0x136124310>, '28eac473e74944478ab81ecf60a602eac8c2a94fb75b6309f4cd4be3506bb1b2': <device.Device object at 0x133defc90>, 'f6a2562ddf97f9ed3bf60be6d383e5429c89440fa1bf945341f81023b02242f3': <device.Device object at 0x133def390>, 'bb9c9bff7c9603f128dfe9ce2b4201f1a4f2eb2b97740aa2f5df288d783d6208': <device.Device object at 0x133deef50>, '8b8c80936f2ff800ecbee788b6b1b0299f1de351fd4371d446e750961b9feb76': <device.Device object at 0x133deeb90>, '311b3ab66181d34893e36d5ddfe12d697e7c2710baba2dbb229cb6064a72906a': <device.Device object at 0x133dee450>, 'ce96e64fec134c5181d096b12d35d6ed3bfaf6139fd3b635b316f3064714b386': <device.Device object at 0x133dee090>, '14cdaf7f0969cb2c0ba2d22f2da6fcc2c3b9b16f99c582b90c951ac8335a5c56': <device.Device object at 0x133ded950>, '6611d614a3b96a24214a58e3a0776197f38a7ccb786e5024ec709b764ec932c3': <device.Device object at 0x133ded210>, '9a54fad19417090d91675a3c867b6e442d42f12ba0c84135609b6cc80004bbff': <device.Device object at 0x133dece50>, '3765ee15921d1b33d89e0b5c6ac2041bbb8cc86fb85626f53efd6eca44fb5897': <device.Device object at 0x133deca90>, '123a6ac8f57effbffbaf6781028f1871b0e57188b87062db5f5fc17b69f83776': <device.Device object at 0x133dec690>, 'dbc9089325d3c409f046245f81bb8307ff7deacb7b5884b66d65581d0e2b0a99': <device.Device object at 0x136103f50>, '019ca05de55a4a2691ee1ca09b3eaa7132e9a9f5cfe8ddce4efcd8995de27371': <device.Device object at 0x136103810>, '7336bd569db6e73ebb5b7a53d8ab4575b6729ae0105d4f98d5f4c5f4f30b6368': <device.Device object at 0x136103150>, 'b6b20d92c72c3daf785a907bccfcebb7f4fee4e0f73b0620b3eb1e84e9221197': <device.Device object at 0x136102d10>, 'be5ef277253e20ba1bfc8726589ee03ff5cef102e63768c721854153f76c0351': <device.Device object at 0x1361024d0>, 'b8a411216bbd1471d491f93343a555175d5bce94923380f226aa6c2b48dd56b1': <device.Device object at 0x136102110>, 'edf3f00eba400749b5fd1228d52b8e7ef3cc6508a517e766f79aa4f77edd9734': <device.Device object at 0x136101d50>, 'cabf72182d61e5781da2da5c14547161decceb3b5551c719f73da230f0afd64b': <device.Device object at 0x136101990>, 'a6509b9ef107dba13173a453e86c4d3393013ec31ac46b9e8482894de5abb5d9': <device.Device object at 0x136101590>, '2935de50360353664d1ae8c523a3fd4f76700c68fe4af423f6d86992e4043d88': <device.Device object at 0x1361011d0>, 'ca6ca7a8f78610e22375518fd6745630d6aabdab1cb357052508d061f7e1233e': <device.Device object at 0x136100d90>, '4f2c899329881ee310944bc0bb6a21df5d61d12927196a4914160716d96c1bae': <device.Device object at 0x1361009d0>, 'c6a04864a28d3089d8b85e6c18573ae384ce4f1cda85e9c8f3630b98647265c1': <device.Device object at 0x136100610>, '650b1711fc7102b5c2558904c88061be939bdb47355af276a134177194527666': <device.Device object at 0x1361001d0>, 'a04fb47d6ea5a05cb5f5c779c983b222e281fb4726c87c0b55e0cf44018981d3': <device.Device object at 0x133dd7f10>, '8dac9f321767cf36965a67eefa6c9d531f78421754d30f3bd2194f40b16312ff': <device.Device object at 0x133dd7610>, 'cf84959e0e99bfaad6fee98c568b69d281e460e11c29abfb6860245998d130f7': <device.Device object at 0x133dd6c90>, '883f5803f3317515f38596d80affc15eae3903412121b69c849be50c6dfe2ea5': <device.Device object at 0x133dd64d0>, '9e6bec6c31d40c8b1d1f8350b8af2ea3a3b9b169485d83339d72646e17ef1a1c': <device.Device object at 0x133dd5d10>, '29108a1db1666736432242389c1c8c087381f60274fb000671ae1979cbc66589': <device.Device object at 0x133dd5590>, '8ccea619a8d15b3b16b01fc8914576661e5b3d5c461357c66eb29d47217a7dc9': <device.Device object at 0x133dd4c90>, '0790ad268f2ff55b85b94f156eee89a700a5d4b2276da8fd3ed99d6ca63ce23b': <device.Device object at 0x133dd4550>, '1793495a040321c3dd599b338dfc99c86f8513c2566cc7021d149f645fb3a43d': <device.Device object at 0x133db7e90>, '01ba136b895183577d5338bc86710c7b8d3e5aa15d094a1703da7d4b54241076': <device.Device object at 0x133db7ad0>, '3625c4bbca2d0ea98c6407a02d8aee4c19c7e0e4b231de0cb9e7761ff84baab3': <device.Device object at 0x133db7350>, '8843c59562b755f303229fac7a6a5e4875afa170b6182c9a025cbf20237487e6': <device.Device object at 0x133db6f50>, '2162cafc0dbf4b296f676253f032f1bd3d20619190fc27c8c7f2f6ddd154ccd9': <device.Device object at 0x133db6b90>, '8c425d24a1d6e88b0e5c6f82ba4a5e0fae692579b8c1a504d98328a76534277e': <device.Device object at 0x133db6790>, '379299371f1e5ce605357145ead48c4dc040985bc48bbd613b8656569d2a1dc0': <device.Device object at 0x133db63d0>, 'da18f9208af207145fd4d400b3cdc9dbdfa512e2605dac0c586113cd6444e186': <device.Device object at 0x133db6010>, '8bc5a9815da5ab883be1299a910be7460f133d664edc20e2fa7aa2dd44a266b9': <device.Device object at 0x133db5c10>, '1d8edfec5efc9ab36bc44092bf02c367cae416a12d9bae68383ae9b0ae21f4de': <device.Device object at 0x133db5790>, '1f09080874c2e8336787d1fa83510e29a22ffb51fde2ed646ce3af912ff2483d': <device.Device object at 0x133db53d0>, 'bac851d4d46193bcb132a2f2a22056023a89c93ea11f2d6d1609bc1a748008ca': <device.Device object at 0x133db5010>, 'eda8a6ec41ccb0a26b6605d4f12727ed637bf75638bcbafaf1ee0893c1b9ba6d': <device.Device object at 0x133db4c50>, '3c762c9ff31f7d496027317cf756bd691090914d364202c1d5ee5f568f210fda': <device.Device object at 0x133db4890>, '0b8e4ca902d43e1347fd9b7497e0c3b99912bc48d3f18d86cc11e80915c38fce': <device.Device object at 0x133db44d0>, 'c8d23fe929610909ef02f3767798cb0523eeac5f93c465e2b8093ddc3e3aa835': <device.Device object at 0x133db4110>, 'ec0095908150b1fa33ac05ce419d16a72cee4214eebbf566a4c25f7741e7838e': <device.Device object at 0x133dc7d90>, '8437c7572b0c78b1241720d2f44ad4e362d7aee261893fd6238671a42c2c6f32': <device.Device object at 0x133dc79d0>, 'e72a4ef3862e10496833d266afbae3e5e74f4fb70079890c77d993e2979f8f56': <device.Device object at 0x133dc7610>, '88641fe0e6bc0ff6e70e7604a400d3f7def5666b14d846e3ced442f00945cd54': <device.Device object at 0x133dc6f50>, '2c71bd845501055d7d299c56836facec2f3ad2329eaabd81519b65044c553b76': <device.Device object at 0x133dc6a90>, '9b9fc069ef6624b7497943e2e1b1bbc5ac21b3d352e7f57de03f18146810ec6d': <device.Device object at 0x133dc6650>, 'bc7288baedeeff3748fde4d3e4f16a09982103090cbaa66457ee1cf53fdc061a': <device.Device object at 0x133dc6290>, '22a204d9f840caefc158c30e97ffda15d308645fb9c22a5be9e19ca919dc8e89': <device.Device object at 0x133dc5ed0>, 'ae9f6b5d44629576bea0769bdbfe803085ebc9d1cbfa3e03ccff190c93669a8b': <device.Device object at 0x133dc5790>, '668fa5182c33fe303b1e7d42f71f81922321a9f88b28c10250b750d810c6bbce': <device.Device object at 0x133dc5010>, 'd6cb7635cf1974cd3e56bcd61a296a9f313489914039e17462add29d68cc0266': <device.Device object at 0x133dc4b90>, '774219ab352cd9fc938b05d2fd20c3d0e39ab791bdc40eb0d94ac2aceea164e3': <device.Device object at 0x133dc4750>, '2011efe628f062b0992269d06091db51d065cd281a319db93f95457cb3a39fe3': <device.Device object at 0x133dc4350>, '568f7cc28c193851cd7e38de7c3ef563ccbb62415bad38b6248010932a332eee': <device.Device object at 0x133d7bd50>, '655cb4c52f067b2b702a2c19be653d29df730eaf4ffa317e5f062d6dfb55d4d2': <device.Device object at 0x133d7b990>, '974a7e738f5801ab19ff4b3f6487d5b0c5572855b66a3e3aec5e68fa6393d088': <device.Device object at 0x133d7b5d0>, '79b7342b7d37e59cf8f5a631710eda0c512e0be1de465c104b9fac6f64cd5aba': <device.Device object at 0x133d7b210>, '565032a7b3920d4a0b524543ebb78b35fd48cd41942e793403ac05d111c8ae55': <device.Device object at 0x133d7aa50>, '0abf8c211b85a51cb2d45bdf2fe3545db0911387610130ba7316952be9a1e914': <device.Device object at 0x133d7a690>, '9044cb6881315d613bb23f8e16fa77ace219ae94e373069ac9278d1f25175302': <device.Device object at 0x133d7a2d0>, 'ecb65ce867f5187bf32b1dce18af53050611f60a7a6077e4d36ca28dffbd012e': <device.Device object at 0x133d79e90>, '709e2bab6aecbd4f76698d56d476621e16cba0048a6684e1c1675a335ffb5807': <device.Device object at 0x133d79a50>, '1ffa7ae80000ad1815916cb55be8e3f0d0ece8dcb4dd1d80a5ab43de9d5754b3': <device.Device object at 0x133d79690>, 'c4ace643a0713820502c8a32f01eef064bf2e91298285b49c545c025492b5ec3': <device.Device object at 0x133d78fd0>, 'c649f1cc12867a8c17119f43c189583bd123da4239aeb612d3c58ddfabfc718b': <device.Device object at 0x133d78c10>, 'c826eeb7cdc28014b4d285439c9ade83325e136d87e233924c75a020327e8acc': <device.Device object at 0x133d78450>, '0456dc7f6520ee606dea545fd329331fc3a9f04d2e7464beaf026b190414a4a4': <device.Device object at 0x133d78050>, '9322bd1a430574c401d3c1efeb166f91dd6f23d38cf5df830906835d7f121634': <device.Device object at 0x133d8fd10>, '449d6c0047215ad901029996046449729c4015df2426aba19a9f303dd46a640c': <device.Device object at 0x133d8f950>, 'b8be7f1e64252ceb883aefb2af0c0d5e35e3dade3fa828afe09f55bfc0f74a4d': <device.Device object at 0x133d8f590>, '0552131db8d011268da87fbbf9c6375082da3ff5fd642886ffe8c2428a157837': <device.Device object at 0x133d8f1d0>, '5e011d21946fa507383abf5c38f0080ecacba2e464d83ab11d507b5b2bc54d8f': <device.Device object at 0x133d8ed90>, '51d14d8927a58c5b3359a891a982228a5978d26b82e0518244fbc7cfc0ca6f3b': <device.Device object at 0x133d8e5d0>, '20b682ab3b33e08089e6dd11dc3d66721e40885b6456b90c300354b4ddb10fe4': <device.Device object at 0x133d8dcd0>, '6caa79a75dafd4a0dbc0b0497e836b6f9fe53d9a12559b499fbfde77e473762c': <device.Device object at 0x133d8d890>, 'b5b8f0770135b03a6e0aee41e07afae38cc82cf7a2d0101d4eef86bff1a53348': <device.Device object at 0x133d8d4d0>, '4de06e20c9820483483d33a0c4426b3dbf38a8232030578eea331acb153aa4ee': <device.Device object at 0x133d8d110>, '361aae0c6e17de81eae268b1714a4c5bfdac0f049494556ddd3a17bfb3620ae8': <device.Device object at 0x133d8cd50>, '0c7d878fbfa99a2865952d604efe88462bf897a44065d4b30175132a3eb448a6': <device.Device object at 0x133d8c550>, 'ab5f38467b9a5708e8d617be9dd0d0cf938073a4f76890c67431688da18846cb': <device.Device object at 0x133d63ed0>, 'c00c9ea5916dc2316f4195bb5f526b708f4e28e59c068ad7787923de150b2260': <device.Device object at 0x133d63b10>, 'ba01c967d6e44a281512f3fb3db3525676673bc2e0dc0cc18c4f65bd9af33fd6': <device.Device object at 0x133d63750>, 'ee6f160c2c4eb1b30f447ff86b0772db789a75f4a03343c4f7d3f60eb220d742': <device.Device object at 0x133d63390>, 'ab2fe7aedf17f4e16dbd14b5c152935a80c54f2b4b95ee2dade71abfe170622a': <device.Device object at 0x133d62f90>, '8371a3bb89288f37c1cee2ad960da5504a1f3e94285c83f3bfdaf21ebbc318e1': <device.Device object at 0x133d62bd0>, '440f3d55ae8bf68ca8ac0113ed83c431380980c3de27c17e08744fab76d7b7dd': <device.Device object at 0x133d62490>, '65dabe2e11f8e26ceb18098168d64f7f0b8db6c34fd3f6b0128687dcd7f8951f': <device.Device object at 0x133d61d50>, 'e2ac4d3e0e8f82e9a23be1c7fb1d71e2ef6c7244ffa5a046389a7b1a2226d7b0': <device.Device object at 0x133d61610>, '1073be04c7dee4027c3f28e28631a69a4fc1607e98091475a0c394686641eb01': <device.Device object at 0x133d611d0>, '3998f2575fc1fd4235585efdb150c379da6b7952937c1a8f44391898728ba0eb': <device.Device object at 0x133d60d90>, '1346f5460c20e26379a4c3c43d134bdaec6e878966ad169c1765d58f330d99eb': <device.Device object at 0x133d609d0>, 'fc1dee2418032ed13b74e12171f9a57c6e44c660bbb6c12c2cbf21a3e3b675eb': <device.Device object at 0x133d60610>, 'c3d34900c45cc77713d00e92c1226f9fdf6f6567c1a3b9630805ec04b6594305': <device.Device object at 0x133d60250>, '4fb88905b66b83a7403124a52870f057e4e1d4284743e4418f5dea4541f51ca0': <device.Device object at 0x133d4ff10>, '47d7c3b1a4c4479787573a5344308b59ed7331c5991ad62d66e826cbbf35b6f8': <device.Device object at 0x133d4f750>, '8ae186996391fcc54b65a14396feb5a6dae2510e9b84eeb116858da4214f1ab5': <device.Device object at 0x133d4f390>, 'cfeae70d91d45a0ce16434a5121b9b3d65fd08e143b412e58a5550618d9f9d13': <device.Device object at 0x133d4ebd0>, '4460a7a4ea418aa0b4e6851321bd3968a00f8d350f18747ceec3a50244986bb1': <device.Device object at 0x133d4e810>, '038110c8fb9557caa2264a223838c7ffecaa21729437dd5caeaa9d54a0154cfc': <device.Device object at 0x133d4e050>, '2ad7ce1bb647a0d7ccb121c9cb0662e69657a20f2d62cdca1935fccc9f0dfa64': <device.Device object at 0x133d4dc50>, '10834ef249fe8a9d0fcc333278ad153cefcf04d7d1607fb4737999b5abc9696e': <device.Device object at 0x133d4d810>, 'dcaa732075ecc8e3d840f368505764680e93d80fbf18cba2a244b1a00085d714': <device.Device object at 0x133d4d350>, 'bb69779bd63195cf0610cfca10ed97241095eea4ec3a9401584874dba0e41861': <device.Device object at 0x133d4cf90>, '2c4472776faf8951d4f42fff5845acd4f36abce6002af2bec7f219a529a004d9': <device.Device object at 0x133d4c7d0>, '50c360a918f5c6627bd1857c270e637949877c14c421b3fb143ed4fce646d8c1': <device.Device object at 0x133d4c090>, '2317f70376ed4d05f70804f665bcc0f884dc01b1046dd67d95f7cddd726e8a96': <device.Device object at 0x133d03e90>, '34b98e5d32dc0e068f56bff5361be4f214c128142c169062638c99d61f4922ae': <device.Device object at 0x133d03ad0>, 'e87da04a425b0f685c23da7efa31e0a30aa37df0fdfc3942339b17763838b529': <device.Device object at 0x133d03710>, '167b7d9deb8fa90811ff644f6b71bbb40d9b45cdbf7b704d66493974892391ed': <device.Device object at 0x133d03350>, 'a5ecf825b5ad75a2f6dad3dc14c988cbd9693153555bc0c9a7f88dfc783f2cf7': <device.Device object at 0x133d02f90>, 'a6cfbeca5f4cf5056b954c08b8c223ba72d24bc68802df9d59a108824aa23677': <device.Device object at 0x133d02b50>, '9ec380c84049ca523b3e06da32fb7f597dcbcae9bfba0c3cb7337165b5522431': <device.Device object at 0x133d02410>, 'e9c37a81a5d7fcf3bcddd558e96b5d3f1ca5b019fe29d7965e9ecef10ed158f3': <device.Device object at 0x133d02050>, '251f40f4dc29b12002fd9f4ca3f840e832310490eee5beb40e6f2fd050721db2': <device.Device object at 0x133d01c90>, '1d01abeedf0ed13739edf69de2596bf0206d8a4d10df2afebb7ada62fdf6cc9c': <device.Device object at 0x133d01550>, '31a9fb6fa4e8139959e8778e23e3b7e211d5d80f67280f681435bae85e61e6c5': <device.Device object at 0x133d01190>, '6dfb9bd07da9124515a86eaa791a7ae2e7ad49846eb3692fff7e191edb89a5f9': <device.Device object at 0x133d00dd0>, '48559891520c9ad009f61e9cdf4edb96f73fa9861aac3bf41ff6987eccbf25fb': <device.Device object at 0x133d00690>, 'eb5481704d501bb630f294aa31646a27790507bdb8c1ec851be49f20292dbfed': <device.Device object at 0x133d002d0>, 'a53633589c6a3f4a87fdd02c30149aab6288be5084e399a12a6d949c708b07d7': <device.Device object at 0x133af3b10>, 'c0ed9b846fa95054569054a47381a57aa914549a65ea054a409683dad8f8c033': <device.Device object at 0x133af36d0>, 'f753abeb7c9ccee7abec1e0a7b39ad15b41cd0ebb0085a5d7e519488b7734d21': <device.Device object at 0x133af32d0>, 'c32eae2a1c8b46119303ba9fe9856fdec7cb5c986195bbb67971a61f9f193c18': <device.Device object at 0x133af2b90>, 'a8547fb0f085a111afd6d73c05c1dd41c83c56bba98b9ca28ab15996dedb83eb': <device.Device object at 0x133af27d0>, '3746f1b30ea42290074ded4fee17676db0d6d8e11cccfe805f24013fb773a111': <device.Device object at 0x133af2090>, 'd0095533a00aa4d8a8c27563e1fd10b1024177f7e166b8ade048e32168b24409': <device.Device object at 0x133af1cd0>, '520da99b0ab714808b560d10d73dc5d3ddb8a362f31912b2dfe1794e33f288de': <device.Device object at 0x133af1910>, 'f8b4075759579f827148fc293a604b7804ca8acb5cb15a0e13dcf126a0acf2d6': <device.Device object at 0x133af11d0>, 'e7ce0db848a662fd2c3d74b2667d1f31d8b49582cc29c1a969eb077c2bcdc369': <device.Device object at 0x133af0e10>, 'b8b64d08c1d57744214afc038ee3fbb7e220b811e8c62ea45a309bb0ec6a4393': <device.Device object at 0x133af06d0>, 'fbea3c8edd13330b18bfed4398321d8dc1409d157c0fdc74149ad1ab6c5d9549': <device.Device object at 0x133d37f90>, '4ea8ac77ebfaef0bbf8509680bd1fc9aa9aa4219f08718cfdd959ad6b11f8712': <device.Device object at 0x133d37bd0>, '69e6dcabaec389bddc3fef4d76607d0aec207a12c3cf34f6404153debeca092a': <device.Device object at 0x133d37410>, '7f03bc73638a9b401fc86e9abfed36ee4bad8db018137ee4182b85e8fecbf9a4': <device.Device object at 0x133d36cd0>, 'cb7d525ec8eb17a9fbc24d6efa90cd72eeee6d27e9396972d1eea203305fdde3': <device.Device object at 0x133d36510>, '3da9123b3d1156ad8767eda4e47bb87fbe232b504c845f64ca8c1a3e66507dc1': <device.Device object at 0x133d36150>, '671654cecefa93a249e5505a6b072434aeaa2bf6de4a0c8388778642e82358c5': <device.Device object at 0x133d35990>, '27271bce2156bfc20abc308cb9c255441dcd31e2d06795f64b770f0aa957af2f': <device.Device object at 0x133d35250>, '59d59aae63894741ba28a5ad88a0187b059d6738b7596468c00d4b534183012f': <device.Device object at 0x133d34b10>, '971a07e68638301ab5403eb9b9b1a67eaa9e5d629ef22d55c0b9cd83fc626e94': <device.Device object at 0x133d346d0>, '83af308f404ed60e44b0374ae4a2be496ce42545992bca8a09c3edb6053131c5': <device.Device object at 0x133d34310>, 'ef20c1a2f38caccd4915e2b21b94c36a3e3b2079ba4d6a65813e90d0b566a2ee': <device.Device object at 0x133ac3c90>, 'd8271214a3a355eb1416c1ab85059091785ad2d0b8dc012e1c48af8a9fff8e76': <device.Device object at 0x133ac3890>, '911a9e3b81d328c750079906e8b18d7e637d06d9dbc9f21d5252f57cc5b3d9d5': <device.Device object at 0x133ac3490>, 'f47c60d714f2ff3a307115edbafcdd32f908e0a3c4ad40d63a65ab9687d3668c': <device.Device object at 0x133ac3050>, '146e9031e01af483d1178f3aa5fda333be698931da17b456496e3631c697be0f': <device.Device object at 0x133ac2c90>, 'df88b0360c5bfebd40a1bf096b951dbf1f03f736e29f3d3f1cad51893f11a938': <device.Device object at 0x133ac28d0>, 'ddbd2fd950a17b38b2a363f6d3127559b8ce2e3cf7a8c5f168178baeeacb616c': <device.Device object at 0x133ac2510>, 'e558858b8f9a1358588a3de43b45ce441c8edd300e13d73e3c2673b41c43c898': <device.Device object at 0x133ac2150>, '93eb7fd1d27508871a59bd5066fdcf70abaa1b13cc9128b6d78c45c2ce0f9425': <device.Device object at 0x133ac1d90>, 'dfde02c098c4fd50bd12c4f01c49a0c9bc869433a2fd08467e86614e6fa48f56': <device.Device object at 0x133ac15d0>, '72aa98f75b9a9bfeea43e3434bf0739d51ab8fbee744681782f6e6b422d432b3': <device.Device object at 0x133ac10d0>, '86db0d1744d58cbfd72be983d3061794164b0b2b2f9f34c91e9fef6bd3570a40': <device.Device object at 0x133ac0d10>, '9e8fb3a83abc3ad214cdea0e49ba1c47768308e1e928e041000994c0905a6d6e': <device.Device object at 0x133ac0950>, 'e3c9cf83e8c9511f8e96a6bedc8fd1aa02a5b8596add4496a7e279a76439012e': <device.Device object at 0x133ac0590>, '33463a9446055df44e46929b53ae81d8319fa1b70eec3452e6ca2e7ce5d34c07': <device.Device object at 0x133ac01d0>, '54e1f91dfac5212642d2f40cdfac4102ef8ef397b8bf8e57bca405b42a1527e9': <device.Device object at 0x133a9bf50>, 'abef2bff2ac70d97dfad5d0c7f9a5cbd4437b9d53d8f7da019e6d80c929accb3': <device.Device object at 0x133a9b810>, '114a31660542aaa9e2e29641687e35667d54ffde6f2b7328ec760c7d44884d66': <device.Device object at 0x133a9b0d0>, '6e7ca27f1f49415cb69deb9eadca5518393e9bce6f13e6cbc5a4e6f8c00aa70c': <device.Device object at 0x133a9ad10>, '4c986a20255f0fa662262aabb49770f1da7ef3ee786a1d00226159f0ef784564': <device.Device object at 0x133a9a950>, '553d73c6c341081522890b56c71526ef07db04373110136c0eebc2424cf96a80': <device.Device object at 0x133a9a590>, 'f1632ab8ca2aa7003a182abaf35330f097693aed8209b9c00502c70e93188e59': <device.Device object at 0x133a99dd0>, 'a7dea10a716e37eafc722f05fee854dc694fea87d221242fcfb58197ec79af7a': <device.Device object at 0x133a99a10>, 'df6c1c55b730e4ba6f8f3c05e0626fed9de99f8107adaf8e90ef7af9c794038a': <device.Device object at 0x133a995d0>, '6c325d856d5514d684ed9ea9d6d7b7ffc7b48684592c7ae6be388c36e2d227d0': <device.Device object at 0x133a99210>, 'b4336f783279c4623c10d77b4f7d494bbd3b59432c6304da1c9965258baf11cc': <device.Device object at 0x133a98e50>, '06c5588d8fc3e5cd931859f662bb1498fa46842d4f78911493194659f93f1188': <device.Device object at 0x133a98a90>, 'cf69e2ce5303f25bd92d42da1c456a41b4a7f737f3722087a35f8f06ed7e7063': <device.Device object at 0x133a986d0>, '3b78c71233219b4a736e62f658c428aef8e0dc190611be271df9534de55b658f': <device.Device object at 0x133a98310>, '1743bb6abd92546ec84c0472d1b7c031dc6800090388f36d238325914243e48f': <device.Device object at 0x133aabf90>, 'cbc06b276138f7f1d5e217ade8e0920eebdad33a61679a7777434393c4937b7c': <device.Device object at 0x133aab7d0>, '388c58d0a539fe1697186193ec76f84305bc42132e2f016c3fa95eb9e5a05369': <device.Device object at 0x133aab090>, 'eb1ecbee0595af33027d2b1b7f58f9fdef3dbc2d41a461e2ab87f56954e109e9': <device.Device object at 0x133aaac10>, 'ec2d4f87bc802e4f1ad948070afde07fc2421abd970c755a1c3f82932a7b03b2': <device.Device object at 0x133aaa710>, '4dbab3a184361bdb5595ba6a3f8098859252422100842f6bfd4404e134854703': <device.Device object at 0x133aa9f50>, '49d77cb51e0436b4d5d25ddc190ded766d5235c87f918ae06a7f191bbe18b507': <device.Device object at 0x133aa9b90>, '1e7d25a8095ad9b89d9c56045c1a271972dfb74ce866fbb612142a69f818357b': <device.Device object at 0x133aa94d0>, '8f0ed81c7428f00fe556049b7c7f96456f6ff3323d5613fbb897a01c2a76584e': <device.Device object at 0x133aa9110>, '8c5ff2f2abdd77bc7263bfac5de86747a1dca7b3fa7c348174f7ac05c3c54814': <device.Device object at 0x133aa8d50>, '01c21c2e06d9b99865e52d512bac5b999ef75c74971abde404ac12fd537854b6': <device.Device object at 0x133aa8910>, 'c715a01baee28047fa9f79e3e0b17a0d98d796db5814ad2ce56c4a5209b13100': <device.Device object at 0x133aa8550>, 'b3980c21b0e775607b27618d0be7a0c885da8e00ca0ba06ba393414c255f2ff1': <device.Device object at 0x133aa8190>, '3c341a83b985f155d88badddd45732af5fa1c138d185c7db3ca686d45a682485': <device.Device object at 0x133a5ff90>, '8ced27b16c5f40a3d348a404d2b37921bec9aa4d70ec26ce30505ec3f84e6399': <device.Device object at 0x133a5fbd0>, '9cdcde2145c5a6a3b6a7d61afca152cc6fcd11d2ea84dd36163504449ca77b44': <device.Device object at 0x133a5f810>, 'e9911f64f6d9d25b046c5ff81deff5eed54b8e2f30ff61c1308280e7d69a4077': <device.Device object at 0x133a5f0d0>, 'b1b5b313a84a1442bb7f9c6a6dfc71898409b82438638e198273af644bf03f19': <device.Device object at 0x133a5ed10>, 'a93b031d3bce3d79f9f48a3ea6ad3abe167a81b8c80db361e999e46713a5b6d2': <device.Device object at 0x133a5e950>, 'b98c9cb13b469167aa77fb52c9c17411f8f960da5466d28638a5cc4fbf45eab3': <device.Device object at 0x133a5e590>, 'c6c0a5951f46b99f8c8767bb212a59d24d0a93b70bc232714ac6ee38b4a0c5e9': <device.Device object at 0x133a5e1d0>, '3c04345c1f1f6cee477381a62d2e9e5e2a0b275966de3429c7c3f9d00edb897c': <device.Device object at 0x133a5da90>, '7921879f23f36cfe5ded269dabf94a6737168cfc9e0777310943b9b0ea2bdf7a': <device.Device object at 0x133a5d6d0>, '729e3f29cc62ada4cae753876fbf71cc05e887911c495eb915a4b375ad8381a3': <device.Device object at 0x133a5d310>, '0dc5d334f7b58df927704dff5e2ebc5a76ffda046b0c97766ba193c41f8d0d25': <device.Device object at 0x133a5cb50>, 'bed0ce62407536d3580a970f4388abecc6657df2ad58a0f9689be785383c476a': <device.Device object at 0x133a5c790>, 'c6b0a18889cdb32e7165ecd3226d33ccea0bbec24a3fd38fe3b06c183a1909fa': <device.Device object at 0x133a5c3d0>, '378b77a6bef8f8b417207362129489eaca1984d0122f240c3e32edd4a198173d': <device.Device object at 0x133a5ced0>, 'f68caf7847572627ba4f5faabcd5833c1fe2758924d7cf06ad41f22b9a5a4833': <device.Device object at 0x133a7bbd0>, 'da176f8d8341dedc3c0e470f9e3190fa5e14d21a6514461bf0a7041b71e43bed': <device.Device object at 0x133a7b810>, 'a84626cca0a60d9c823c09b90833a345ab80740758cfbbbf01c9d0c7dc0812a8': <device.Device object at 0x133a7b3d0>, 'e581cbc41a59897043e3ae463010e7eac953998a37108cd79ab24b6d9a8d8a0c': <device.Device object at 0x133a7b010>, 'd7238455492bf4ddaa1e2c07c013f38f9fa58b37b2b736e873a711cc6752b404': <device.Device object at 0x133a7ac50>, '219fd5042d82ebdf7092517f6969def4f733cbc6d8c5227b98c212008503b9a5': <device.Device object at 0x133a7a890>, '18d44ab3c01c1e669c0b0e38069be690123dad0c79ba4d5423d010df89262b16': <device.Device object at 0x133a7a150>, 'c2a14803f6d088cf98276d20a6e9a45337886b5095f79f7d30e5b23ed189bc8b': <device.Device object at 0x133a79d10>, 'f7ad7670d46824326b6b246ef5caa5d3265051d31c417edd1ecc972b3aef2d6f': <device.Device object at 0x133a795d0>, '1618646e9af1b4e4835cb4a3f02478726dccdb588dfb4d0df43da75c30a27ca9': <device.Device object at 0x133a79210>, '8606c0a7e0178d59efeb4cdeab817f2f9998693cd4995d52ba48a17c87739525': <device.Device object at 0x133a78e50>, '6b2087f827d5cf07359c02fb4a5a0c6c4c605b9885fe25897049dc0d4adcc34b': <device.Device object at 0x133a78a90>, '1ca7f0fe914fedbd91bc6df576255cc592704af767317b587ab9fc29e8976cd8': <device.Device object at 0x133a782d0>, '109f3232e7b3b3c83b8bb664c49dc180330b8bbe125b0b05f1158f84f72befb0': <device.Device object at 0x133a47fd0>, 'c7f59559a243508d771923788b426b2f172171d255bdd1e16ff7191e22316eae': <device.Device object at 0x133a47c10>, '42b651b69f8821958361adeaddaefe58f90def82ffd328950187e680b9646c38': <device.Device object at 0x133a47850>, 'cab21718b1caf2ba3090fde4c994a4ec1f83be0b8aea1007946d26a3f1770a4a': <device.Device object at 0x133a47410>, '62461aef18fb9252b8375ed921cc8843295ddd0bc5a715587b82b73ff0886009': <device.Device object at 0x133a46fd0>, '497834bfb6ed9c9ff3a11d34a978e624aa8e07c22eede0a715bfa5295d77b0cb': <device.Device object at 0x133a46c10>, '949b87f00eca3dae47db7932ee370552fa66620b69f375cf25002223a4a773fc': <device.Device object at 0x133a467d0>, 'b01270231f3095356e8e8b1e2e01d89dee8b2eca0dafe787b252c10a37dd92ba': <device.Device object at 0x133a46410>, '768c6ade92f451367f3ca820551cf44cd659944a0dd93d7600d2d6a46d4cc297': <device.Device object at 0x133a45cd0>, 'cb365a2fd904c3c19b7103d5c84080ae767a2df2a5b93cb3f06090519770df66': <device.Device object at 0x133a452d0>, '3f735431302f40d37490aae7347d47aa77ac2eac50c513c846e68693a0dff693': <device.Device object at 0x133a44b10>, '90ee13b7ffb08f86fe9b7526424f534ad0d4106b275810b009fcf37b3b894b17': <device.Device object at 0x133a44750>, '01e87ec6b851e9c4a499ae58919a1223130c487777fdf83887a8ad21483e14b0': <device.Device object at 0x133a47710>, '65c77ac4f634e7ff6f7a9a887eedf52b4d674a95a31709cf9d9bcf6d8900d597': <device.Device object at 0x133a33890>, '589fbf4124aba66c789e33f633b569b4f54c622d6dd8cacd6a3468ff23952af0': <device.Device object at 0x133a33110>, '8be8414a00bb577ea3fc2e144618e3f2ff6d08db9fa1d48b2b14ce74e0cc1c23': <device.Device object at 0x133a32cd0>, 'ad0753b921804d91a444a53bde4e8d154e082160464da655f5c4cfbb8f9683d6': <device.Device object at 0x133a32910>, '661a0ccb16efe04c6ba9c9d8c0f553354dac6f83403de41cf2ba83defc66c9ca': <device.Device object at 0x133a32550>, 'b4383e19036927506c50ba9841efff86f3b6fe683afcdff71ecd871f31b3d099': <device.Device object at 0x133a32190>, '6c33b5597deaed1827b5e3ef6f2950a919fdd36accb5b9b9988e3966cc4578e4': <device.Device object at 0x133a319d0>, '2e1e9e70fe6c86fda98644cb26bf46a45ebe714bd54f41ecfd88d54b24ca79ba': <device.Device object at 0x133a31290>, 'e6c5a80bb1a13b41b4c6495fc314c811fe95d6b84fae57f31d984634f40dea50': <device.Device object at 0x133a30ed0>, 'f659a18dc8c1abb5aadd1f8b125ea9cf81e1d56226615bb7f7bccbe20dc4a510': <device.Device object at 0x133a30790>, '1a3f93351c3ef05f7fb54c157d04b660aa64708b6b64f2a2e9e81d12b88a0ce6': <device.Device object at 0x133a30050>, '402b53128aac97dc02200fc743434768b96cf5c2fc611ffd223a3ff1fd6b4455': <device.Device object at 0x133a07dd0>, '538db09f6ca49863f47cf31276c5e0b538392d02acd566d6e47664a0c31d3654': <device.Device object at 0x133a07450>, 'e5f6f0ee2578e1158db29a6926bd9963384da29c5fc9925a5c2453105d0a65af': <device.Device object at 0x133a07050>, '56bddb2bb1b021eee67546c9b045e5505841227570792c17a686485d1bfb79b5': <device.Device object at 0x133a06c50>, 'aeb7f874c948206e0e7961d17ca436da8b14da8e1d1053d28055978ea0717d17': <device.Device object at 0x133a06890>, '86d55e519f24ac03e4015a895dd5653bac8d008462fb48fd1d64c131cb28f24d': <device.Device object at 0x133a064d0>, '6b31de76230fe2318091fc527dcf048af1889a397895f413b164d2bd2c23180c': <device.Device object at 0x133a05d10>, '4e2bbdb11c522557c4d4ee0286bc95fcec30a217e8db9a475ca2d37e1925a0ea': <device.Device object at 0x133a05950>, '45e895d788d30ec47df30e4af4d92d979cf639403146d7d36ff3ae9f64df3a16': <device.Device object at 0x133a05210>, 'f6e78fe166f9ffe4324336fef558928df8cbf648104e095647bd9358acfac718': <device.Device object at 0x133a04a50>, '6ac4fbdce55e43087ab0807cf59540a770ec6be5aefe9da482c8b7db71659f33': <device.Device object at 0x133a04610>, '6a396da13d8223077c6d79d8e48236c1910112295c46ba7fe6b99a086716c0db': <device.Device object at 0x133a17f90>, '26442271abe816be17dca9dc7e33c6fe4cd4778cb8555cbf88bedb922cf69259': <device.Device object at 0x133a177d0>, '42fa978f5327d69e196a384fc376e1a9a61b9c42ac0065c67d63f10fde4331be': <device.Device object at 0x133a17410>, '66003fbdc58c98044694d2fdedaa0d225156a5a4f3d1c7fc09af9a880483f676': <device.Device object at 0x133a17050>, '2c15f6bacb39f4d735896496546b492a77e4404a07cc8442929c597fd22c3d5a': <device.Device object at 0x133a16c10>, '2a533bf8119b353eb6d17d8fda73cc529afe7c28e7527480eda3075dd9a00bc5': <device.Device object at 0x133a16850>, '5fb2675c701ad0ef8a88642507ea424f3cc6a84d7548afed1e360805e734b88c': <device.Device object at 0x133a16410>, '1d30711fc0b97d35f5e887861ba7c44cecda4b1aa85a79dc015f1d5886a6df29': <device.Device object at 0x133a16050>, '878bd28ec2d73b7b428dec48755cbe2bfd7c3637640261eb651bae236083e16c': <device.Device object at 0x133a15910>, 'a2592b342e75980e7d1f68d25e1fa8c942fbcaec5f6160c928cea8012b6c2969': <device.Device object at 0x133a15550>, 'c5693afd8a1a90a5fba33d121220cfc55805566b4069569449157444f9eb30c9': <device.Device object at 0x133a14d90>, '6a41422bdce13da2a70e49ca8f3dcfa56d5c656161ddf04a13d884fa69c572d8': <device.Device object at 0x133a149d0>, 'f2650258c57ec86804243d97b861ff4cf8689bd4e4a8560abdc402da4cee46bc': <device.Device object at 0x133a14590>, 'ed5b6fcbbba9ab3d4fdb799316d1d8d94619a2c875d114c4c67bafe02f40ed44': <device.Device object at 0x133a141d0>, '70ba3e5779d16931af867bae2ea144cfb25e9153c526fc87f36ba5d2cf82b956': <device.Device object at 0x1335f7b90>, 'f63c27bf255d692ccb74ad6f160fdb9a632bb81eb819537b924495b56ec9e252': <device.Device object at 0x1335f77d0>, 'cca847f6a1df25889bd90ffc794f4ac7cabe8c25b4f82e57b376e9ee20312105': <device.Device object at 0x1335f7010>, '9775e27e37648807166cfef74cf8f5a7f1527f7746c9ac7c6549d0f25dada50a': <device.Device object at 0x1335f6c50>, 'f42d3e5c8303d37a91f6695cf904b67f43ff3d8380e7da6129ece1a5301d31e9': <device.Device object at 0x1335f6890>, 'aa5b1f2f88f5d1b10a14090003fc7c5110cd70c16a33304d9e93cfc297609670': <device.Device object at 0x1335f6410>, '13e199b1ff05c07bd873cccb4929af08c8aabfc65fd9506bca319cf25f4f9b4b': <device.Device object at 0x1335f6050>, 'a73b3efcb312760566978149b96d220b327c94c22c240f03905c59fa23ae106a': <device.Device object at 0x1335f5c10>, 'd99d9a112ed42c1b6998dfe5933d822615875ec1b8dcedd0b4786d77e973f05c': <device.Device object at 0x1335f5850>, '306abe2c0e43bc1f02e491fcf0dde649686359733be69fdb781b40ec6384350c': <device.Device object at 0x1335f5410>, 'f55eba4c7197af9c1dc3add7d4c7f40898f9327e1c2b98c06cff0e6b01911401': <device.Device object at 0x1335f5050>, 'b7ba62a109fca5f2bf1a7c5884915c96e34140b3f237367d0b3dfb174cff7cae': <device.Device object at 0x1335f4c90>, '1c467cc7fa0f7e7e951a300126e5a1bfc8c918c69f1d9590d6624e7d592d31dc': <device.Device object at 0x1335f48d0>, 'a71363022e34abe1ff0a89965afad5094aff5b53594c6f55bb9055e3e4c7bd7f': <device.Device object at 0x1335f4190>, 'fe5ae335d5a475639ceb044ff6185e25170fc284d772d8584a67caa7d729af6f': <device.Device object at 0x1335cbe90>, '5734bd0caf52650e61029c80f31707c9a5065280f90e4bffe248690f7828d5ae': <device.Device object at 0x1335cb750>, '0eb6852aaddcbc6297b5c8de46f2f1e004bc6bb158f8555c8d1c4b32130840d9': <device.Device object at 0x1335cb390>, '5f561d91047cfe2bedf37c3a2ba8594065dd2bdbdcddc42c1cf95a265e0b6ed8': <device.Device object at 0x1335cac50>, '0a8ab817909777753b834f9b8d2fa1639d3c5da65791a022b8d1bc9dd9624e5d': <device.Device object at 0x1335ca890>, '3dd83ea56839861afa3bebdefa45b8b7e5e470b199c308f4299741355275f39a': <device.Device object at 0x1335ca4d0>, '20c1047f25f8e01c1555a8fcc6b5c29a2206ef0c116cc52a670174200ac4af87': <device.Device object at 0x1335ca090>, '45cd547914f0a518777d08d1dc77ef2b92d3f87de2a9d64169c8aef0ef589b4e': <device.Device object at 0x1335c9cd0>, 'ab841351ddb882690bf56c0de51f4511aa2bcdfeb1e0be0734eb796445567295': <device.Device object at 0x1335c9910>, '64d95f701777e215a26b1aa05371c8e624b5ad01d3f13eb049d6100471587a94': <device.Device object at 0x1335c9550>, '0bd476e36215cc79aaffb4fd155971b3e83ccc3741c072c85e8560b48f18b3df': <device.Device object at 0x1335c9150>, 'cd0829096ad3e8dbf3eada925ff176148c77c0f1638064060bdbd84c5720d17a': <device.Device object at 0x1335c8d50>, 'bcbeeef2753f234bc009391ff0c58003060de7e24130ec241f7673a69384117b': <device.Device object at 0x1335c8410>, '475d75916176f88a1a01cef80953cda25edeea0c7169d037e2d726599538eda5': <device.Device object at 0x1335afd10>, 'ee87c47c5bf3dc97d81ce01d8e6acc7f8eb9c24c93e67db8de172ae5d17e382f': <device.Device object at 0x1335af550>, 'db564c392e7276147b5a7cee75f7ab3a2cb7be66cb7739ff0e2a769bdb439cd4': <device.Device object at 0x1335aed90>, '70dcaff00b4c771bc1ebe8cdee6dcd82bacad18be0bc8af7813cf2790162ef9a': <device.Device object at 0x1335ae950>, 'a8beeaa0d9ab9d7cdbee3f1aa7b8c092941a8ad2b812bfb20e193ba707367438': <device.Device object at 0x1335ae210>, '63d68829f121dfdfbe07b0ab51ddf1ff367faf0fc3e9bbc7d38bc51b0e078874': <device.Device object at 0x1335ad910>, '89dd68a8ef0c7363815da90f7241cb07ba389ed32c8ed66ecd9b494ddb34e08c': <device.Device object at 0x1335ad1d0>, '9bb124fa746e1907d0cb867439cfda6d6dc031f65b87d5d8dab99351c001f2c1': <device.Device object at 0x1335ac850>, '31bda66fa605b00ef25a7201bef0152e13b273f6c5a567004a400fef874fe240': <device.Device object at 0x1335ac110>, 'fe6349cfe798c6e996e0ff7310e074dd066793d8233db8babfac440e2579e977': <device.Device object at 0x1335dbe10>, 'fcaa446b141d44765db77456b3621d2f6d95c798c214f5eb1d6cda0e8c8f9f21': <device.Device object at 0x1335db650>, '820128331527a6d4fce920c00d90dc01fb6f1e7adcdbd1e55528a2b2c2efc572': <device.Device object at 0x1335db290>, '1b34b8679af097855808ac7e919dc11124beff64ae120d53e2d0e5ddb5571e3d': <device.Device object at 0x1335dab50>, 'aaa4d20435b0a0633f19716521269fcc448441171c1978982280d41ca265dbf6': <device.Device object at 0x1335da790>, 'd6a978128593a49c6d1b732516d1df44617662b56c0954e4d2477203afe7befa': <device.Device object at 0x1335da050>, '48d9541a2aa9563d06376c67efcb07665073a695cd8e75fc22f3b3808b92eee7': <device.Device object at 0x1335d96d0>, 'e8cca0d4a23bff873da56f78f14cfe0822774f69eab91b310caf19572564b16c': <device.Device object at 0x1335d8f10>, '0a24f3eadfd9c69c364815a7e8f91ef1c57fddc5a1fd7d2f38755e1d38b0002b': <device.Device object at 0x1335d87d0>, 'e3485fc9a7ce96b0e62f71754691cd695ba439a857b020605cca54a2795e16ff': <device.Device object at 0x1335d8390>, 'f9fe7160780f9e52d458e6909cca62a3fd45dbecabe2f565aa27c959ca662e12': <device.Device object at 0x133593d10>, '531f070722f3acac94adaaae3e6a386009eb66c528ef677145bba2ac37db76ce': <device.Device object at 0x1335935d0>, '43d22587e2dde9252f679e7e565b50e70bf6cbc1947ceca7c7d2e9b3529e7ac9': <device.Device object at 0x133592bd0>, '65ca8619f06011c8ea0b23bb146e75b715bed60e03543a4a5e7a1676c957627f': <device.Device object at 0x1335926d0>, '6495fd8a1a4c0343e3766e05342cd10d650a3b37faf44adc536d5256b36c3f04': <device.Device object at 0x133591f90>, '4308182bc6705ee72a917cb2acf78138fc0f95b2e24a32c08d5ab70a3d2e5329': <device.Device object at 0x133591bd0>, 'b6434157242d8368d3622c0255a987a6ff46c3209276cfe5bc5ae8be218673ef': <device.Device object at 0x133591490>, 'ba51da50f88629aa098a9e5d5616b77ad6ab2675f7cf968706a218a9a87e75a3': <device.Device object at 0x1335910d0>, '7f9dc7eff685faea4eb01f4a882e7d03cbbf54801fa07cb53e55191604aa27c7': <device.Device object at 0x133590910>, 'fcfd70ae0447bb9847bfffd02aaaccc2dbbc1a0e3970814fa58f94415232eabf': <device.Device object at 0x133590550>, '0633cce3219454a1e1b77d2fd4e8b3d6f1812eb3c238845f7d4135b590561762': <device.Device object at 0x133557f10>, '5e1f300a39e61f28e683b154ed1d9c30ccd94e0c72ad0db6558d443be624afa8': <device.Device object at 0x1335577d0>, '05bec2b4d0b4dabc356ac1b0b2b50f9cd4b68e42e9c403a7d82a3212dc71ab20': <device.Device object at 0x133557090>, '2c2327ff4764f1f5a25912d2b081d00b30e6d45cdf3094d369c0d50e6da9ae71': <device.Device object at 0x1335568d0>, '3e1272cdf6d95dc2db01a07bbc655e4007552240d9524c148254fb8969a3b511': <device.Device object at 0x133556510>, 'a573a33e572b000f9668acc7c4edce5528cfcc6d4ccd7beb17241c0b6fedfa79': <device.Device object at 0x133555d50>, '5e86b7e5e5a3e273656ec2853bf7cdc66c4383cde803315c1e88abdfd30ca013': <device.Device object at 0x133555990>, '08519b50e23928aca2776a93cde6c37f2eb916d92fbc6060e67e63449dcab796': <device.Device object at 0x1335555d0>, '74a4f8ff23f57e9751f42a6ef7f5328ffc9a2a02b6d2262d07665a5fe6945a34': <device.Device object at 0x133555210>, 'e6e2700a6b83fcd3b1babe38507e68a685a5bf6435ebd0a55d8e8cd3cd91548a': <device.Device object at 0x133554e50>, 'e5e8cec6b46e1aeb10363d087d9996a15897659f58c94a7d403b1f88ccd0b9b7': <device.Device object at 0x133554a90>, '584e57e60c7eaa49b1386efdcb1759008b96b4fbf8ef985ea9113528013dc223': <device.Device object at 0x1335542d0>, '8aa38b6161d094fd00e436e781462aa3f6fddf6a7f2d9245c3b9382fef22b4e0': <device.Device object at 0x133577f90>, '42ed8f546badd378f0473e25af1a5436abd2a7bd94661dba2a5e9d20a2a7f015': <device.Device object at 0x133577850>, 'e586283382cbf6510b5d81577ec4956eeaf9d7c92be1b2357744f4060978cd66': <device.Device object at 0x133577490>, '989aec9d895d0b3cf3b1f88d63856a455e8ed8185281c677983ef47e023899a7': <device.Device object at 0x1335770d0>, '4cbd29d888326a69aa21fa2fd7645a33d7ca314e4aa1566e1160400d494cb68a': <device.Device object at 0x133576910>, 'aa24ac3b7f8f0010e9415961f51f77fb1bc4061a5c9b212a081d9092d6ce1ff1': <device.Device object at 0x133576550>, '40a98db08ff8ee741cc7094eded13f4f3bad4eb86482161788cadd01a7f2920f': <device.Device object at 0x133576190>, 'cf11997145bc81c1fc097f572868f94e1d2c9729d6441be84afc88f10b2c8e4b': <device.Device object at 0x133575a10>, 'eb3158112efa753fb99f4c4ab4d05a1a7c862e497be6d3beb17ea98bcedd14f7': <device.Device object at 0x133575610>, '0f8687a73f887a6a87cef81cb0918f6536be995045b5b17b30488f1db6e278a9': <device.Device object at 0x133574ed0>, 'fcce51e2177ac2bfc2fb5575faf47e7f8ff74cd28ee7b7c54f01827323bca089': <device.Device object at 0x133574b10>, '4a166f854d5038cd8004003762a2f496e5f6649bf546e439d487153c42db1de7': <device.Device object at 0x133574750>, '1411b607c091543fec2da6660302f148bc8ed975bf8e1c1248c12a60aca43579': <device.Device object at 0x133575990>, '108e95cf9aa88c027ae26962fa1b799c5b1a476f3bc1bdb0af7313c4aee5013e': <device.Device object at 0x133547bd0>, 'a199b3cb6fc58b5f876b86de1292effc9c48810a65940d0e65b6f3b279904333': <device.Device object at 0x133547790>, '34f5ebbf35a8f79f2eda49a71afcd58ea1ce046d41c0f77110897eaddf58b9ad': <device.Device object at 0x133547350>, '73dae563e94d859e2acfacd76dcc033a141861a7f053143da979e2bf9ce1923b': <device.Device object at 0x133546f90>, '805237db26290c695ff1d48da7e87986516a6c521c79c9f5eaa5b3dea3d1e855': <device.Device object at 0x133546bd0>, '3109f79b09570656142cd811e413a7f472989674c5c6c0416b12f9feac543b7c': <device.Device object at 0x133546810>, 'e9cf9b4493b4c159313f925e8bd986b1013b8620429f940048c931e046ce9cc2': <device.Device object at 0x1335463d0>, 'ba86d2cb01085dbd4f2a4aba18c41f5e8e9b71f223d5d50cfbcf63d4a63d575f': <device.Device object at 0x133545c90>, 'b8a8f2c6450feb09fbd5a00c0fc4a6e165cd8d7d48979a1d5d1cd0b5039329b9': <device.Device object at 0x1335458d0>, '8033f68027877dc2c8bcfd911d98b09eb04f851bc0d18026213a4a3e54962883': <device.Device object at 0x133545510>, 'abdbb03ace314885d5af2af8c2d0db87702f83b2cc6ce42acc1738a6f07ac7c4': <device.Device object at 0x133545150>, '40db6dd97c552fc22485eacf822f4197b400219f40388e3b1e405028baa01fcd': <device.Device object at 0x133544990>, 'fa1223414f4dec5fc2e877ffc2ab259ce0b1744211a996f86a90c966270bf69a': <device.Device object at 0x133544550>, '64b85f4498b09f520a1bd3ff93c2df69b7088489cfeb9fdcdb0c20c082e5578a': <device.Device object at 0x133544190>, '32cd4c834d9951d019bb7b5863fdda22ef517c350b3c202d8f61602799e56ba8': <device.Device object at 0x133507f50>, '9c9d736b7e3685ca019fadd67120de5b2ff42ba04b17bba9bde608ef86ac1828': <device.Device object at 0x133507b10>, 'b95af1a4b943c0b69465d5da981355e9f48ffd58f53a8be7c51e570ac554dafd': <device.Device object at 0x1335073d0>, 'e24886b37071420a51999cabefb0c29e7aec9f1e2d2a4c22cceb6a5e63b6c981': <device.Device object at 0x133507010>, '4146c770a103f373ab53292d63b606edd32781b3505db577b2769d3f0d243543': <device.Device object at 0x133506c50>, 'df8756dc93d4e61b38c983ee51ee2e4494f9352ac7dc9790946ff29e73c1bf2b': <device.Device object at 0x133506890>, '74355129f3371f75e1e603da938b856cf7569e7260b1534b9d7c1cfa7cc030a8': <device.Device object at 0x133506150>, '6bcb0a0865b3423910188713387381172064cbd598b93c95f7a41f650fefc9e1': <device.Device object at 0x133505990>, 'e5343b272325b98c2fc38fbc6c916e59a0a3b6bba5e2307af0d8b31986bf2cdd': <device.Device object at 0x1335055d0>, 'c5360af95631e907a137de4c55466c3951df4ed9035f010d23aa6f8ed5b3a240': <device.Device object at 0x133504e90>, '8946fe08cb969eb5516d630b9011f9c8009b4d709d812d787e9e5f629795817f': <device.Device object at 0x133504750>, 'f4d7d1bbc78d319ee06a09bf033b2c142a55d22a1894312fac75012915b7882c': <device.Device object at 0x133504390>, 'fac7ad0a0714565a8a6fec67c59c0b596cfc4ce6c91076579e1fd7bc0f9310c7': <device.Device object at 0x133505c50>, '18723f23cbe4008011c40c65f586b93cd6afcb0229dadca38b1c24b4fa3b56ae': <device.Device object at 0x1331f78d0>, 'c6cf676a31e14b119795b96b932a2c2eae3c87710b84ab1a8455b584b352426c': <device.Device object at 0x1331f7510>, '669f3a158df6cfbd3f2d50ee2a8197da90647649441b3fab571813a294543a31': <device.Device object at 0x1331f6dd0>, '678e9554179de4e984bd438b62918e75273ae89f77e56cb6ab9eee95ffb6a3cd': <device.Device object at 0x1331f6a10>, '534b61c454823ba21a2516b88b900b7fd8b3c577c8a15050462b9416c602e1c6': <device.Device object at 0x1331f6650>, 'dc3d87efbf1610068777a297b8febe3577253c58ff2201374903d7ca2d5d2f51': <device.Device object at 0x1331f5f10>, '287a598b8a17828d13538ce1e84513a7a558f293aa567393275f228bcc11c148': <device.Device object at 0x1331f57d0>, '16e474bf3d9618cac70801a7c4b3f59a565a0df0a3aafe8a885c2c91233cbdea': <device.Device object at 0x1331f5090>, '34e904bd1d68b64c5bd5daa813bba5664aa682c7bb604df1c59f37dc01568ba2': <device.Device object at 0x1331f4950>, '3caac4eb155f19949feb598b2c00e89365bf0b20f0c18711dd2294700e289bdc': <device.Device object at 0x1331f4590>, '8089dafdcfb1854f8737a7e2449c0a37f29c27886d907a332c802286865dbf03': <device.Device object at 0x1331efdd0>, '41ffdd5e82438e7448efe89bcdeee7e3cb895712a870b3a83e35b4425d624cc4': <device.Device object at 0x1331ef690>, 'f3d612dd8ab8f39a595d41e01e17650581d146d9b947c7fa479e421fb211376a': <device.Device object at 0x1331ef2d0>, 'a93e5fd25bbb3d032da7f3d8758dd68372b80311ae5e68cfad961adb7969d7ef': <device.Device object at 0x1331eef10>, '8e8db7ca42542ea083e2d061414c39c26f57a4cb08aadab10735c3a1f45edaab': <device.Device object at 0x1331eeb50>, '4e02176646b1af1ab5556f730b55cee020f2e8628cf3a74985c13774c70ca278': <device.Device object at 0x1331ee790>, 'e72a7038356b7a8545f0758fe373b142ade1936b8a8f7bfbe5952a4cdf614c00': <device.Device object at 0x1331ee3d0>, 'edd8d2adf3629971ae201c12a14a8e20e5424d6803a59017aa39e76288262a02': <device.Device object at 0x1331ee010>, '25defa89b4e4dda0b6eaa7cb00028d9fe5623b20fc7ad9b65a93a64ec4df76f1': <device.Device object at 0x1331edc50>, '45d51055acf427459638411913beab539bec55f75fc627926e4f7e9fd235bb1c': <device.Device object at 0x1331ed490>, '05d5db57639c71f81bb418e17bdc3fd50836517bcdb1426aa659b157cbe2bcf6': <device.Device object at 0x1331ed0d0>, '8df100710cee7871a25df215e658541495ce4785ec8cdf813f46169048c02891': <device.Device object at 0x1331ecd10>, 'f15109a5ceb2e53584a85fabf71ded32dcd045e27ad6a5a93f0c3d65f53dec62': <device.Device object at 0x1331ec950>, '284389b214c6cbdedd493eaf3919a774623dcd6aafc27706d2393c659cd10d99': <device.Device object at 0x1331ec210>, '5d5464fbc741b096decc8779f83dadfbb93b28c71801e573965cf6fe376c40ec': <device.Device object at 0x1331d3e50>, 'e114c21cbafb8239a127fc1c5195d44d93b2477fdf06c68a5c15b6153f3766bd': <device.Device object at 0x1331d3a90>, '29b05e48addd24db114e2dc5f26fff176a2de46fd3737117fd0c02d645616fdd': <device.Device object at 0x1331d32d0>, '45ea0306ffb7ab04568668bdfe68112c4e722444b3e82cca271969a36e86aa38': <device.Device object at 0x1331d2b90>, 'f0d8ebcab23f4717372474641d98a13e59317688376632bf1502b40c27ff7833': <device.Device object at 0x1331d2450>, '67ec9cbb3cb6e554bfdc8efbf12c6433fc378b021a569691a9eb1dee3bceb1fe': <device.Device object at 0x1331d2090>, 'fa9f674d5dcbfbd78633d2608aae93aaea00e9cd2cf143aca1d630d91b6cbeeb': <device.Device object at 0x1331d1cd0>, '4e1fa90192d475cac556f8347110cee51df597b5a53f7dd383a8d62b312f8452': <device.Device object at 0x1331d1590>, '45e0a568645bbf4b31cab07a3c59ba51ef1773508526a9ff8caaa88bb8c7ffd9': <device.Device object at 0x1331d11d0>, '14925e9ad5d3556d893e2dfc07ea631938bf63bee2319f2de91fd43750f92323': <device.Device object at 0x1331d0a50>, '0e4ed2914c5f0c6ac1a2092a1047ef20131d3ac1012ec080c9d47e3339a82eea': <device.Device object at 0x1331d0650>, '542ff35cf9b63079abdfbd2a917c56d8d9b4fbd394472200a5d68c92aa8000c5': <device.Device object at 0x13351bf50>, '3cb2b72df6c0da45cf0b969c604f745fdd9b9042676e50958e444134cf9cec98': <device.Device object at 0x13351b810>, '63bfb947fc187215198bbe6f2b9e57f381244af86fd94249e337bf9a77dbd289': <device.Device object at 0x13351b3d0>, 'a1e0e78ca8e2537acf8e850cdcb8175533ab4ceac70af22fe1e6a3721d8800aa': <device.Device object at 0x13351ac90>, '03b7fe876a655ac2b69bec4ffb1fe84e636284a29660292814a0c9e2bdf24b67': <device.Device object at 0x13351a8d0>, '020daaa64edebc64b244bfd2952be0d4536fea8aabe7add248e1d0350114a814': <device.Device object at 0x13351a050>, 'ec15279638a7ad77773ab864e75d3223c1f138e2981d5310cdf34ed2a78b1a72': <device.Device object at 0x133519c90>, 'efa72ec2d4f345555e195174997253d80c99b63740d8be964c02d18e818cd8f6': <device.Device object at 0x133519850>, 'c48c9ec7d771a94065cfe7f84ce2db873cc6871fb336acb0b6b9a5b29229e5a6': <device.Device object at 0x133519490>, 'af02495771f051092277b7888a02ecd3a8f96a0cd28474759f85aa2a404ffc2d': <device.Device object at 0x133518d50>, '559c31bbf563a4a3cc525cdd0c2564542732dc1033bc95868f4135bf82350940': <device.Device object at 0x133518610>, '0baa219c254abd87f6771ae3320b4e4dd4f0fd840cf03f73e5e15ec0fb7f50ea': <device.Device object at 0x133518250>, 'f08f6c000c8b94825bd5638db114fdc784cf080ef58809e8f8ee364ca768b3d4': <device.Device object at 0x13319bb50>, '0c008d44f72668b4494d9b0e00f167c380d0961560fd4361b9b7649acf2156c0': <device.Device object at 0x13319b790>, 'fec736304b496845bded8f3af070268bc4737b570c9e03fa8d3d4c0326f3373e': <device.Device object at 0x13319b050>, '4234761de92415f417d5a340b32bcf6ae50876cbcc28a4f557a70e5ccf20b035': <device.Device object at 0x13319ac90>, '38942b44b7c9b9e71fa516343596d741dfc48174856a6c00f6b1ce08c3cfd182': <device.Device object at 0x13319a8d0>, 'a7259406eca89a57af7558cea97b3ec72f1e223a6d5737b89bed8f1671b26941': <device.Device object at 0x13319a510>, '4aea6ea7f0b1f12827ee677b17571310e4deeb3ea88b6bc1c16fec1860b2a5f9': <device.Device object at 0x13319a150>, 'f71f5a5901713a778a1141eba4b84acdb487ac955e2af69bb4ca0cdac2c7619f': <device.Device object at 0x133199d10>, 'ff8e9c2e7d30423d40033e4eabdd6b31137e3528ecb1afa767aee573f26276ef': <device.Device object at 0x133199950>, '23ca4988c8465afd0a645a2579d05a67930852561c6cdc3401f4b2b2b3eac0e2': <device.Device object at 0x133199590>, '0c7eb5e096b3cb4f80c2260bc5a8a32609b3da6bda5cbc135bc5d06a1cada288': <device.Device object at 0x1331991d0>, '712e1d61fae77979195e73554655c5988b443ecb1adf16e106bed714d29a812a': <device.Device object at 0x133198e10>, '4a0e9633bf1a3951d9e598e3f0fce1634636c48316c9878f166b870e0a997f86': <device.Device object at 0x133198a50>, '2878be75a263b3b7e3874d0f6a90fef17dee7afee9cfb436082d06c002af8ecd': <device.Device object at 0x133198690>, '895f8ff54cb582875a94ce352cf68cdf9b861f9faba95fbf839627ee24a6e672': <device.Device object at 0x1331982d0>, 'f1bac0f56db0f1f45237a384bff88cc42ca0d75abe0f93a2199ccaaf710d74ad': <device.Device object at 0x1331bfed0>, '2186133fc324d566cb3f20e79a44b777c77b5086ca68e9014f3b5279a59b1bed': <device.Device object at 0x1331bfb10>, '878795791de763ddcef3ce82ac68754798452e3e5b834fe6abb1e84c6668a771': <device.Device object at 0x1331bf6d0>, 'f24ffccfa822c889048a8dbf21fb4bfeead5f0f9c88e622548613f912c1aff1b': <device.Device object at 0x1331bf310>, '5a4766f152f136098d91a999bd1cf6d6b337d822bc4fe02d3f0315e46802a5cd': <device.Device object at 0x1331bef50>, 'a41f8f089abb3c507d4abaef613ea31e43bbff85149f3fed9843f14949c97571': <device.Device object at 0x1331beb90>, '984ffdc6b291a97f5a16de2cf033e5c238520b308e2b74addec517fdba792585': <device.Device object at 0x1331be7d0>, 'f62ddee60f20aaddd49ca1718deb93dbebcc2cca099232119eaed923daef4073': <device.Device object at 0x1331be410>, '13737684bc7286ba5903fc89e68c43f3456c9edf41961310c24d9c0539c8981e': <device.Device object at 0x1331be050>, 'daf8cb9d4196e75e82b9db9939f80a58976c943fe50961da3542ae501dec61db': <device.Device object at 0x1331bdc90>, 'dbc8cdda693ca0d62b83c6d16f090ff75546477e428e045663889f6361bea71a': <device.Device object at 0x1331bd8d0>, '4afe3e24a061e467be084e5cd7aaf1bcaf203df956d4945dc5e7a18180d7af64': <device.Device object at 0x1331bd510>, 'cf9efa79dacfbe1b4825f21d56d2d58498c9d3e3651b4b2228abe17945a8d0a0': <device.Device object at 0x1331bd150>, 'b070fa47855cd54f9dc18fff5bb66c279323446bde8bfa86d97748be6c3cbe8e': <device.Device object at 0x1331bcd90>, 'd3c1140c54cbeb44103909dd42305ba2278c632a80713825a39324a65a71b977': <device.Device object at 0x1331bc9d0>, 'd0406590e6d58cfe4cc280e499604f6dbb5fba73580cc770a5283d8cfd3c0e06': <device.Device object at 0x1331bc610>, 'd29ae83a2e8ca8afd9d986901d9018c49a4ae825068ef19b7a2d9bdfd00c1bc9': <device.Device object at 0x1331bc250>, '2eaff159d0c9fdc7a81995681c84dbb730ee62ae807e3f29e9a77cfafcfe316a': <device.Device object at 0x133163b10>, '1283cf4fbc84b32d04d67df326aade4dd377e6c1d6e6bc017cf7d4470cbae448': <device.Device object at 0x133163750>, 'ff4d529d9c5c70c5b9c26297c58ae15201355d1b3ca8411e0219ce828169c90f': <device.Device object at 0x133162f90>, '83db2e89def61ad6af556dd6ef74e4edefb7b4622cc6a8de5707de37e5ae718d': <device.Device object at 0x133162bd0>, '55d977cc47926d7cb3a0423d50d4d207712b40efd2d0645d14eeb87c283329c0': <device.Device object at 0x133162810>, 'fa7482d63172fb29be484ccf72634bf82214ea23dd486ca9e4e8697b2f0105fd': <device.Device object at 0x133162050>, '60284c309a8006d5d8a90778fb471599e7381554eccb8e3e7a5d016b2c11b730': <device.Device object at 0x133161c90>, '3f5c92c675e57ceb3e7c2bc9ef0aa881e2e40542b5c120fbf4751120e9dbd859': <device.Device object at 0x1331618d0>, '114c8b810b8dfb2f18d0bbd4bd21b2acb6ccc3ddd8e9f1637dc8f19828b1fc57': <device.Device object at 0x133161190>, 'ae4abee9093e9b293801256b651ccb67cff36352e2cd8d6f051fc12223d74957': <device.Device object at 0x133160dd0>, 'b378be000ac25f45bb11bbda8ba8871bcada4c293e27f79c2a405c9e4141b202': <device.Device object at 0x133160610>, '51ef9dc88a05cc08fcdcf1fe97a54747c8b2a097a0643366e08cf5478c9bc0e7': <device.Device object at 0x133160250>, '3300ca7ea8833c5dc8907b4994229e3bded23502c517fa7b2123d2f6a6cfe432': <device.Device object at 0x133187ed0>, '7149f74558e2f5bd85c60f8113e590d5aabec5021756be7f010f1dd54cc75926': <device.Device object at 0x133187790>, '42914fba27539025795f321a90ec91c55e5b58f86655b4be8d1fe4a60a7a6ee0': <device.Device object at 0x133187050>, '8f2a6c32f0af508a2363215044689c866c063e5df5121db189dee9be1750ba29': <device.Device object at 0x133186c90>, 'dfe549ccd8a2af723190ce50a1ef662981d5ee8936533b09ecc30460c27f80f0': <device.Device object at 0x1331868d0>, '0b6bc30aadbfdedd904b747c90f3c0b2f65aa8a6fa7d6e4e3b9b41d855dccb93': <device.Device object at 0x133186490>, '9347ce0ccf8ec1c0770aad5f57af94630ec05a08942a53ea179588815fdb1e69': <device.Device object at 0x133186050>, '42dbc0353d2ffab02e6bc154d843febc9c0237388638dac8aabf21ef3ab3185e': <device.Device object at 0x133185910>, 'e0fb2941a952d4044db95d95d7cd9d2e07134665b639a66ca302b81ac967abe9': <device.Device object at 0x133185150>, '1eb9a3054c31513ec0b53cb5bf420481ca611c398d126103e4a5da91bc2b28e0': <device.Device object at 0x133184990>, '830e91e4156b4892ae295e189c887fe0d001af6c8930626e4502675de2c39cd1': <device.Device object at 0x1331841d0>, '8645e64936f64abdfdfb5a498e5ec25dc4c7998f4d801fda9a6569da3a5d9316': <device.Device object at 0x133153f10>, '0e2d0851bf62d7723992489daf3ec6776dd7b93ece4afa3a3a93673d9037386d': <device.Device object at 0x133153b50>, 'a78975ff93405ae3034e354c2dc502ab7d7d843120ebb3c6ea0468e5a8dd841d': <device.Device object at 0x133153790>, '5de15e8bf303751f72715848de197273381d1f348c6132925a891a279e17e9ed': <device.Device object at 0x1331533d0>, '3e51042c2072322dbb422137cd037e831a709f367d84004035ca8f7c59128de6': <device.Device object at 0x133153010>, '17288cb0b0d8237bbc20e47acf8b61e1028226546889e03ed6d7d2f9dc047f2c': <device.Device object at 0x133152850>, 'fe6de8d030aec46ccf6c026d6cba135b922845b4b59a104ede5ae73e912da51b': <device.Device object at 0x133152090>, 'f1f029d160ea7ae30d9cfda59c28e61237c5a4f4e84e18590df3f536a3b199ce': <device.Device object at 0x1331518d0>, '5ab4742058880e6b298b4303547dc05ebb9b934ce590fc38a94e3bb0f608439d': <device.Device object at 0x133151510>, 'e27dd92d23c0e20fceaf42162e100e495ee319a519f729240856324d12fdaf78': <device.Device object at 0x133150dd0>, 'bfbf32e3c69ad548585d39cc41689628cff3ea3e2c5f9c505b88a60210569b80': <device.Device object at 0x133150a10>, '9fd80fb45fad7e335f60502b7e26d309470bb72614ee2ae34f4e4b7d5c4430be': <device.Device object at 0x133150650>, '42c69d46c11c4f5bbcbae26683f1cd7908d5ab8d670abafb905a743e11e0c1e8': <device.Device object at 0x133150290>, '5387e52dc3a8c21fe07f001f2c2a7e97910febfdea4b9a18e1cd3a00ccb79b24': <device.Device object at 0x13311ff50>, '2ebbc7211f9d97d470d2c861c91e000e8924e0ca3bf622631f9bacf07b2c0241': <device.Device object at 0x13311f790>, '493e258c0071fb13eae664f4b1eb65a48193fcb893d263097bc08a15fd86e61f': <device.Device object at 0x13311f050>, '1580601527f6bf3dc880baeed4db3d2826174c828aea74c6218b2b593121b004': <device.Device object at 0x13311ec90>, 'b5f15f290b50527e71f3fadeac6ee29f5eb07341551ebcdbb2ac10e40b8b35f1': <device.Device object at 0x13311e850>, '8ba34bd7525faa4127d8bf4155d8405999b32520457cad4855f2ff4157ff5dfc': <device.Device object at 0x13311e110>, '863ac5affea493733195cf9eca95b3e5297269ac397f4468c0bf47ccbfe65517': <device.Device object at 0x13311d950>, 'd7b9dc92a7bee01d4d2c61c95ba5f55d2bdbb3f31db44919dc1e5522b97403e7': <device.Device object at 0x13311d590>, 'cc0035eaafb07bea82aefa336807f75373e7a31c2f66573f3a95f6d13352c11a': <device.Device object at 0x13311d1d0>, '293909980c0d8367b65a9739da9cad13b4ed8e83ff1a67a52375fa6f6111b265': <device.Device object at 0x13311ce10>, 'e23b1b1b581fabcb61de2e73478aa05f5c552d05443801d1d73e8598b9a70198': <device.Device object at 0x13311c9d0>, '6e2a75daa6553cd2d429077ff8563bf2439128456b890e6d43f8ac932ab8292b': <device.Device object at 0x13311c290>, 'c5a932331eb8e6182f6d738eb4d0ba5025bce250d1ce42d91c42313ac8d530ca': <device.Device object at 0x13312bf90>, 'd4276834d5fa5e91e9336987eb8e54d79eee8a6cb35ceaeaaa7b55342621ef56': <device.Device object at 0x13312b850>, 'd03fdcb0e7a899a1d1ed84011da592b017091083d51da6b04c6b3a6024735202': <device.Device object at 0x13312aed0>, '2a769897b58c5fab8dd8bdf3c9c7d6a1d8437868b49746f270bdbad7351a3670': <device.Device object at 0x13312a710>, '378064ec4b26cd1379f43aeeadb8e9eafb6996c9efc78b3cf80a6544dad98824': <device.Device object at 0x133129fd0>, 'c00f340ee669bf4a958e2e816c7e57baced25f087724b13acdd9729c61cd40a8': <device.Device object at 0x133129b90>, '0afc58e2665f9906863e9bf86573168dca227cd2e97ced214791dfb01412f504': <device.Device object at 0x1331297d0>, '4e297a9047a177401506939864be6604e0cc694ad5692af687603ca4114b1d58': <device.Device object at 0x133129090>, '5e669610da2f56daa1b8df216cfc29b0560a8143bd660401daa3de345ba77799': <device.Device object at 0x133128bd0>, 'f512dfd618fef2094295199a3af0b43b07cbfd4ebe0423600ccb777f8bf233ce': <device.Device object at 0x133128710>, 'fb06da6990b13bbeacebf0595570eaf5b8fbb9ff0eb5e97f93a5d3a240bdb486': <device.Device object at 0x132cf3f90>, 'fb854e15f00bc65e764e154c9e677ff4bda31bca350b18c698d02bcda43226a5': <device.Device object at 0x132cf3bd0>, '25f75a6aa10d39833bd519a35885a34269a6ace8a8a88af22bbf612ce63cd274': <device.Device object at 0x132cf3790>, '0b66fe15961833dad30c439c93ba0a45583850b45f13b875a611c04310e51af7': <device.Device object at 0x132cf33d0>, 'aa23a873ddc953a0706a2ef582b20f5155f8ee01bb83a22345972e093ac3721a': <device.Device object at 0x132cf3010>, '8fbd0efe20da6dce6bb8fcd29d8ecb9111a2f620cab7065b10cac1066e0c819f': <device.Device object at 0x132cf2c50>, 'cb8c4874a094f04b20c37b3fe7b113494716172b19c4b60b50e5cb65e7935a81': <device.Device object at 0x132cf2890>, 'd321c7f77e042dbe184a087d9b6436c4448c2f00723cf48b371b92abab326dc6': <device.Device object at 0x132cf24d0>, '3a5ec3de32fb725b869e9c20deda0ba03f1b741dfc3deb82be43a17a0dac40d1': <device.Device object at 0x132cf2090>, '01ffe913d31b9f57cbff0830d62574f8792d98c19d5d124319ccf71252501998': <device.Device object at 0x132cf1950>, '932f348979e5fcb2cbe22df2b6e4f3daaaae435faaff826b6fd1dd5497718fef': <device.Device object at 0x132cf1590>, '3f5e8d6d227faa84a1ad03460085a104dce87df6d93c47f53cc0b4d40cafdc1a': <device.Device object at 0x132cf11d0>, 'b40541ac850a65a1125ef626c13c754622c57ae85e3555c5e6070d992fc06071': <device.Device object at 0x132cf0e10>, 'c88f5d8e9854501da2d2006573ef569f0323c98f31c8a6fdd6edc9e5dd70e94d': <device.Device object at 0x132cf09d0>, '71b48f9ca23db435a088d5bf584f79aab1cfe004ccb4d4e929729ad9ef0d0c33': <device.Device object at 0x132cf0610>, '0d70d16334c4db380b7d9a6e016403714b4e4918cf7125ace53bcc85c2491285': <device.Device object at 0x132cf0250>, '0dbcc9cd026a92b8d42976e14032bc3280434d1fb24d90c504c7c19b243e1ad1': <device.Device object at 0x133107f10>, 'f3e51e1b3f9423c9dd5cc1a3c5ee36733cbad16ece2e76cd499e946fef26ba47': <device.Device object at 0x133107b50>, '1e0000071162e46ab0169af9cf312371d3fe88c9f99bdc1dc7a488d9e28c44f7': <device.Device object at 0x133107790>, '9b3af871ff20ca299c459b34af6da65c13b1db1547779960f6d21caecea1c9ba': <device.Device object at 0x1331073d0>, '64f62d30580f3b4cc63dbb897c6b1d54534bcc16b61199040f00a0516d841f08': <device.Device object at 0x133107010>, 'f755c0da1ee2f8022cd899579ec4f198e8603719bc73c66e9905eff9d0da8564': <device.Device object at 0x133106c50>, 'c9d7a38e10344eeb537d468743cfe822418951e4eca174a36bd533532a34dc39': <device.Device object at 0x133106890>, 'df4998d764f358f909844b893994d20aeecb89180b67db302608cd3e65ec0b51': <device.Device object at 0x133106450>, 'c6a076186447080e8505f3c7738a5228a1ded9c2fae8d9188fa841631caa2110': <device.Device object at 0x133106010>, '73f3432a0372e6de496c745ad006fe9a9bc50e12a174769b5df24c003a411f9c': <device.Device object at 0x133105bd0>, '73444cf3b0073446c87aa5caf3852d421f7730c7a0c32e88788a817024d5dec0': <device.Device object at 0x133105790>, '49447a9e76fd0d4acf90021a79929f8787bdea774f90214be591102ae9f63fd8': <device.Device object at 0x1331053d0>, 'a987bed511957e1a7e21d7ddbeca7e6f8a71990ee8f09b41373d99b0b7f02bef': <device.Device object at 0x133105010>, 'bc091db4727c947f7b0611e1022426508db7f9e5b85371bef268fda7016afba6': <device.Device object at 0x133104c10>, 'bf72574ba852e7a42ef8293655b8aca1e2334f037acbd0230ec94452af012d2b': <device.Device object at 0x133104310>, '247dc2fc300e5e57242bda2bae0019a262f3f33ec9e14d0b0852448b9948f3a0': <device.Device object at 0x133105ed0>, 'cce498018c6ec6d4f1245d84ac97b2e9b9fb2b6c104e57543d1b7a40a3d12152': <device.Device object at 0x132cc3c50>, '1dcaf66e4f16de63a5e257c676ef25e699775035744f0baf661f7c6dac0a2108': <device.Device object at 0x132cc3890>, 'dcc40cf05906e1a725819408ad078af5f809803d293bc1a5885223d756426d7d': <device.Device object at 0x132cc34d0>, '04d893a8be4b0dfb1f9cda0525780c686ba31968694f874f77faa3063d98bbba': <device.Device object at 0x132cc2d90>, 'e6a2816c4a37df18e2d61b0490e1bc66db8c13780a6b8efec367936217d68276': <device.Device object at 0x132cc2650>, '5fb3f871c735bd54d38445aba1f04e9bf8415b341e5e648ac9e1247509cb9a7b': <device.Device object at 0x132cc2210>, '392b1cc0c693d1c65c72d3512b414d8ba8e600122e2ff6d5cbc4240db0ea5351': <device.Device object at 0x132cc1e50>, '9567e9baa6cf1e48a2a0f5c5ddc9f272f2d11942366880814a25ff09531c7960': <device.Device object at 0x132cc1710>, '32a85562ba6e157caa361f46a7b9973c57937a7c3fa106809e480d124b82342b': <device.Device object at 0x132cc1350>, '329680200c25143d3a3780a022c77bacce6ac6a8c70bf247b447119a32ed52e2': <device.Device object at 0x132cc0a50>, '00648c85650a649888e1e64d42d2bebe3a70ab87d236280d53fb34295477a765': <device.Device object at 0x132cc0290>, '43d1742ed3f83d55c8101ea798ef2f34fe0bcac1eeb76cdf92a0453c5888fdad': <device.Device object at 0x132cdff10>, 'e3d4fdea092e3e9e23357a263ca0cc5d6e52a1ac983a5b1f19ceaecf72452c4a': <device.Device object at 0x132cdfb50>, 'e1f2e8e937a1664b14b95d4673bca9dbc6d255b2fade0447bd38b03c07b41104': <device.Device object at 0x132cdf710>, '948fba7d874c960f52abd9fc32c8eb6dbfec001d1dfd374d4152fc42deebdc0d': <device.Device object at 0x132cdf350>, 'b089f4e2837de9b83e2dc1e90a03ef22f1969fbe4f56a9931c707df31260bdf7': <device.Device object at 0x132cdef10>, '595b913b85a4b4d724af12314b2c3463aa9d865667c4067985e90e3972f65116': <device.Device object at 0x132cdeb50>, '1d0caf41a4472aca74663e4a71b662d69b9f8b4ed35e5ea54bc41706ff39c781': <device.Device object at 0x132cde790>, '36f6dc0963ce0b492f3b0816cd041bde80d3d4261a72ea4062e5bcf7306cbda6': <device.Device object at 0x132cde3d0>, 'eb8575fad6f475bbcbe58c7485ceccd41b408a947229598be9d10baed14a495e': <device.Device object at 0x132cddc90>, 'afbbe1fe8d78a0357cb76d43992d70ed5ca4044f1a9f0d7f92de238bee32d58c': <device.Device object at 0x132cdd8d0>, '5f7a44b3df4cda0cc69c22280560df35c104b599f318ee30eb9bdfbd8ba57bba': <device.Device object at 0x132cdd490>, '198e053fcc9bafd45b280a260edf337fabecfe0d7ff97f2df00b306d68e76c4b': <device.Device object at 0x132cdd0d0>, '5d9f06e103f718a7aeabdf68b5798de7fe1a71f5fc3b85c15adb77ddbfa2751e': <device.Device object at 0x132cdcc90>, 'a8a4b828ac7d25012de242d9a160d946f35964f47c0aeade74a0737c9ed2cf4d': <device.Device object at 0x132cdc8d0>, 'e65a1d14bd4ce5d11aff94a57075ef76541e525c147df55a8ba4ed6c2156ab36': <device.Device object at 0x132cdc090>, '00411a819a6746a3545596d6c425e7cc84584a551993dccf6b79100ee0a2ec2a': <device.Device object at 0x132cafe10>, '17e7b88a99446ad583e0231e3c5f99cefbae16b7e5861b78ebcec2929e5bb81b': <device.Device object at 0x132cafa50>, 'f1c41028dea157ce306e0bda88559d85820cb2507c364fbe8cda326ac1b4b6ce': <device.Device object at 0x132caf690>, '190a1098faf136fb5de65f0182cd413249523d93c509f864f5817d5dc643d1c3': <device.Device object at 0x132caf2d0>, '9d45ab046e7e74325cf5f7dd2fcbfe6bd8ce9782da003b4a059a0ebb09f60a1d': <device.Device object at 0x132caef10>, '4f8f8f52615b6a585b848f59a5bec8f066f9064bfa27b64ba15e4980f4c755e8': <device.Device object at 0x132caead0>, '04ff9bbca01f3566c5d631841e35a33d2ee39ae6d97064e17823dc46f68bb102': <device.Device object at 0x132cae690>, 'f35e7141a881430ce0860645851c18bfbdb1d7bc4d04647bfb9d456eeaf843d5': <device.Device object at 0x132cae250>, 'ca579eb85b9b23b99482cadbe6cc975bff17d07ebd42ef388627bb3a3299c43d': <device.Device object at 0x132cade90>, 'd7269c2cc33e18de0a0f442299ab03a57922ab31fc358c01e96ec5986208ca35': <device.Device object at 0x132cad750>, '1fef4b35f3ff493d7d8fe80967c17ddbaa1db71d4e847bccb0f309c90cdb5520': <device.Device object at 0x132cad010>, 'e3d440b6b3c82e4864dca568420de7cc222e87e343763cd08fd469bc8208554d': <device.Device object at 0x132cacc50>, '4a1717520a34c25d611c5d261d15d83683f906cf321e920f46dd4fb68271753c': <device.Device object at 0x132cac890>, '8ae2169e0ed2be9668d239c762732ecf349c22f26ebadc7a9321412222255fc8': <device.Device object at 0x132caed90>, '5c1295163269f1f481316e275c5079cd1aedd1296593e4c9b19081900f6c2427': <device.Device object at 0x132c67a10>, 'fb3e3e74d55f691441e630ae09bb0c349670de7f61b5cf167a69649830ea44a1': <device.Device object at 0x132c67650>, '14ea7a437eee4490d27fd503869ff5d327a83901efb0c0305978e10f29c01aa8': <device.Device object at 0x132c66e90>, '1b1f3f5c8b2ac802c46628d2144339d17b0f67448cba1c8ed4e0289338301621': <device.Device object at 0x132c66ad0>, 'e239f359039627358850c99561697511211a5c240b0e6afad88fa47187437eae': <device.Device object at 0x132c66710>, '7231934e8fd82c7809521cf9eb3d40d395eb093416afb1752b431e5ebf1cd544': <device.Device object at 0x132c662d0>, '5e62b53a4d79349f76d66112f6220a3a04d576fd8aef70a2708a888da2e4c3e9': <device.Device object at 0x132c65f10>, 'd5ca454dfb00aa9f1ad1fbe5b958a7f3aeea8990a9be403215b50c088200781d': <device.Device object at 0x132c657d0>, '2bf05b9cf095a2dc036a75ed9d40388c579638542bc4d11fb7e393a6410473c4': <device.Device object at 0x132c65090>, 'f5048d545f3aae3b9f5d75aff8d273ede02072d80403e0c3d89859d7c1b89bf8': <device.Device object at 0x132c64950>, '252e839911f9128335e15c97a66d5754896f95b8ee74f1f81ef0d12226405b9b': <device.Device object at 0x132c64590>, 'f2a90e926b2b3ec090f498f09cd498bb18efaf9e7fc07b9bb3cef169ad3fb8b7': <device.Device object at 0x132c641d0>, 'd4bda21c26220653be269eb3f9c7fb83885915bc5e33ff07cda6f741b915cced': <device.Device object at 0x132c83e10>, '5aa18b25708aecdf123f739eb3bddcad50abb01cf741630a66055d30195cc01c': <device.Device object at 0x132c83a10>, '77b50a229ce6bc4f7da564fcf20e50af85ab1f516838f66bcc4cab2188d4217d': <device.Device object at 0x132c83610>, '9d71b4310441886ab769f86b519d701abab4dbc363041f47700c8f0997334a40': <device.Device object at 0x132c83150>, '8aca9941fc542835e4bc79e4d3943b68bb398c3dd275b91c126fdf06c619b305': <device.Device object at 0x132c82d90>, '7cb5496fe2395d04334e47ee5b530a36a588b9a47af19e664c78b690963d2174': <device.Device object at 0x132c82650>, '12f7cdcaee902e25e1b509eca3f96f2870fa9a4e42c574272c7fe1db7e2ffb21': <device.Device object at 0x132c82210>, 'dd7e1e602e786ca97e9cb8803f667b6262e7ee462575e37de7de9889b50bc2f6': <device.Device object at 0x132c81ad0>, 'ff4b1199358a1ca39186faa37cb33da9f2c52e25b04f6b0db57e5fd5b5d02aa9': <device.Device object at 0x132c81390>, '22a2f4787da8f6047879c119359d64f8c5de939eac704f7bb6b55b16a5d4cf86': <device.Device object at 0x132c80c50>, '5e6c3430b589210313e7517ef44ac87f3f6637bc99f7b9d50e186b224936b707': <device.Device object at 0x132c80490>, 'e2bff17d74b2cb7a9337a9d36ab984589fe3c2317f137fe03a78186dd6b20415': <device.Device object at 0x132c4fe90>, '9c29750092a92c40f4d0e97ca54cb274fd807eb3d82b519e1bf7dbe613da6284': <device.Device object at 0x132c4fad0>, '74eba4325a350b663eedc3aa825e3bcfe9fb574b92f59e7504552e5c8549917b': <device.Device object at 0x132c4f690>, 'e32e7491eac59b306b34adbfb36563cec01759b0435c575a6ee999bf986be410': <device.Device object at 0x132c4eed0>, '16955aac45a75d25811ff3ccdcf90b974d9160b5f774b2bd4aaa9f4e40de9656': <device.Device object at 0x132c4e790>, '64cd7dce7179d0155c2dbc4b76ee5e47864d101af5e30b39b8dd7ab34b5b6a6f': <device.Device object at 0x132c4e3d0>, 'ad3df701f971a38387f1023820424aa61fa44238a8f0180df9a43caaa5823048': <device.Device object at 0x132c4e010>, '721903f0bad7e02393a70c61190186f7f561b3f84e36d53fa93ce1f6fb649899': <device.Device object at 0x132c4d850>, 'd0d22e45b4c72bcb76bd107830cdb3a91dd801a97fad982294f21d4860ab5843': <device.Device object at 0x132c4d490>, '86c00e2acd73af31281d23ea2bb5d4e73db9cdb79a4953bb739c8c8250532aab': <device.Device object at 0x132c4d0d0>, '1530d046f8cca199a029c6582f07633d653eb83b1c5390fe73e3061f95bb6319': <device.Device object at 0x132c4c990>, '4d8419c5bbe00c92e940e51321787ea25e5cb894447ba8e950139f2a46d4a1d5': <device.Device object at 0x132c4c150>, 'ebf3c98cd6a0dce214c1532ad4db125f9fde01ddef6b349e4ff259b194279e2e': <device.Device object at 0x132c2bb10>, '1050c9538022b271438aa1f5f6fbb5d83eb24e16a8afba7c41dd8a1a73027868': <device.Device object at 0x132c2b290>, '50bee2936a1526a01034e513a27f295e1d4aa246a3f47675338b6a808e200e39': <device.Device object at 0x132c2aa50>, 'e944cd710ab0566533d3a44ba7309e264bc25725b4d45f8617e8522f2fa1e43a': <device.Device object at 0x132c2a310>, 'd8b000d7320995173591452b9b8964d63c16d1284d3c5d28f93fe072ea1d1260': <device.Device object at 0x132c29f50>, 'a52bc2466b3b6c92415d19ad41e2a8135096931c0f29f20fd87333eca54a162c': <device.Device object at 0x132c29b90>, '702eb97daf7874dfe83a30a30f0ba165dd0c4fc305629e18804c1c5b0f0b5c86': <device.Device object at 0x132c297d0>, 'dbad56b61154bba95de91fc82e5c73d4cc347f9ae775bc552dbdaf8c090ae3cf': <device.Device object at 0x132c29410>, '214e33f57e157af9c380dc5bd808bc89b25929942d7b01408e88a253ce060ccd': <device.Device object at 0x132c29050>, '629f6bf7381fe53038e8e6f66e1d3b09944360f06f047586b02198c6e9c06efe': <device.Device object at 0x132c28c90>, '04e62cd897523355598faa172c3186da85b730d77a6707136ebbaae185d98256': <device.Device object at 0x132c288d0>, '65a677defce3f58e16d5e42cd806827075dc8c6bf9ff5d04a4c0965549ea9f17': <device.Device object at 0x132c283d0>, '2720aee7f3e61934c6b56fab0b355921377ca7a89631a6562f44d988898e2ca9': <device.Device object at 0x132c2b310>, '947a5e1054585d7ccc235036570f58470170b6b6de0ed67d2b057493835f3bb6': <device.Device object at 0x132c03e10>, '90729247f23966592c848c778012828f9d5555f7409d546e13c5575961474fa3': <device.Device object at 0x132c036d0>, 'c913ced8c11b994ed814b879fea9234df33807a8c5c797098dc619483b2240c0': <device.Device object at 0x132c03290>, 'e0f2709a32965e1a2b7684fb11663aca6203b89bd6a5195fe6cca93cb8973f2e': <device.Device object at 0x132c02ed0>, '65515aeac076c4027adfc131b83d87a348647c16a8abc1e8dd3cfac8e1008035': <device.Device object at 0x132c02b10>, '8db070e1fc0bf029d60abc90310b3baa9522a09e0175818b0dc6b234b7ef10a5': <device.Device object at 0x132c02750>, '817fbf0cc75c5f2f455a9e4951ef6b017158f067e3d36132f4f0bb21a778cd9e': <device.Device object at 0x132c02390>, '4a5ab0de403072e1571a3d34c906da04c6d06ca4e88d3a0ae3d8428d1b22fec1': <device.Device object at 0x132c01fd0>, 'dd99762d1c6054a9a6978160bd9cba8537bd1e2f7f305d59d7b6997cb919fda0': <device.Device object at 0x132c01c10>, '91aba52b11f307e0deb6b167f4b8aa9c237d3befd74ede6cd00e7c776bc5901a': <device.Device object at 0x132c01850>, '8119958aa075657b8ff8793fda2bf1b29e38f2a4aa2149916733142bbcbcde90': <device.Device object at 0x132c01490>, '668ff700c77196b3aa9afae7e2072f7448e6ada1e042106cbc935dd9a66d508a': <device.Device object at 0x132c010d0>, '774dfed9ce0a4de19b00e92b217e26d1efacb14f2e0e71178e8eb193ed7738f6': <device.Device object at 0x132c00d10>, 'e7dae588a03b6a960a66731629329c44ca087b9c4cbdac917e66d9d5cc297c4e': <device.Device object at 0x132c008d0>, 'e6cd4b34ae36e072dae80992d3081ed459184e1f5254a0dd0eb8e9eadac7f54a': <device.Device object at 0x132c00510>, '34e9a4716796a2dc749ed10e0f72cb204d0e4b30cfd074a986a84bab098e3cce': <device.Device object at 0x132c00150>, '636d842afb88490f864fe4d5a4a9fd7bc57383f422759c776a32a6716de16967': <device.Device object at 0x132c0fdd0>, '9b871ab181a90c1a87fb0534e1736f44c282ba560ab98bd0e20fd0252b866747': <device.Device object at 0x132c0fa10>, '845614cdc428fc4967e5c1210b02413148166dadcd73b3a6eb4e65d6ed0fe15b': <device.Device object at 0x132c0f5d0>, '4e51a2602f733247105d0afe1cdb13b921b2dbaaea4487c313978849e47b83b3': <device.Device object at 0x132c0f210>, '62954ca805a4a132d0a90d84942bdc94649aa611b06ba8d9041afc0acfa35b8b': <device.Device object at 0x132c0ee50>, '2bc40804a1a4a734aeb2380e84f09f6931cde70dafc2bad07e625ef301ed847b': <device.Device object at 0x132c0ea10>, 'db65ea5ac4939bb33b01cc534294dce62af03c2f904d76d25c8f500a1abbcca8': <device.Device object at 0x132c0e650>, 'b882b366c388be69dfe0a50c460e122e6330441072a9d89bdb0170560bdc7b57': <device.Device object at 0x132c0e290>, 'b79bd200b06d4575abecb7749b517990eef250673221417fed556c247796ad9d': <device.Device object at 0x132c0db50>, '22281857738afe16406f2f2ca29d5bcfa27d459fdc36393e044aadeef8edc894': <device.Device object at 0x132c0d790>, '17010a5da9135307679a8116459bf2c04f9b83cf72eb02f3370bc6f6aff5083e': <device.Device object at 0x132c0d350>, '3b9f89fcbd67d4542c0bd3732f0ada844a73300b27e7b3aedd0a8608b7016efc': <device.Device object at 0x132c0cf90>, 'f1348d32b39fb6006fb77ee68f84acb7ff2cbb605b844aa2b254426ca3bffee0': <device.Device object at 0x132c0cb50>, 'f970ae9ae5b35e7c341d7eabaa07b54237ba9e79598391806613e4e79ee7822a': <device.Device object at 0x132c0c750>, 'c56dcda1487f09729cbdc3d949e27e996ed0cd5dfe5e9f07998b4a394708c536': <device.Device object at 0x132c0c6d0>, '5f531a4e14de657b8503b860ba7d6df68eab9af615deaf9c28e909129b155abe': <device.Device object at 0x1329d7cd0>, '93ef529b8a90d68def3cf0fe9b106a42899fdd38754cc780fce1dab2828e8773': <device.Device object at 0x1329d7590>, '17360d08188c32240e1442a3d0020dd96145f32c8d249e667abc7b61a5baa648': <device.Device object at 0x1329d6e50>, '5e910a8a0b9f979706b73a33f7b7c4f80211d7528e6a34fe8f189ad4cfd02a8c': <device.Device object at 0x1329d6a90>, 'f9bc7621c5f019de4cc499638a4b5c53678c575a1b36eaab3f27fd7c79d5a32f': <device.Device object at 0x1329d62d0>, '69ec56e6c4d6045936c7c001ec9596ed407587cfc6d53e4c8b2f150fc6733dca': <device.Device object at 0x1329d5b90>, '75e7046bff492c03525518134b1f797f946a69a3b5b06687d12e927435e4b346': <device.Device object at 0x1329d57d0>, 'fabc67721ecb8c6b5481dce8029e5aaea4acadc98cdaa1cd4f3156291a964d6f': <device.Device object at 0x1329d5410>, 'e1673255006a249e2b11443823e39a5bc11398b1273aade3f4ecedc80d4d0dae': <device.Device object at 0x1329d5050>, '91bab50bba7a02bc02128cfa8b2f4bf7714c1573101490a95bf6d6ceb41433d7': <device.Device object at 0x1329d4c90>, 'bcf29b6c526075f7364375d16cd93c65ed89ee579704d11e9d1d8b872a95622f': <device.Device object at 0x1329d4550>, '9edacc6166f3888c8240ea8db9a47312ecb2218a0c72705a01a8791c4abdf167': <device.Device object at 0x1329d4190>, '3ef7846f15c6e92042080825a317aa022964350cb4498f52469ca505b44acfde': <device.Device object at 0x1329f3a50>, '933f5a3586f8ab9c194e170e36e641a2679dc3d44565cedabbee9b817cc009ff': <device.Device object at 0x1329f3610>, '0cda8add22100001d25cc8b73ee359542d020711f24d371e89a3b2a6c9e0fb2a': <device.Device object at 0x1329f3250>, 'f21554e4740189f305198f74ee76049fb55f2e75f0d59daf264b12b375e25e69': <device.Device object at 0x1329f2e90>, '8fd8bf93da1157e1f4d984c6dc9dadd65930c55c077fe26e58f01854520725bd': <device.Device object at 0x1329f2750>, 'ac94407b50f0d3a8e7e6fb4ab067d8131ca07903b3d475346fc6bcbd52d8c66c': <device.Device object at 0x1329f1f90>, '0b5ec73f3521494947b71bebec64ae139c2dedf1059d25c755b93e0fe96f0c01': <device.Device object at 0x1329f1bd0>, '2daea4474515b7976d8f391869316087a3238b30dde8665ece118f8508937808': <device.Device object at 0x1329f1810>, '90eaf9fb975c1748ec0fbf10ceff0d172b60b1f341b3e9f436132aa5fb97ba1a': <device.Device object at 0x1329f1450>, '538c5ec5b833f7a0fe267f8970e60e752ac07aaa7128eef7cf6a4fac5ecfeb4b': <device.Device object at 0x1329f1090>, '243059e5dd1868563688b37b5cfbb8e9b0f7984bec4a0b47e2ef11f7e739dd48': <device.Device object at 0x1329f0cd0>, 'fed9dba848c801526e4c954e11ca212d9d5215ff488486e217c0989a85502948': <device.Device object at 0x1329f0890>, 'c0596109f1672d49b3c0c0fee8a1df37d22b0b140709199e82b2e236f59c053f': <device.Device object at 0x1329f0490>, '7b0d32fe7f84d325b36b887586acbce766cec29e262cca3f7c30e8b57a8bcafc': <device.Device object at 0x1329f0090>, '8b4254ed9caca8039590e928760e3bc716aefe215d2b48a7b59563ddb4b72911': <device.Device object at 0x1329a7a10>, '93cbbcda908933dc90c935793412321fa1fb16ff6112e3492c2608a323e4888a': <device.Device object at 0x1329a7650>, 'f336bf7932c9cb412234b429d2c99cf89ee74bc326dd69774b9ac7aff4ef5aef': <device.Device object at 0x1329a7290>, 'c994146b9b97ba3d381c85240fd427cef91f33b2f9afb14fde8c788d528008b5': <device.Device object at 0x1329a6ed0>, '91fbb28ea990cdf0c14ec8dbebc985f5320179eea2eccbce2ff3e0628ee09193': <device.Device object at 0x1329a6790>, '7a60d169f37b7669c6b2535c5eebc288efb17c0e8e38015262f4cdc5fd9e738e': <device.Device object at 0x1329a63d0>, '00f3aa04f4d95623927cd6b4029f3b22bbe0623e837f52676e3e72c46453d840': <device.Device object at 0x1329a6010>, '760cbdf051f9c0ced6ebf90db23634be962bcc3acd53a4f9cfa47e5eecacbe0e': <device.Device object at 0x1329a5c50>, 'd15c09e91eafab084e56ef5c07ce2031131d182a9c5b65b4915960eedd70dee8': <device.Device object at 0x1329a5810>, '5bdfa2d105d24fbd3ba7c210bbb65d9871466d4fa934a3c3bf28fdcb529b67cf': <device.Device object at 0x1329a50d0>, 'f9304ff85660523ac2635bc54aa5716f36160383b3f835a850872bf46a39d20f': <device.Device object at 0x1329a4d10>, '655947f71209c4c9e943b71437d6ff26f011c7224fb5001b2a736e33cf675510': <device.Device object at 0x1329a45d0>, '9f054f7b68333d0d42bd797587bc44153cc69dca31107b845b76ea5ecd5043f4': <device.Device object at 0x1329a4210>, 'bfd1b5c91b7da668bef6b2acf3173c775c1199fc2e67c1e335df11c5ac005ead': <device.Device object at 0x1329bbad0>, '43545ad5d748f8ace1aa0e95d51a66e2cfc7cb1b3d758466017eb5c1912793f3': <device.Device object at 0x1329bb390>, '3096d58a37c3531bb3a86a00bd25e44d97d09bb86085615a315ec8c57c0de273': <device.Device object at 0x1329bafd0>, 'cf169ee00327fe7edfa0ae0d1e08d57c3c76b1057bff81eb5c678481998a9b79': <device.Device object at 0x1329bac10>, '0db5ded98f626c3e9865b93cc9b91bdeb163f462d0ebe4f9da31a222da9ebe34': <device.Device object at 0x1329ba850>, '8aca82bac18b50f66b5624cc46c7d576f71cdd38e508c1a44a99329e12a1ac2c': <device.Device object at 0x1329ba390>, '5f13e5b2518b145b459bfcb462ca03bd4d490b3aeec3be15ec68ba7bbef0fb25': <device.Device object at 0x1329b9fd0>, 'feef1a4c96ce436f25bc8fc046421f236888fcf29e91a6afe4a9f80231ac1b0c': <device.Device object at 0x1329b9c10>, '6c9214fd047b1e256affc39cdd432cf9e2e8fd21cbccf375943be79bc8e59565': <device.Device object at 0x1329b9850>, '12821d94746e73a378d0fe7f0300a67550c0be3e10343d29f1ce20dc03e8c058': <device.Device object at 0x1329b9410>, 'b2dab04c382135dc5f0331e96648363e30293cbbd207709be850a74ab5e13d36': <device.Device object at 0x1329b9050>, '89fa31f6bdf7eaf0dea7f89761ab70a628f36376a5ee5464a4d6ce3eabd77fa9': <device.Device object at 0x1329b8c90>, 'e6a9c4b6fb81b5b7106374d6e80e97802910b014e53bffe5be7ea2ce151c82b2': <device.Device object at 0x1329b88d0>, 'c82cfc1c9245a4842170f802d1a26031fe93791313f2e98f7d62e9b7e95b73f5': <device.Device object at 0x1329b8510>, '55936dcb3d263bc6461938c180b510c7489dd9ae3220be193a270f1f99c34c73': <device.Device object at 0x1329b8150>, 'ca78a43244cadf030a88c808143172ba2c87f28e2c5b10bf5b7c090788956295': <device.Device object at 0x13296be10>, '4a7311423aa13fa88c0c4a2a1521a00cbe72e9c5e9183dafe84f506cd6b3b774': <device.Device object at 0x13296ba50>, '8477f4c8dfebb31e71999a836157a37af72b5771df586780cd4e16aef7352dee': <device.Device object at 0x13296b310>, 'c59b27384e862537370de254e0a907b300e841b660afa8c98415204877e8a01c': <device.Device object at 0x13296af50>, '286c69de7fc67db5f019a2b43c53c797ca62319404f84dbfdb226cbb32cc11b5': <device.Device object at 0x13296a810>, '39d5462d77b53e6c51831cfda10d3f16a0ac89b7e7a43cbc41c013f9397e1aa6': <device.Device object at 0x13296a450>, 'b875081044fb2ef6f8547550d2c910c95593f2b20a99181a66d3b5c4dae4376d': <device.Device object at 0x13296a010>, '6bf402715675d2f9c364434ce240a34762fa9c47a18c39f2908f457186105ecc': <device.Device object at 0x1329698d0>, '2fdda73e144ded9880aa0e698a3a894df24dff2daf16370b033461eddc0f2d05': <device.Device object at 0x132969510>, '7bb3c6e2717cfe168b6c32dcae21a58d5b5c9803ef41d9257a295c78d8671b73': <device.Device object at 0x132968d50>, '3e7094fb1c8d2ac6120aebd3ca390216fe70270e4b47a998deeee8732c15b7db': <device.Device object at 0x132968610>, '297a85b3e20fad7f81530b259f66c6454c04da07cb8da753d05bfffccf2bbd91': <device.Device object at 0x132968250>, '2e2b9ee183c8284adaf7d56cb781a129557600f7aa9a64ae3ac98f5735851b0c': <device.Device object at 0x132983ed0>, '52755d705e0d63d56a0d721acd3d4b38e6c3b299f9e9aa0183fd4bd79e508dad': <device.Device object at 0x132983b10>, 'e41a7c8352d3a8a083792f280f71dab49c4c55649ed94dbaf893b636feb76a79': <device.Device object at 0x132983610>, '725ad1fc1ed9c80cda32ff4c231c4d5a2675987cc61d9c58c0b8ffa4e0ccf2fc': <device.Device object at 0x132983210>, '2cd271fe6c60f7f236fc70d85c565399f934984fcc2ab60d894c0a402cbb53d4': <device.Device object at 0x132982a50>, '69996487370fb6268bc966fb2da23035f84ac7301942d83f8a296a3441ea77ac': <device.Device object at 0x132982650>, 'b0d37abd286b2e5d9e814212e3a98b283d65ac2b3e26e78feb218ecf3746d51e': <device.Device object at 0x132981e10>, '1623eef76fd438df1dbe38210ccb46c5817c136c3aca74e19774de298db063dc': <device.Device object at 0x132981a50>, 'daa17c1a2632b0008377068c6b0ce3cb2bf162bd7ab9adb52d1bf584e718bdd8': <device.Device object at 0x132981690>, '71106e9c51a502844933b25102ef3fba53ab07ddd7e5b18133108ae6aeb4fc28': <device.Device object at 0x1329812d0>, '511c1639c7ddd34284379cd5f42b2252b9c07f3fec2408de140754a234fcfb2c': <device.Device object at 0x132980f10>, '5b5163e5a07be1549eba9255ef82eabdcd06f9060b5b7b7b1615e4b6a233db52': <device.Device object at 0x132980b50>, 'bec12562aff3986fce4415a0b86c5adde733d73bdcba8b3a09b8ea7a6b8dfe80': <device.Device object at 0x132980790>, '329be88060b5f053e33d6133ee5ed3a6b6655e509d67354c43bf18c29c410b65': <device.Device object at 0x1329803d0>, 'c24120396f2394abbcbfa1bcafc92dae03b2e459bbddc78c82d13d6d46cc2aee': <device.Device object at 0x132982590>, 'ad8f9759e8fff5207fce65da0c68f12ef2fa0446cfecf1f5ec1e01156d7843ea': <device.Device object at 0x13293bdd0>, '951af4a135adb5abfbdba9f48fa843350325f87a50213e09f18435a130878beb': <device.Device object at 0x13293b990>, '92180bb62eae86e20e920dfc08eeb54cfaafc88d731d1a3f7d0c011d6c50313b': <device.Device object at 0x13293b5d0>, '76b6f1da59efe148205e9f4bd50b8aa6737bd6cd0837ba81df36c9c7fce75b2b': <device.Device object at 0x13293b210>, '838a0300fb62acda257db9dd75079aa36fdbaeb822ccb50781068519c73fd28c': <device.Device object at 0x13293ae50>, 'd7ca7fc5a6214bd5e2e8af59267b9fad2835b465623a85bde5cc35db0830bba0': <device.Device object at 0x13293aa90>, 'f9f95d1d0f6c2d989daffa9456aee66d91264ca15781c65653c247aa0dfdd023': <device.Device object at 0x13293a6d0>, '903542f75161e94a06cd944cdc7f6d221de5b745e0a9c9a0a72060698d507873': <device.Device object at 0x13293a310>, '0f4cb0ef937b5edc86b07be744ee322e4b2c5cf1b16732c7ba8f1064d71fe501': <device.Device object at 0x132939ed0>, 'b1f652a0e8a575833541592f8cda371509a49ad375988bdf558bcf85816af6c4': <device.Device object at 0x132939ad0>, 'dbd832f33b9b9de5552b9dcb375af6b9dee7b028383cca9edd300afa7d903ce2': <device.Device object at 0x132939710>, 'e1128fdc4370070fff1e5713ca549e4c5eecd24a419bead3a564c534d0f1735f': <device.Device object at 0x1329392d0>, '73b13d405c14917425e3069ef35238e1f1751a2e5b4e5d52733fbe2bce176980': <device.Device object at 0x132938f10>, 'd26b983d82473e3301bff123f67f7cb387d358c260b4f1ea7440eb9b162f3963': <device.Device object at 0x132938b50>, '0e70b09178c575d01512d4937ec7ad35261e610db43d8d1a8f416575d71e5159': <device.Device object at 0x132938790>, '537502eac292db4a4f7c978b6c3055cd4b5ed4cc7214f4b36836be6123955d95': <device.Device object at 0x1329383d0>, '016e1b2a1b23b22a248fce7f79867a03b3fea936a9725f1399c69960de5b05cc': <device.Device object at 0x13293ba10>, '9817b08d0d62b64738e3b58ba9f2861159228fa15719f524714b1877c604e4a6': <device.Device object at 0x132947cd0>, '3f0aa54fe9a56cd739029801b3af8f48efcda259776e2ed1aa702b2052d02602': <device.Device object at 0x132947810>, '8736c690c1ea33d68ae5cbe7a6f7507ffeb7a42cd8c0fb57f94012057b9016ca': <device.Device object at 0x132947450>, '6cd2409fd07f05bc7aef3acaf59bc836c50209365a9e54d0b0fa3ecbe4280fa2': <device.Device object at 0x132947090>, '3e6d101a668f5a5249f4e2c201fd70cef232114f7a77cabb7bc3235e1022889b': <device.Device object at 0x132946cd0>, '317540c189e78d21050e1f18eb9faacde37e7ec59529d86296e6838a892914f1': <device.Device object at 0x132946590>, 'ac50b26f9ebc069528155dc563563166f25967bb3b7eca1dabd8a23bdbb50700': <device.Device object at 0x1329461d0>, '1c9bff256e31e74095675429ca41d26dad7a2671b4ffa6ea50feb1dfe896d832': <device.Device object at 0x132945d90>, '361b72c4c33d8fd03816c10806aac6ca6f867e0f30cf5e79899768e837cd30c8': <device.Device object at 0x1329459d0>, 'e4d85b162482ba316ebeee2b3467526f68f7e8089b15f0ee1857c374483dd68c': <device.Device object at 0x132945610>, 'a4b4944146e00cdd933a70616ff79b257b800603862fbaae1a811f78426af533': <device.Device object at 0x132945250>, 'ecc496a639f084b48b9eeb0042d83783b27d484eb02624f5ad968eac4002f9b7': <device.Device object at 0x132944d50>, '032f79178cb4aa0784dbe741f8f64f91d9eaa1d249e44868a69e7694e567f888': <device.Device object at 0x132944610>, '6e4be853e3976efb83b4093c20f620c0ac46f01998a4321ea1a4af67d2ea62c9': <device.Device object at 0x132944250>, 'ef9494bfedbf67f47770490710732c877dadfb83c9894314c550f1acfa81fa9e': <device.Device object at 0x132903c50>, '8fe06b1df09b20ce9d13f599d7393be164cf1afa09547be14dc04b3c1dc681b5': <device.Device object at 0x132903810>, 'e8facdbc43eabf362c8a22d0ce57c7c1699097a0a23560ea1d8ad9fa6d90970e': <device.Device object at 0x132903450>, 'e7bd59bf106ef40a568f9ef24d6fbdd77e7a008e829298484d009cb58e6f5c3a': <device.Device object at 0x132903090>, 'c097a0c2f91683864ce3f1ad268aa1b694083ef802a53e35b39657203282d6ef': <device.Device object at 0x132902cd0>, '464c25653e3be99335d1a75404553c917fe1504f1a3674f143566032524bbbe8': <device.Device object at 0x132902910>, 'bd9bd1ddea185794f2c00c458753c357cdf7f1255400ae6af44ff1fdfe921f07': <device.Device object at 0x132902550>, '44c3fe6c089aadca05ce921a853d351258e7da632e934a7cfff266c019cb19e5': <device.Device object at 0x132902190>, 'fe1f46fdbac4e6898ac3ec15096ec73bce1953ca623662e65bfee0313d08a340': <device.Device object at 0x132901d50>, '1f4d7e44c27dad0a5c9cc930ccca62617726d4f5ed9e320d685d7639a6bab6db': <device.Device object at 0x132901990>, '1566a0d9bef203a2aaba927cd1b4c0960d0b0f74d0d56caf93a8108569362520': <device.Device object at 0x1329015d0>, '1691dab0780bdcfbb54264e25cc89d1b5e53b3e474b195b489264d221209dd40': <device.Device object at 0x132901210>, '95e17c751850c39887052001b5af64a074613f26d8df54d5efe1665d1c7a6d62': <device.Device object at 0x132900a50>, '6f42c7a80c0e4e997bf47e9e08ca0a2324e021adf5b8b7a944432aacdf35cedd': <device.Device object at 0x132900690>, '57fb99d000db6d411eefec632b45f32b8693fab41cce19e9d5ebfbea7b181f4b': <device.Device object at 0x1329002d0>, 'ccc3148838a37f666cc062b9f4ab4019784c6036982433c4fe3033ac122e5582': <device.Device object at 0x132927f90>, '2346dcb2f302ac08e242354e333c3e4bd5a9287381b770c40ca2ba79f7036199': <device.Device object at 0x132927bd0>, '0b0284da46b88dd2f0894d3ad59a1831b3fbd02fcc2f7fec8104eb5028c16805': <device.Device object at 0x132927810>, '3208e64001f7c20f9aa6526f4bc5c01580c41e5eb4bbac12d4d351858cbd3cdc': <device.Device object at 0x132927450>, '180ca89dc0728954ccae150574fa0d431570e53ae674029e47410afde74b2c09': <device.Device object at 0x132927010>, 'e1320034a2d19e2bdd58f25255c770ce91b20248efc9a67a17fa7202a379200f': <device.Device object at 0x132926c50>, '81084120b56774ddd9d4a097708aa709cff21868827af443ba826636d7618b39': <device.Device object at 0x132926890>, 'af701c392f4681934d69411e3fd794c7c9c181327d6f85d0d4afacbdb4387d44': <device.Device object at 0x1329264d0>, '50a85b191df765a934e207f9bcbe5ba6c43666e0bfff629920dc688326c670e3': <device.Device object at 0x132926110>, 'f7a0e79f02c67656d3e19c3863f42a6abd4a3a96f65972f4db7ff1e00cd3906f': <device.Device object at 0x132925d50>, 'a7786bb64c402699f7f1611e88e1d5fd10c2f6af2ce8e71d47c4b217ac22cba2': <device.Device object at 0x132925610>, '8c7aa9e38ab946c483ad14c7a638faf9f8a41107795bd917f658780d38534b4d': <device.Device object at 0x132925190>, 'e5579b3379455f1475f0d2502081541c3914e31ab1d9ebecd77ff8baceaca0aa': <device.Device object at 0x132924d10>, '00c872d25e62b095131671d40a69d617af78b28c1c285f14484775a80a2d0848': <device.Device object at 0x132924910>, 'eeba67f57b341b50d2ceff9eeb3e0836ebe296cc799ecb8167936b3971d492d9': <device.Device object at 0x132924550>, 'a46f0b555d7ab6c838714ea230c04845de8e8028e8252d5dbaeac429aa6f4287': <device.Device object at 0x132924190>, '15a08161b6062d477e766c9df768f1e83f622f48189711c907dab589304fb355': <device.Device object at 0x1325f7ed0>, '24e93c86db6237a1c2060432bc82a71cbcc7aa683bb2b53c5c28863b0008611c': <device.Device object at 0x1325f7b10>, 'c289098d371f585d34f5c9c9df29cafd5513706764ed6c37c9a355231914553c': <device.Device object at 0x1325f7750>, 'be505bffb451be26a1d503edee23baebcebda6f447ba63c9fa418328ace4218f': <device.Device object at 0x1325f72d0>, 'e35c475a7bfa1efea85fc7e8d57b8d22dc052c31bd40d573677f97cd8a9e51a0': <device.Device object at 0x1325f6e90>, '045a2d0a76aba892a5aabe3bbccdc6347a93252337ae822caafe280fd651f0a2': <device.Device object at 0x1325f6ad0>, '1d762a3bee4ad58891d256a30755efd85e5744dd60afa3c07af4d1793626312c': <device.Device object at 0x1325f6710>, '5981219dc7cbf56d0325a8ea80988debdfc708176612cf9b71dac6734f540195': <device.Device object at 0x1325f6350>, '2a14b2176806a4d6a40cf568cff6771af30fef2665e26e88c659206201dc218a': <device.Device object at 0x1325f5f90>, 'ab0c4f0095517c3780b4f448d9e7f914a9ffebd29fe9144b989f7ec57c7eebba': <device.Device object at 0x1325f5bd0>, '366f705633043f64317a68d1d99bf23eb5d8cf79023d6961be4a3c25b6caede6': <device.Device object at 0x1325f5810>, '05fda95666998c5171b3ca571a88c0277d4f62ee62a30103baf2cac717156cfa': <device.Device object at 0x1325f5450>, '745b7c1c34362924b6f944c32b5b5e9df21b4f2c9b05ac1c10b15114dcb2ff73': <device.Device object at 0x1325f5090>, 'f5eeb6e43010d00cbed1e52f10157b0a98b6f3da05dcaf985b428f825026b620': <device.Device object at 0x1325f4c50>, 'a02095f532568bdad13dfc674bc3c1dfbeec6951e01cfa34dbe24e97cbab0de9': <device.Device object at 0x1325f4890>, '40507b359df185239a04e429caa48bc65921431c2231da891b237505690093dc': <device.Device object at 0x1325f44d0>, 'e3628e0cb54fab9b9fd1d9239715b33e283781871854e1b17eaad7cc3fa51a54': <device.Device object at 0x1325f4110>, '4891b0608b7bed194c58610437f34d4541a7f4439c758ef6ba88c84eded9e678': <device.Device object at 0x1325b7e10>, 'b79a8f7e2119f96409ad790faf90341a5fb16f8412b522c77162fc6f470ea7b2': <device.Device object at 0x1325b7950>, 'b0db5418df14be5b32640f98c68fbb0cfaa787d24937c7af90ec0b7b5a8d4453': <device.Device object at 0x1325b7550>, '32d77f91ab3884eeecfaf6ed742ff6835ecddf47f7e7883a854ab5a76ce3932a': <device.Device object at 0x1325b7190>, '90a06634c791e3a5595778d3190dcd0b528952f8908e4b613260fad9261ca090': <device.Device object at 0x1325b6dd0>, '59af6205f79b0966dabbb20dfedae5b68ed553fc683593bd8a7792b5583c4180': <device.Device object at 0x1325b6a10>, 'fbe6c760ab2028dcc80e23b52b50acbb9e34309fd32b431d32d97eecaca12ae3': <device.Device object at 0x1325b6650>, 'a390f9783b8a0ae2b202ed115ea8278235945cffe1004ee655844a38605ca7b4': <device.Device object at 0x1325b6290>, '895b855ea77459ba1496146785da83be6b7f9434b5ce5cfa73d3b9cd0ec0a0ea': <device.Device object at 0x1325b5ed0>, '09c066834f04ecb9c7de4f8c5c62234b90e90c1282977b2c20b2c7a6bf20388e': <device.Device object at 0x1325b5a90>, '80a1b132a747a5e550eabba477b975def1cb3bf7e3b49ce9e282b706789892a1': <device.Device object at 0x1325b5350>, '569c56504099442c8765403ced21dd5d85ae4296de37e663b8858d9c42a487ad': <device.Device object at 0x1325b4f90>, '95e0cb4c2af583ce8d498a33a3caa5fe716116378d55aaa9aba9773fd9f49823': <device.Device object at 0x1325b4bd0>, '8f59ce8080be7927b76fa37660f8983e5dbc15c4c28ad868aaf5d2a8a7ad6807': <device.Device object at 0x1325b4810>, '98a0296e4dd8b812a922c7b0c6a2c5344af595102f4fcc91687d9f0856e60e66': <device.Device object at 0x1325b4450>, 'c7f3ebf87dd065bbe3a0debacaa4a8ad41a2026331c022000b26515bbe784850': <device.Device object at 0x1325b4190>, 'cf50a6914c3803480e7d71cabaee2f9fd5b15ea5436d5d05a7216d3b8756d6e6': <device.Device object at 0x1325cfd50>, '7d368bdc82e8b895ee0f9257fc72100ccd13a9784ec26085fb95651471f38594': <device.Device object at 0x1325cf8d0>, '359da541b174dc555a270d3227129fad61d5adeb8bd673d12a776c6fa92db7f4': <device.Device object at 0x1325cf490>, '2a30c73687ffe9d39ad7292ca7ddbcc34fa671f4838a1f25c391e1ec52b5ba0f': <device.Device object at 0x1325cf0d0>, 'eb0dcf6a1d54ba8ba2d89750ee888fc80234a281a55e9500d3a0238723c90b78': <device.Device object at 0x1325ced10>, '3258575788b72b45d6af299ddc0f0b463f845815068c87063dde24eacb24c069': <device.Device object at 0x1325ce950>, '94cccc0ace4eeaf9032efdd2c5a7d43480d7a654433682c315d631f5f6e37c9e': <device.Device object at 0x1325ce590>, '0d4238d440ffa86e038f2961aae5f08e3bfd1f8782a9a780cf81c66a0b5bb0de': <device.Device object at 0x1325ce1d0>, 'c6803021a027e9fe161219faffda8d2524ef66a8c27082f4bf32f1e2241876c6': <device.Device object at 0x1325cde10>, 'a9cb0d606e4076b73621bf93d21b4ce69a6c96a044077a5535ce29caa27a6822': <device.Device object at 0x1325cd9d0>, '832fab6dbd84f057c82d6144a9933bc3b6f1ccfaca5aa7cf16b301e873b03a29': <device.Device object at 0x1325cd590>, 'eaf4707007b07dc1f1d66c2835b93c4ab7a1d57286904e634fa2a2433e79b4c9': <device.Device object at 0x1325cd1d0>, '1bc3f49a317a2ecb7e4ed39ca8a3766843bcc340d836a7f7bf04d5957aafb4d6': <device.Device object at 0x1325cce10>, '6279e358bb219cf354d4cdef67d1f3a6ae14bc78817091e63b34c99c7c4377cc': <device.Device object at 0x1325cca50>, 'df22cfc36bd6af5a0a3db61729905610db582b1fe4aa18cc8cc0c95638232d15': <device.Device object at 0x1325cc690>, 'ca05652b2a51767d107af15483dc167035d36aeba6cd283c8f2bcb900287c678': <device.Device object at 0x1325cc2d0>, '32abc199545eca0ff1aea18d41d74563ae85f8f59fbaab545f38621e89faba30': <device.Device object at 0x13258bf90>, '8d97e996e93a318aa929cf8575863dcceb562f4aef180bf9a894eb8ddc55d5b2': <device.Device object at 0x13258bb90>, '1f72921330a83619a732bfaf0d6dcd9a667aaf880bd9124d0fa5b88bafcdf715': <device.Device object at 0x13258b7d0>, '2675978c1d69b8ae8c4be091068ee7bbea65a7abbbc94388270db51d6fe75295': <device.Device object at 0x13258b390>, 'b0bf4bbc2ce18a17b429a9f942590b12898f98decd650bd15e5f8935554b54ff': <device.Device object at 0x13258afd0>, '02e29b423638846a511b624f169b3c87060c0d6f306fc6b8a53dce5d6393c11b': <device.Device object at 0x13258ac10>, '43ec4043de1adb2eca043f9de68ec6a957cc6eabf38944061ea1c7b5fc8c9979': <device.Device object at 0x13258a850>, '2f8477a1b58d22a980c5cce3e4e5ae089f12b6252793b0b145b963c029eba966': <device.Device object at 0x13258a490>, '875c3e772ddb8b437e53b82870133062ad143935a08fb2d5ff1cf44b086bc3c2': <device.Device object at 0x13258a050>, '9ce610e5a01163e824977a31bee27040828d75f7c73d177132ac576109a5a91c': <device.Device object at 0x132589c90>, '994853e6c87b81759eccd2ae3ba4e1075ee130d3cad3622b01e7d1bef5e9b620': <device.Device object at 0x132589890>, 'bdbc72b3ce3a59874d9aa4e81144cafc1f1e5681351f450837067b37af98138d': <device.Device object at 0x132589490>, '1ad8b0d86c5e3eec19a7a13ac5f48b7a34d9095ed04c0626ec0898b518b800ee': <device.Device object at 0x1325890d0>, '83dfd86cd026ad77248e0e1943cd27df117b3e97e337fd048f07631370f71a3b': <device.Device object at 0x132588d10>, '9d4091e406c5ae6d79a8cf3e13023edcda23a73357d0ce60b42eeecab7528083': <device.Device object at 0x132588950>, '96f416057fbab9455e5d145493a1e561137b2df3c0777126b0c4bdfd3595873b': <device.Device object at 0x132588590>, 'ced01adf2456086c2fe9b434b5d4368a98f8b836c11cc319b8c93e040bef5a24': <device.Device object at 0x1325881d0>, '92339dd5bd1c6eb766414e7f60e74f5d1c5767ac55bafea962a95bda6bb7955d': <device.Device object at 0x132563e10>, 'edf56180fed3d0768d0ddbd0e8034d62e21fa279a4c8799af0c25f0aef404d20': <device.Device object at 0x132563a50>, 'd4ad8a010933c793cc95b5c99a00fcd22b4de50618e9f8adde0f0b13fb4cabc3': <device.Device object at 0x132563690>, '6afa85ede6e806076847461fb479c8acaf09f01505017ce05e7eeb202b878ba0': <device.Device object at 0x1325632d0>, '3aeb8391cfff4bafbc61863224eaab1bac220d165629709b286b38fc5c66731e': <device.Device object at 0x132562e90>, '2842ca9f351e65b06ac43805ff4022d61b759f6f2cccc5bf2eb53b866f3bb6cf': <device.Device object at 0x132562ad0>, 'cfbffc80ad8e150f172aeecfa65429b4f909e53715a1a192e3fdf951b1b5ffc2': <device.Device object at 0x132562710>, 'b282dd95f2b08fa3eac505169e8440a54081305eb78704f60ea05b3c08229471': <device.Device object at 0x132562350>, '82b291ac422671c25181ac207dab6964f2ea4cad5f48ccddda837b7026713e65': <device.Device object at 0x132561f90>, 'f4afbc8be9216205349e650dafa29877ed529aaacb54de336447f4111a8aa831': <device.Device object at 0x132561bd0>, '2277c00b1771a1a4cfec0c449161fdf31465796ec4eca7a20de1ae1db484477e': <device.Device object at 0x132561810>, '5c4362c108eb071caaa8a08195bbcff54f12921267cdd416c7e8ee00da5d82e4': <device.Device object at 0x132561450>, 'e55c4e0a7f121215b74e2d9324984306c2c1592f8671c910a1f8dd0303e61c80': <device.Device object at 0x132561010>, 'e2eac2e8a263895603edf4b8b7a86ba9170c5e9a5cfed68615f8050a0f9046e2': <device.Device object at 0x132560c50>, '24ed9980f3976772cb0a11cbda57c82aa836a76bb5f0d64f29780fda43bc4aa0': <device.Device object at 0x132560890>, 'fdecfa68b4254a2167079d0efe5683830d0c90fa10a5f44607ea259c448eb5e5': <device.Device object at 0x1325604d0>, 'ae33750bc1288b850bf1701d0181a2a77dec366a4862a157b725b11a84a869a5': <device.Device object at 0x132560090>, '944a92b2c12af994120636e0a59398cc6afc2e10069e4a507c5b6e7dd7342234': <device.Device object at 0x132573d90>, '6aea6dd88667cbe18d1b44d30a92957f509c904124b6bed5fa796730b8b4b17b': <device.Device object at 0x1325739d0>, 'f52cefbba18facc73f5ad1d950d7d2045bbe8e2212f2ca19fde70ffc49496825': <device.Device object at 0x132573610>, 'b1c57d177c94e03325ed27344cbd5262e470266f3ff9f7eed060ade72cd60036': <device.Device object at 0x132573250>, 'be6aba9de56ab7a029ecd5f6bf8ad35110d9526d5742fede4abe39200eca51b5': <device.Device object at 0x132572e90>, '996c7f043480b20cbf70e76687108952cf512c105d6475c3952594fabc64f962': <device.Device object at 0x132572a50>, 'ec867d5172690515671b3274d4ff6e2a6764c6d4e791e6be94fd7a63f7b95b35': <device.Device object at 0x132572690>, '9a2ddb400daa01d22259176d22db1c932e7983854715f9cb45b75b26b984181c': <device.Device object at 0x1325722d0>, 'a0fb9e9df44153b4823d217c3b8a0bf6ce18ec09057069dce25526f1df46f27c': <device.Device object at 0x132571e90>, '9d1d700457a9703946b1385fbe4f8bdffcf7fe5a6f9635ccbe7e9560a96c5144': <device.Device object at 0x132571990>, '8a6df52b91daf03e7528393650e6904cd97b1aab756392358c4b75feaa6e8473': <device.Device object at 0x1325715d0>, '6ad4937088494bf585c3cc13bb7556a411ad7fd9296f6e95f165effef22f01fb': <device.Device object at 0x132571210>, '204bfe21cd5b64333ca56d5457502a791025b59a0e625b8f6b934a5b6ec85c55': <device.Device object at 0x132570e50>, '27c7b8ab65d6f6b2113f989f68f0d32383d8eb192aaddb4a042ed66c0704b0f0': <device.Device object at 0x132570a10>, '4cdce1a8886f81831f892c002f97aca1f53214c3fc6854350e74d28fb8c5aa8f': <device.Device object at 0x132570650>, 'f5e9ee63e5b2f2c80f8979b6bb4d3717106568599727becae7a91e3070c1af03': <device.Device object at 0x132570290>, '9454e950df9286a08f07e6700d98298a47ddd1a4046593e5d83541b2a7d65b6f': <device.Device object at 0x132571a10>, '1cfda0bea1265a2c46cefab0ea0d28000ffbfaac0734556222401955fdf94d84': <device.Device object at 0x13252fc50>, '471df9b4fe362f8cfaaf42a2730daf82b609d04e97d866277516475d039d10d1': <device.Device object at 0x13252f810>, '4c686003d7cd6fef913da95cd7f30cfb547778b4607163e413e6e07095b2bdbd': <device.Device object at 0x13252f450>, 'bf8055b93f548728c4b17c2a79a0a3528b0a7b8e84890d7453491d8952685198': <device.Device object at 0x13252f090>, 'c5f6bd62b2203a25aca869ad8b9732c9dbeef06ee7a58d6d8cb553b620bc0446': <device.Device object at 0x13252ecd0>, 'f282c0ef3c5291b499c3c5aa9de521690b2ecd67345be8d54a20492aaeedbd37': <device.Device object at 0x13252e910>, '14dd543d59f75a52863e70af3a91ea21988e1ba2e7ca7d7d2e5a143ef94e2caa': <device.Device object at 0x13252e550>, '02f16784ed6632d6326cb9f2466c8983755cc5e90b20536eb24c3081c617fcc4': <device.Device object at 0x13252e190>, 'c9f3a4afe105113a02326ed2343ba4996a2468925af86fb07d608920c7523506': <device.Device object at 0x13252ddd0>, '77a19c34e7ac124b31e9d7cee0386aa751c0cad7a1871b84d06b7fe83959537b': <device.Device object at 0x13252da10>, '43f6875389f7e18e30d383948f7f3daff98176d3e63d613c6fa5902a5aa3858a': <device.Device object at 0x13252d650>, '7a1f2b8414f3a830456c59881d23fc728797f32262e01880fee726aa64480519': <device.Device object at 0x13252d290>, '2ff33cfa2db0cb32262db45709c7371041c64c8e59c931917901ae2f37df68da': <device.Device object at 0x13252ced0>, '2ce4fb58a37755846718462e098921cccaaefb863e64e7917751da3b04bb1d38': <device.Device object at 0x13252cb10>, 'a450580506ba8ca162dab85b7ec30cbd08907e1b79ff74680ef6054a42e6f00e': <device.Device object at 0x13252c750>, 'f9017e85e7c42b2c61b49847f20e1937cab909d7b155d26eaa5737434f15a9d4': <device.Device object at 0x13252c390>, '79f81bb90f3f5f52d4c67f65f04f86180a6c7cccc738835d7441bc2725c7af54': <device.Device object at 0x132547fd0>, 'd3c01bb11f838267a4c35e761b3cffbd51fd45f8fa5a9af9522cbbf67f9766fb': <device.Device object at 0x132547b90>, '319d1097a349d727e17fc7bf3cc2ceae3095aadee8fac9b28a4cd7cdcb55cdf3': <device.Device object at 0x1325477d0>, '06c7fe6939d839261e2b7e3a6deada4a38931ce824bb0868b8ae9db842c2a767': <device.Device object at 0x132547410>, '42417317e58695d95aa8ddc15e347a195506623a7510b4513428d2b26a81f148': <device.Device object at 0x132547050>, '7e4ed2e06cd3bbad4931399cdc1e6a5d7c020b96dc7ec153f1860bc712d99488': <device.Device object at 0x132546c10>, '45450f2475d568352c586ad532f5b44775cc459df1f06c39b7db11f9778dd994': <device.Device object at 0x1325467d0>, 'db790d7a8a1f99597554dba86056099588035204d2d545c660985aa73086f4ed': <device.Device object at 0x132546410>, '82396bad732555357e374a7253a29d2d43afd8cc48baf071a4b48820f312ac9c': <device.Device object at 0x132545f50>, '25fb3d127d979691308ffff3a9327bf585d946c15bebb44dc4ec0d137f6476da': <device.Device object at 0x132545b50>, '8e0b40560dbcbad704a74393dfce97ab0bf726346d8af7b34930d5ed97992a50': <device.Device object at 0x132545790>, '74f5296994ed7398bd307e3901ed5edbc605c2a51ddec58cf7ab7bc628e28361': <device.Device object at 0x132545350>, '42111f0a6b61bd7bc38c1425cbb0473cb76df3e0ba8c69b7b9e3c7015bc42f84': <device.Device object at 0x132544f90>, 'cd141afebfaf31b7b9dea98d33327587ba34f79447e1f682550395b530297150': <device.Device object at 0x132544bd0>, '1e7f0f22df09c3a925c5f76985a0904da397581487bc9c444158efce1dd49ca9': <device.Device object at 0x132544810>, '584c5f837b195e503ab72bcd141eb521116845e59cbf708c5e3ecfb2401a5441': <device.Device object at 0x132544450>, 'c93daeb9b548d41782e10b35732143e8782bdc7c0433e413c44926177d4911da': <device.Device object at 0x132544090>, '1dfea245c67f656e231609d7fe9fe1d66d849320ca8a8af6aa7750dfc98e794c': <device.Device object at 0x132517e50>, 'f1ee13cefca1fbc6c5a35f4703259a06c87d291ce6338f1f39e8468266acc18b': <device.Device object at 0x132517a90>, 'f3cfb6874ef8850263f60c25ce9c6c0f643a5c5373251a401a3e0f8184a8a28e': <device.Device object at 0x1325176d0>, '00cf1ce503cee53b1bc17c268937f392b2c8d1842289c1e4acdc336cc6734e10': <device.Device object at 0x132517310>, '302fa7a895b201724684e15b4da5f5f110bd3de3c2f4937283d9268c6e4f1415': <device.Device object at 0x132516f50>, '3214ccec80c1d223b34e39c9e52371a9c3b0d68d8b3eac30772d19bb3c408fbd': <device.Device object at 0x132516b10>, '86efc45e49007e0d3649815818e5eaaf8d84a3632917af8a8a5e48daef17ba46': <device.Device object at 0x132516750>, 'bf1cdf6fa65a91616dedaa0860bf69badc9d70bd2e846436a16006e61aa2694e': <device.Device object at 0x132516390>, '50256aaf6a3ab40ec458ce3e0d941fe23fd55f6f7e6ffa663b1fd70becb78a86': <device.Device object at 0x132515fd0>, 'fe1ca50e720233718b14ead917443c89d09b8cef41135ad623974a3ee2982e6b': <device.Device object at 0x132515c10>, '06d26d58a85febcaa70ac158d9c021bec671d135db2ca69601c0638ee3a00fa6': <device.Device object at 0x1325157d0>, '645162f162432f07662755e20ebbb8510beebf21fc9694cb30c4dcf37abc3d5b': <device.Device object at 0x132515390>, 'c22576e73ed4685dca0e93b261ca8ef0dd3833785e148b3895a8e218438d2fc9': <device.Device object at 0x132514ed0>, '6fbd3cbf646f97f01047b6c602c4062663e52fc0cee1cfd8aa8d6d5e0dac4241': <device.Device object at 0x132514b10>, '966f684778bd8256cf4eb0fcbdeff6ee6fbc7b084d737a0ac2602203812ce797': <device.Device object at 0x1325146d0>, '7562046225c8ee5d67bbb661a94336b4be4fba6eb20b6b97b5290814f2038be1': <device.Device object at 0x1325142d0>, 'b2d30fe86b7910115d2f88dcdb2a345788b8802503c25f41b76c20a6bdae8db8': <device.Device object at 0x132514790>, '01adbfa0a38aa87c97bf1d0aa243646b276901ea4f191fda4b12ff6f7dcfc52e': <device.Device object at 0x132503c90>, '2278916c39ff2807d32b7936e396bedaa72ff6ae6088c144575ee13c9496c205': <device.Device object at 0x1325038d0>, '3bf562900dcdbbcc6d866fbe3eb75c9d08c5575298d973a809b5a049880df97f': <device.Device object at 0x132503490>, '7d027ed64ac5b3cf27247e78a6a9f44bccfa6f72714d2f74fa5c6adf2864992e': <device.Device object at 0x132503050>, 'd70981e930eefd3f526ee442b7869b8c7da611fe47281b4b14f8ce247110ee95': <device.Device object at 0x132502c90>, '627340f9bd66143a96e86510879bc91b6a4255431b93925e663e7ee1982a492e': <device.Device object at 0x1325028d0>, '07069842011a53254477ed7f7ff9c8b3cb6376ae15b38ffa873a39067fe32e73': <device.Device object at 0x132502510>, 'eddd4f7eff0c04b4408b637f56bbed8e6b3e505ba3ac1eee23ab88e8a0870092': <device.Device object at 0x132502150>, 'e836e26a03209ce4fca7332fe2b6f9f3d0196a8d17049826499d13c7390ffbd4': <device.Device object at 0x132501d90>, '5dde960a28301910e885633ee1bd0ffb7b5c87084ae95e395f670193021cfa9c': <device.Device object at 0x132501990>, 'b6a27a3e927301461df18be5908fe3a6f0c62ddef83daa63f81761bf8c018761': <device.Device object at 0x132501590>, '3b01e5582f0fbf444ef4a8b1c8c50f81f0f6d99589712174ac44a8a3f0345e0c': <device.Device object at 0x1325011d0>, '28629f3f5fd5ef7e7ce3ad6644d188d0c2da2c07356cf5180080b708c0a2a097': <device.Device object at 0x132500e10>, '95ce8d6098271039b178a1d0d28727c7f8d16377ab64ae89c0f906f012f24b5a': <device.Device object at 0x132500a50>, '79ce217b07f7fc82b4485d47d128d31210ad2a4152e78a82671825048b88cb36': <device.Device object at 0x132500690>, '6bcf1acc78a18c7123ae47bdf975a1475a875cfa00a00cc9c6702fef4f72df85': <device.Device object at 0x1325002d0>, '55f08d85982494e5df61305cb03bfcd3b83a2139a4d3de30ea9b3a71cbc9b452': <device.Device object at 0x1321cbf90>, '7c7f00f45ad374d3f5d27dcdc5cc8b77c52b0963453fcd175719fb5979567106': <device.Device object at 0x1321cbbd0>, 'f14ff25f8cf569eb2217b4d219ae3dcfe542dc499b62708a5dfc915d1738b682': <device.Device object at 0x1321cb810>, '2d49ecc0ac5b4478079730d4924147a311f299bd26e5b69567f81886c26cb24d': <device.Device object at 0x1321cb3d0>, 'e6191ca8119a582c402e64f2a2476c13bb340018dfb9c4129c1ff88665bccb20': <device.Device object at 0x1321cb010>, 'e12864753ac863b91683ddbbedad9dfbdcd65203865e1e37aa5b372fdb7eeaa4': <device.Device object at 0x1321cac50>, '0886658816b7041b64a7013b8b3ca62d8ea7b67b349cb69883c9b481fac889ac': <device.Device object at 0x1321ca890>, '020d55964aa732bd416207e505c6d77d3899a98806e1ce88187cd2838a74365a': <device.Device object at 0x1321ca4d0>, 'ef6946156b47fc3e64b7572732a07f36548f6343f988872282f6c8f27033373f': <device.Device object at 0x1321ca110>, 'e7cc27021ec34ebae067957c6de440610b116034cb2bee28d5fec012d2554624': <device.Device object at 0x1321c9d50>, 'e159890f1fa85e2196056cea75ef2ecaafce32a2f0579ba0465fd6c41ed2bcd5': <device.Device object at 0x1321c9910>, 'c5417e4e5d79dcba0c646476b5d267c0fe7fd6c4c3f50a04c572b3dfb1dac05d': <device.Device object at 0x1321c9550>, 'ea6b7d320cc01e2da61bceb723b248ac0c5795016976c8a8bf3e3e102092eb4d': <device.Device object at 0x1321c9190>, '38a03a19fb4cea685ecbdce4b9fa08d713fdf021d10c2f48433b9e5f16d492e6': <device.Device object at 0x1321c8dd0>, 'a7c65ebf0c4a400bc969e8ad350b6ab7cca3ff293c450a674e3bd708993e0b34': <device.Device object at 0x1321c8a10>, '2aac29827b7cde7cf4e1237f58e48f57684294f6ec3f52ea6e1e88964f3c52dd': <device.Device object at 0x1321c8650>, 'e848348b3bee106ab6ec28e04c44cb2ed9ff48fdbf99792bc18a4e6b9c6521c0': <device.Device object at 0x1321c8290>, '491c8c25d9c698989c5fd5e58fb4f6c95b91c3a32d41d7e0dc47f7bb5db27dff': <device.Device object at 0x1321ebf10>, 'b1135590c7e051afb6663b5c67fdee1ebd93659eca7c1dc2c9a7337820c31d4d': <device.Device object at 0x1321eba50>, '8b6ec7b47c05bcc0138eff76fa00981a7443462ce8c98f8590dcb2975f7bc990': <device.Device object at 0x1321eb690>, 'f9f57235b69dc94ec2d0fe5330587b6354cc21b6f911d1e22d00c57d1ca1789c': <device.Device object at 0x1321eb2d0>, '98ca0b63b55394e39efc44c2641085d396ca7b7ffac5d38ca1f445549ed65cf0': <device.Device object at 0x1321eaf10>, 'd7190205d1f75196dd4bbdf662f38e3a91b42a2d142b16987508e2408871c5bf': <device.Device object at 0x1321eab50>, '7ccc49670b0e17beb7e1546acfaf13e005ea4be28fd882d6e3ac0539ef344fd4': <device.Device object at 0x1321ea790>, '899b38d5ce97e5a5e8ab63f70dc893eef4e1a530d514f9a6166242f434fbfce3': <device.Device object at 0x1321ea3d0>, '3820d84016b2e39fb9d4f38001f301ac110741eb5a51c1f3eb9bfc1c0b2b0053': <device.Device object at 0x1321ea010>, 'c8edd3ea0b80c2330be21051250dba82b7f6690fea2cff7932c035c909a3ba41': <device.Device object at 0x1321e9c50>, '500c14fe1dcf999ca7860114b6075c4645c617f9d817f9d57c7ed8614cef4434': <device.Device object at 0x1321e9890>, 'a4234ef250c6cc67ced10eced2aefb2ccffbd83b42afa78e918b0f54855a0ec8': <device.Device object at 0x1321e94d0>, '1f844f46701e2fbe5ee8e477fced3a3dbccb651b310fd81c57ecaf86dcf2b8ae': <device.Device object at 0x1321e8f90>, '2b07c37005678541187dbe00fd6cbaf2e7a70ba75d6ebfc67f093f55f6ae897e': <device.Device object at 0x1321e8b90>, '518a9de75a2393d80a2e60435836b121deb7ebb4a2fb8e6ac08532998fdaf80c': <device.Device object at 0x1321e87d0>, 'aeb4491afc8fce5ce022889a35440c92ab653569d52ec9a79473d00dd3364a83': <device.Device object at 0x1321e8410>, 'e897663904481d659fdd69d9e117f55e7df12ec1fe13f0ba4502864ed4ffd47c': <device.Device object at 0x1321e8050>, 'c4ed0ed5dcf30441b057be6948338baeb7c0481628b1204576a4c54798d4f103': <device.Device object at 0x1321a7dd0>, '45fdfa74de159d8a4dd8b56549dafe15ae1d11f5fa90d0bcf5e3198bb0c6bdae': <device.Device object at 0x1321a7a10>, '7f85d2e51d85bb5b725f799a0f1842ac65dfa4ea8ab5b74b9852856ac259228b': <device.Device object at 0x1321a7650>, '09a49b715aa25ee69892711114dabcc1dbbf8d78000595a7a7939e7e5c15007c': <device.Device object at 0x1321a7290>, '6726abdc8ebfeac09cf1ed1cb1ae50417160142b7c540d305d0fb5e763b8e447': <device.Device object at 0x1321a6ed0>, 'd86037b686ffa67cedfc00a97e1fe3ff2714d09622c1511c2eb78d123ac1099e': <device.Device object at 0x1321a6b10>, '1688903e99d23533ec0c0f3c38ed26938d3596d6271524306d493ab65c275f51': <device.Device object at 0x1321a6750>, '8f07fe6833636cb6dfc17d2af49be95c47d68778cbad26c41b4dc549f7f356c6': <device.Device object at 0x1321a6390>, 'b936f5701b81e36edef2b502ca024474aebbaf27712ef884535fc7a71c7c8fab': <device.Device object at 0x1321a5fd0>, 'f95fbfbe6ddeb8ec2a389571520a75769ba03ad847ac65b6fa24598ec79cbcef': <device.Device object at 0x1321a5c10>, 'bf7e0f8ef746753a81ff35b59f3e99a5196e0820c343a27abb19ba3f57856bbd': <device.Device object at 0x1321a57d0>, 'ad8ff86ac3467c1c877cfb2f646ce35bd16c554f9cff4f1f346b9e223df79630': <device.Device object at 0x1321a5390>, 'df8481afecb3ef06f5ee56ccd0fde224df3f4a06316d16390b9cbc043142510a': <device.Device object at 0x1321a4fd0>, '0386f540488c24d50d7eed875153d67f1490cb14f8c7f6a26ebcd0ac4ff78368': <device.Device object at 0x1321a4b90>, '62379920b42d00e1b922744f60a15ae2f876b2534b677b078de22c07bd90d946': <device.Device object at 0x1321a47d0>, 'f1d12de94484a2e09192274dab33a1daebfd736d312bcb4a86bc3a61840fe07b': <device.Device object at 0x1321a4410>, '6e3559b57080aaa920bea01e9a23729a9ffdb18b8e97d4ee33af0bfa836313af': <device.Device object at 0x1321a4050>, '01dcca95bd9c59c4cdf7f08c39af4780bff615ed27f1776ac6963ab690ca8414': <device.Device object at 0x1321bbd10>, '5e847f86039328a9b3342ca634833694aedd019371927134aef789f836f4ecaa': <device.Device object at 0x1321bb950>}\n",
      "Loading data took 0.35 seconds\n",
      "Processing data took 0.13 seconds\n",
      "Writing data took 0.03 seconds\n"
     ]
    },
    {
     "name": "stderr",
     "output_type": "stream",
     "text": [
      "/Users/carl/Desktop/ict/wifi-tracking2/test/../src/device.py:66: RuntimeWarning: invalid value encountered in scalar divide\n",
      "  z = radius_to_prev / prev_error\n"
     ]
    }
   ],
   "source": [
    "generate_refined_data(batch_2, first_batch=False)"
   ]
  },
  {
   "cell_type": "code",
   "execution_count": null,
   "metadata": {},
   "outputs": [],
   "source": []
  }
 ],
 "metadata": {
  "kernelspec": {
   "display_name": "cpp",
   "language": "python",
   "name": "python3"
  },
  "language_info": {
   "codemirror_mode": {
    "name": "ipython",
    "version": 3
   },
   "file_extension": ".py",
   "mimetype": "text/x-python",
   "name": "python",
   "nbconvert_exporter": "python",
   "pygments_lexer": "ipython3",
   "version": "3.11.5"
  }
 },
 "nbformat": 4,
 "nbformat_minor": 2
}
