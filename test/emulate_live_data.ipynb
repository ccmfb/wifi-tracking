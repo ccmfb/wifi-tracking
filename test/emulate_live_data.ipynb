{
 "cells": [
  {
   "cell_type": "code",
   "execution_count": 1,
   "metadata": {},
   "outputs": [],
   "source": [
    "import sys\n",
    "sys.path.append('../src')\n",
    "sys.path.append('..')\n",
    "\n",
    "from main import generate_refined_data\n",
    "\n",
    "from tqdm import tqdm\n",
    "import pandas as pd"
   ]
  },
  {
   "cell_type": "code",
   "execution_count": 2,
   "metadata": {},
   "outputs": [
    {
     "data": {
      "text/html": [
       "<div>\n",
       "<style scoped>\n",
       "    .dataframe tbody tr th:only-of-type {\n",
       "        vertical-align: middle;\n",
       "    }\n",
       "\n",
       "    .dataframe tbody tr th {\n",
       "        vertical-align: top;\n",
       "    }\n",
       "\n",
       "    .dataframe thead th {\n",
       "        text-align: right;\n",
       "    }\n",
       "</style>\n",
       "<table border=\"1\" class=\"dataframe\">\n",
       "  <thead>\n",
       "    <tr style=\"text-align: right;\">\n",
       "      <th></th>\n",
       "      <th>timestamp</th>\n",
       "      <th>mac</th>\n",
       "      <th>map_id</th>\n",
       "      <th>rssi</th>\n",
       "      <th>site_id</th>\n",
       "      <th>type</th>\n",
       "      <th>x</th>\n",
       "      <th>y</th>\n",
       "    </tr>\n",
       "  </thead>\n",
       "  <tbody>\n",
       "    <tr>\n",
       "      <th>0</th>\n",
       "      <td>1.723194e+09</td>\n",
       "      <td>6e55c33d4bf94fc912546aa53df0a83e6cd97bc542e861...</td>\n",
       "      <td>7445f317-78d8-4a93-add1-ac223c538c55</td>\n",
       "      <td>-55.300000</td>\n",
       "      <td>48b01af6-138b-465d-8996-bace824f5726</td>\n",
       "      <td>wifi</td>\n",
       "      <td>78.165060</td>\n",
       "      <td>49.166220</td>\n",
       "    </tr>\n",
       "    <tr>\n",
       "      <th>1</th>\n",
       "      <td>1.723194e+09</td>\n",
       "      <td>211dcd244bd609da55415aa490f81a19fda9563ec32425...</td>\n",
       "      <td>527aaffb-bc14-4013-b03c-d81bfde894bf</td>\n",
       "      <td>-62.000000</td>\n",
       "      <td>48b01af6-138b-465d-8996-bace824f5726</td>\n",
       "      <td>wifi</td>\n",
       "      <td>48.303600</td>\n",
       "      <td>22.940083</td>\n",
       "    </tr>\n",
       "    <tr>\n",
       "      <th>2</th>\n",
       "      <td>1.723194e+09</td>\n",
       "      <td>c806634ea9528565a397a6d8e2c6c11733892ed6c683d6...</td>\n",
       "      <td>529cbd22-3119-42b3-9bf9-086d108ed159</td>\n",
       "      <td>-47.550003</td>\n",
       "      <td>48b01af6-138b-465d-8996-bace824f5726</td>\n",
       "      <td>wifi</td>\n",
       "      <td>15.859675</td>\n",
       "      <td>18.266554</td>\n",
       "    </tr>\n",
       "    <tr>\n",
       "      <th>3</th>\n",
       "      <td>1.723194e+09</td>\n",
       "      <td>bf07a6f97d267a8841751725f1c270399910b53058b918...</td>\n",
       "      <td>162b807a-8c8b-4169-8c33-91882455b0a8</td>\n",
       "      <td>-68.200000</td>\n",
       "      <td>48b01af6-138b-465d-8996-bace824f5726</td>\n",
       "      <td>wifi</td>\n",
       "      <td>67.894010</td>\n",
       "      <td>37.696960</td>\n",
       "    </tr>\n",
       "    <tr>\n",
       "      <th>4</th>\n",
       "      <td>1.723194e+09</td>\n",
       "      <td>074b3881ba8aa8155093cf20719051392f85885c03bf8b...</td>\n",
       "      <td>caa07ab5-c4fb-4848-a8bf-57b482b429e6</td>\n",
       "      <td>-41.850000</td>\n",
       "      <td>48b01af6-138b-465d-8996-bace824f5726</td>\n",
       "      <td>wifi</td>\n",
       "      <td>52.415646</td>\n",
       "      <td>34.921520</td>\n",
       "    </tr>\n",
       "  </tbody>\n",
       "</table>\n",
       "</div>"
      ],
      "text/plain": [
       "      timestamp                                                mac  \\\n",
       "0  1.723194e+09  6e55c33d4bf94fc912546aa53df0a83e6cd97bc542e861...   \n",
       "1  1.723194e+09  211dcd244bd609da55415aa490f81a19fda9563ec32425...   \n",
       "2  1.723194e+09  c806634ea9528565a397a6d8e2c6c11733892ed6c683d6...   \n",
       "3  1.723194e+09  bf07a6f97d267a8841751725f1c270399910b53058b918...   \n",
       "4  1.723194e+09  074b3881ba8aa8155093cf20719051392f85885c03bf8b...   \n",
       "\n",
       "                                 map_id       rssi  \\\n",
       "0  7445f317-78d8-4a93-add1-ac223c538c55 -55.300000   \n",
       "1  527aaffb-bc14-4013-b03c-d81bfde894bf -62.000000   \n",
       "2  529cbd22-3119-42b3-9bf9-086d108ed159 -47.550003   \n",
       "3  162b807a-8c8b-4169-8c33-91882455b0a8 -68.200000   \n",
       "4  caa07ab5-c4fb-4848-a8bf-57b482b429e6 -41.850000   \n",
       "\n",
       "                                site_id  type          x          y  \n",
       "0  48b01af6-138b-465d-8996-bace824f5726  wifi  78.165060  49.166220  \n",
       "1  48b01af6-138b-465d-8996-bace824f5726  wifi  48.303600  22.940083  \n",
       "2  48b01af6-138b-465d-8996-bace824f5726  wifi  15.859675  18.266554  \n",
       "3  48b01af6-138b-465d-8996-bace824f5726  wifi  67.894010  37.696960  \n",
       "4  48b01af6-138b-465d-8996-bace824f5726  wifi  52.415646  34.921520  "
      ]
     },
     "execution_count": 2,
     "metadata": {},
     "output_type": "execute_result"
    }
   ],
   "source": [
    "df = pd.read_csv('../data/data.csv')\n",
    "df = df.sort_values(by='timestamp', ascending=True)\n",
    "df = df.reset_index(drop=True)\n",
    "df.head()"
   ]
  },
  {
   "cell_type": "code",
   "execution_count": 3,
   "metadata": {},
   "outputs": [],
   "source": [
    "# split into 5 minute intervals\n",
    "# feed batches into main script -> generates refined data\n",
    "# run script to turn refined data into occupancy stats\n",
    "# run script to turn occupancy stats into density maps"
   ]
  },
  {
   "cell_type": "code",
   "execution_count": 4,
   "metadata": {},
   "outputs": [
    {
     "name": "stdout",
     "output_type": "stream",
     "text": [
      "[0, 2026, 4659, 8703, 13386, 18911, 25192, 31964, 39636, 47386, 55804, 65327, 75290, 84768, 94282, 104142, 114803, 125615, 135843, 146291, 156441, 167336, 178184, 190182, 202459, 213763, 225234, 236686, 248250, 260796, 272795, 284573, 296370, 306690, 316883, 326793, 334762, 342985, 349319, 356786, 363717, 371538, 378697, 386281, 393409, 400721, 407162, 412832, 418414, 424243, 429258, 434014, 439196, 444140, 449621, 454811, 460450, 466188, 471152, 477215, 482019, 487248, 492569, 497481, 502732, 507914, 513612, 518892, 523859, 529061, 534747, 539526, 544553, 550185, 555853, 561721, 567677, 573773, 578204, 583179, 587789, 591702, 596689, 600642, 605025, 608653, 612927, 616992, 620838, 624473, 628115, 631885, 634861, 637987, 641103, 644236, 646834, 649562, 652494, 654698, 657125, 659604, 661932, 663965, 665946, 668167, 670089, 672646, 674981, 676854, 678835, 680685, 682636, 684738, 686487, 688299, 689937, 691355, 692966, 694481, 696089, 697796, 699452, 700831, 702245, 703760, 705386, 706866, 708489, 710088, 711423, 712886, 714095, 715388, 716543, 717558, 718625, 719750, 720768, 721821, 722836, 723810, 724758, 725700]\n"
     ]
    }
   ],
   "source": [
    "timestamps = df['timestamp'].to_numpy()\n",
    "cutoff_indices = [0]\n",
    "\n",
    "prev_timestamp = timestamps[0]\n",
    "for i, timestamp in enumerate(timestamps):\n",
    "\n",
    "    if timestamp - prev_timestamp > 60*5:\n",
    "        cutoff_indices.append(i)\n",
    "        prev_timestamp = timestamp\n",
    "\n",
    "    if len(cutoff_indices) == 2*6*12:\n",
    "        break\n",
    "\n",
    "print(cutoff_indices)"
   ]
  },
  {
   "cell_type": "code",
   "execution_count": 5,
   "metadata": {},
   "outputs": [
    {
     "name": "stderr",
     "output_type": "stream",
     "text": [
      " 99%|█████████▉| 143/144 [00:00<00:00, 52241.57it/s]\n"
     ]
    }
   ],
   "source": [
    "batches = []\n",
    "\n",
    "for i in tqdm(range(len(cutoff_indices))):\n",
    "    if i == len(cutoff_indices) - 1:\n",
    "        break\n",
    "\n",
    "    batch = df.iloc[cutoff_indices[i]:cutoff_indices[i+1]]\n",
    "    batches.append(batch)"
   ]
  },
  {
   "cell_type": "code",
   "execution_count": 6,
   "metadata": {},
   "outputs": [
    {
     "name": "stdout",
     "output_type": "stream",
     "text": [
      "143\n",
      "4683\n"
     ]
    }
   ],
   "source": [
    "print(len(batches))\n",
    "print(len(batches[3]))"
   ]
  },
  {
   "cell_type": "code",
   "execution_count": 7,
   "metadata": {},
   "outputs": [
    {
     "name": "stderr",
     "output_type": "stream",
     "text": [
      "  1%|          | 1/143 [00:00<00:57,  2.49it/s]/Users/carl/Desktop/ict/wifi-tracking2/test/../src/device.py:66: RuntimeWarning: invalid value encountered in scalar divide\n",
      "  z = radius_to_prev / prev_error\n",
      "  1%|▏         | 2/143 [00:00<01:01,  2.28it/s]/Users/carl/Desktop/ict/wifi-tracking2/test/../src/device.py:66: RuntimeWarning: divide by zero encountered in scalar divide\n",
      "  z = radius_to_prev / prev_error\n",
      "100%|██████████| 143/143 [07:31<00:00,  3.16s/it]\n"
     ]
    }
   ],
   "source": [
    "for i, batch in enumerate(tqdm(batches)):\n",
    "    if i == 0:\n",
    "        generate_refined_data(batch, first_batch=True)\n",
    "    else:\n",
    "        generate_refined_data(batch)"
   ]
  },
  {
   "cell_type": "code",
   "execution_count": null,
   "metadata": {},
   "outputs": [],
   "source": []
  }
 ],
 "metadata": {
  "kernelspec": {
   "display_name": "cpp",
   "language": "python",
   "name": "python3"
  },
  "language_info": {
   "codemirror_mode": {
    "name": "ipython",
    "version": 3
   },
   "file_extension": ".py",
   "mimetype": "text/x-python",
   "name": "python",
   "nbconvert_exporter": "python",
   "pygments_lexer": "ipython3",
   "version": "3.11.5"
  }
 },
 "nbformat": 4,
 "nbformat_minor": 2
}
