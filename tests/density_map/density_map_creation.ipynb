{
 "cells": [
  {
   "cell_type": "code",
   "execution_count": 1,
   "metadata": {},
   "outputs": [],
   "source": [
    "import time\n",
    "import sys\n",
    "sys.path.append('../../src/')\n",
    "\n",
    "from density_map import get_density_image\n",
    "\n",
    "import pandas as pd\n",
    "\n",
    "import numpy as np\n",
    "from shapely.geometry import Point, Polygon\n",
    "import matplotlib.pyplot as plt\n",
    "import matplotlib as mpl\n",
    "mpl.rcParams['figure.dpi'] = 500"
   ]
  },
  {
   "cell_type": "code",
   "execution_count": 2,
   "metadata": {},
   "outputs": [
    {
     "name": "stdout",
     "output_type": "stream",
     "text": [
      "2404\n",
      "2024-08-09 15:58:38\n"
     ]
    },
    {
     "data": {
      "text/html": [
       "<div>\n",
       "<style scoped>\n",
       "    .dataframe tbody tr th:only-of-type {\n",
       "        vertical-align: middle;\n",
       "    }\n",
       "\n",
       "    .dataframe tbody tr th {\n",
       "        vertical-align: top;\n",
       "    }\n",
       "\n",
       "    .dataframe thead th {\n",
       "        text-align: right;\n",
       "    }\n",
       "</style>\n",
       "<table border=\"1\" class=\"dataframe\">\n",
       "  <thead>\n",
       "    <tr style=\"text-align: right;\">\n",
       "      <th></th>\n",
       "      <th>timestamp</th>\n",
       "      <th>mac</th>\n",
       "      <th>x</th>\n",
       "      <th>y</th>\n",
       "      <th>error</th>\n",
       "      <th>rssi</th>\n",
       "      <th>floor_id</th>\n",
       "      <th>room_id</th>\n",
       "    </tr>\n",
       "  </thead>\n",
       "  <tbody>\n",
       "    <tr>\n",
       "      <th>0</th>\n",
       "      <td>1723215518</td>\n",
       "      <td>f6f8a9fda28aa761b635b8df6aa7204e1fca9ca3b8a9c5...</td>\n",
       "      <td>28.816385</td>\n",
       "      <td>0.500000</td>\n",
       "      <td>0.000000e+00</td>\n",
       "      <td>-60.850000</td>\n",
       "      <td>934</td>\n",
       "      <td>NaN</td>\n",
       "    </tr>\n",
       "    <tr>\n",
       "      <th>1</th>\n",
       "      <td>1723215518</td>\n",
       "      <td>14dd543d59f75a52863e70af3a91ea21988e1ba2e7ca7d...</td>\n",
       "      <td>18.169987</td>\n",
       "      <td>31.808706</td>\n",
       "      <td>0.000000e+00</td>\n",
       "      <td>-73.000000</td>\n",
       "      <td>1110</td>\n",
       "      <td>70788.0</td>\n",
       "    </tr>\n",
       "    <tr>\n",
       "      <th>2</th>\n",
       "      <td>1723215518</td>\n",
       "      <td>94be12b3cb13e5b6040b5a2219511a311106e4a5052572...</td>\n",
       "      <td>36.832615</td>\n",
       "      <td>61.774915</td>\n",
       "      <td>1.014259e+00</td>\n",
       "      <td>-56.100000</td>\n",
       "      <td>1654</td>\n",
       "      <td>109042.0</td>\n",
       "    </tr>\n",
       "    <tr>\n",
       "      <th>3</th>\n",
       "      <td>1723215518</td>\n",
       "      <td>d829deb79752be68465c9bf0e39ac8c88b21afc285d79b...</td>\n",
       "      <td>33.665019</td>\n",
       "      <td>36.740000</td>\n",
       "      <td>4.468086e-02</td>\n",
       "      <td>-71.149994</td>\n",
       "      <td>1117</td>\n",
       "      <td>NaN</td>\n",
       "    </tr>\n",
       "    <tr>\n",
       "      <th>4</th>\n",
       "      <td>1723215518</td>\n",
       "      <td>e37ba1b762ce3d0f23983b31deb3fdd569f061d0915e13...</td>\n",
       "      <td>50.752342</td>\n",
       "      <td>16.539131</td>\n",
       "      <td>7.944109e-15</td>\n",
       "      <td>-65.000000</td>\n",
       "      <td>929</td>\n",
       "      <td>58134.0</td>\n",
       "    </tr>\n",
       "  </tbody>\n",
       "</table>\n",
       "</div>"
      ],
      "text/plain": [
       "    timestamp                                                mac          x  \\\n",
       "0  1723215518  f6f8a9fda28aa761b635b8df6aa7204e1fca9ca3b8a9c5...  28.816385   \n",
       "1  1723215518  14dd543d59f75a52863e70af3a91ea21988e1ba2e7ca7d...  18.169987   \n",
       "2  1723215518  94be12b3cb13e5b6040b5a2219511a311106e4a5052572...  36.832615   \n",
       "3  1723215518  d829deb79752be68465c9bf0e39ac8c88b21afc285d79b...  33.665019   \n",
       "4  1723215518  e37ba1b762ce3d0f23983b31deb3fdd569f061d0915e13...  50.752342   \n",
       "\n",
       "           y         error       rssi  floor_id   room_id  \n",
       "0   0.500000  0.000000e+00 -60.850000       934       NaN  \n",
       "1  31.808706  0.000000e+00 -73.000000      1110   70788.0  \n",
       "2  61.774915  1.014259e+00 -56.100000      1654  109042.0  \n",
       "3  36.740000  4.468086e-02 -71.149994      1117       NaN  \n",
       "4  16.539131  7.944109e-15 -65.000000       929   58134.0  "
      ]
     },
     "execution_count": 2,
     "metadata": {},
     "output_type": "execute_result"
    }
   ],
   "source": [
    "df = pd.read_csv('../../data/data_refined.csv')\n",
    "\n",
    "timestamps_unique = df['timestamp'].unique()\n",
    "\n",
    "batch = df[df['timestamp'] == timestamps_unique[70]]\n",
    "batch = batch.reset_index(drop=True)\n",
    "print(len(batch))\n",
    "timestamp = batch['timestamp'].to_list()[0]\n",
    "print(time.strftime('%Y-%m-%d %H:%M:%S', time.localtime(timestamp)))\n",
    "\n",
    "batch.head()"
   ]
  },
  {
   "cell_type": "code",
   "execution_count": 3,
   "metadata": {},
   "outputs": [],
   "source": [
    "image_bytes = get_density_image(floor_id=1654, batch=batch, plot_devices=True)\n",
    "\n",
    "with open('density_map.png', 'wb') as f:\n",
    "    f.write(image_bytes)"
   ]
  },
  {
   "cell_type": "code",
   "execution_count": null,
   "metadata": {},
   "outputs": [],
   "source": []
  },
  {
   "cell_type": "code",
   "execution_count": null,
   "metadata": {},
   "outputs": [],
   "source": []
  }
 ],
 "metadata": {
  "kernelspec": {
   "display_name": "cpp",
   "language": "python",
   "name": "python3"
  },
  "language_info": {
   "codemirror_mode": {
    "name": "ipython",
    "version": 3
   },
   "file_extension": ".py",
   "mimetype": "text/x-python",
   "name": "python",
   "nbconvert_exporter": "python",
   "pygments_lexer": "ipython3",
   "version": "3.11.5"
  }
 },
 "nbformat": 4,
 "nbformat_minor": 2
}
