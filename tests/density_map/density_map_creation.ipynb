{
 "cells": [
  {
   "cell_type": "code",
   "execution_count": 1,
   "metadata": {},
   "outputs": [],
   "source": [
    "import time\n",
    "import sys\n",
    "sys.path.append('../../src/')\n",
    "\n",
    "from density_map import get_density_map, get_density_image\n",
    "\n",
    "import pandas as pd\n",
    "import numpy as np\n",
    "from shapely.geometry import Point, Polygon\n",
    "import matplotlib.pyplot as plt\n",
    "import matplotlib as mpl\n",
    "mpl.rcParams['figure.dpi'] = 400"
   ]
  },
  {
   "cell_type": "code",
   "execution_count": 2,
   "metadata": {},
   "outputs": [
    {
     "name": "stdout",
     "output_type": "stream",
     "text": [
      "1113\n",
      "2024-08-09 18:29:20\n"
     ]
    },
    {
     "data": {
      "text/html": [
       "<div>\n",
       "<style scoped>\n",
       "    .dataframe tbody tr th:only-of-type {\n",
       "        vertical-align: middle;\n",
       "    }\n",
       "\n",
       "    .dataframe tbody tr th {\n",
       "        vertical-align: top;\n",
       "    }\n",
       "\n",
       "    .dataframe thead th {\n",
       "        text-align: right;\n",
       "    }\n",
       "</style>\n",
       "<table border=\"1\" class=\"dataframe\">\n",
       "  <thead>\n",
       "    <tr style=\"text-align: right;\">\n",
       "      <th></th>\n",
       "      <th>timestamp</th>\n",
       "      <th>mac</th>\n",
       "      <th>x</th>\n",
       "      <th>y</th>\n",
       "      <th>error</th>\n",
       "      <th>rssi</th>\n",
       "      <th>floor_id</th>\n",
       "      <th>room_id</th>\n",
       "    </tr>\n",
       "  </thead>\n",
       "  <tbody>\n",
       "    <tr>\n",
       "      <th>242387</th>\n",
       "      <td>1723224560</td>\n",
       "      <td>0704c97a4dfe6228a42441ca4e979c436e2666b3c39e4c...</td>\n",
       "      <td>77.946254</td>\n",
       "      <td>22.955671</td>\n",
       "      <td>10.0</td>\n",
       "      <td>-69.600006</td>\n",
       "      <td>931</td>\n",
       "      <td>NaN</td>\n",
       "    </tr>\n",
       "    <tr>\n",
       "      <th>242388</th>\n",
       "      <td>1723224560</td>\n",
       "      <td>b518cc6b3d809b94b2a3a27c5a5cce87619ebb7ffc5349...</td>\n",
       "      <td>0.500000</td>\n",
       "      <td>57.494307</td>\n",
       "      <td>10.0</td>\n",
       "      <td>-63.350000</td>\n",
       "      <td>1654</td>\n",
       "      <td>NaN</td>\n",
       "    </tr>\n",
       "    <tr>\n",
       "      <th>242389</th>\n",
       "      <td>1723224560</td>\n",
       "      <td>f56df72f5588c88039bd752a5942a2915777f9e3c3b559...</td>\n",
       "      <td>1.343370</td>\n",
       "      <td>59.537913</td>\n",
       "      <td>10.0</td>\n",
       "      <td>-53.900000</td>\n",
       "      <td>1653</td>\n",
       "      <td>NaN</td>\n",
       "    </tr>\n",
       "    <tr>\n",
       "      <th>242390</th>\n",
       "      <td>1723224560</td>\n",
       "      <td>a6203c584b75784b559fcf023f4a7c4f9cea50c85867a7...</td>\n",
       "      <td>78.954185</td>\n",
       "      <td>32.800400</td>\n",
       "      <td>10.0</td>\n",
       "      <td>-64.450000</td>\n",
       "      <td>907</td>\n",
       "      <td>55838.0</td>\n",
       "    </tr>\n",
       "    <tr>\n",
       "      <th>242391</th>\n",
       "      <td>1723224560</td>\n",
       "      <td>f6eb9c35f1fcb4f25717dd4021f910b000581632a66bd3...</td>\n",
       "      <td>35.611857</td>\n",
       "      <td>22.363642</td>\n",
       "      <td>10.0</td>\n",
       "      <td>-66.350000</td>\n",
       "      <td>1041</td>\n",
       "      <td>NaN</td>\n",
       "    </tr>\n",
       "  </tbody>\n",
       "</table>\n",
       "</div>"
      ],
      "text/plain": [
       "         timestamp                                                mac  \\\n",
       "242387  1723224560  0704c97a4dfe6228a42441ca4e979c436e2666b3c39e4c...   \n",
       "242388  1723224560  b518cc6b3d809b94b2a3a27c5a5cce87619ebb7ffc5349...   \n",
       "242389  1723224560  f56df72f5588c88039bd752a5942a2915777f9e3c3b559...   \n",
       "242390  1723224560  a6203c584b75784b559fcf023f4a7c4f9cea50c85867a7...   \n",
       "242391  1723224560  f6eb9c35f1fcb4f25717dd4021f910b000581632a66bd3...   \n",
       "\n",
       "                x          y  error       rssi  floor_id  room_id  \n",
       "242387  77.946254  22.955671   10.0 -69.600006       931      NaN  \n",
       "242388   0.500000  57.494307   10.0 -63.350000      1654      NaN  \n",
       "242389   1.343370  59.537913   10.0 -53.900000      1653      NaN  \n",
       "242390  78.954185  32.800400   10.0 -64.450000       907  55838.0  \n",
       "242391  35.611857  22.363642   10.0 -66.350000      1041      NaN  "
      ]
     },
     "execution_count": 2,
     "metadata": {},
     "output_type": "execute_result"
    }
   ],
   "source": [
    "df = pd.read_csv('../../data/data_refined.csv')\n",
    "\n",
    "timestamps_unique = df['timestamp'].unique()\n",
    "\n",
    "batch = df[df['timestamp'] == timestamps_unique[100]]\n",
    "print(len(batch))\n",
    "timestamp = batch['timestamp'].to_list()[0]\n",
    "print(time.strftime('%Y-%m-%d %H:%M:%S', time.localtime(timestamp)))\n",
    "\n",
    "batch.head()"
   ]
  },
  {
   "cell_type": "code",
   "execution_count": 3,
   "metadata": {},
   "outputs": [],
   "source": [
    "image_bytes = get_density_image(floor_id=1654, batch=batch)\n",
    "\n",
    "with open('density_map.png', 'wb') as f:\n",
    "    f.write(image_bytes)"
   ]
  },
  {
   "cell_type": "code",
   "execution_count": null,
   "metadata": {},
   "outputs": [],
   "source": []
  }
 ],
 "metadata": {
  "kernelspec": {
   "display_name": "cpp",
   "language": "python",
   "name": "python3"
  },
  "language_info": {
   "codemirror_mode": {
    "name": "ipython",
    "version": 3
   },
   "file_extension": ".py",
   "mimetype": "text/x-python",
   "name": "python",
   "nbconvert_exporter": "python",
   "pygments_lexer": "ipython3",
   "version": "3.11.5"
  }
 },
 "nbformat": 4,
 "nbformat_minor": 2
}
