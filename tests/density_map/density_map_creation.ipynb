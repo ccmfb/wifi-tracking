{
 "cells": [
  {
   "cell_type": "code",
   "execution_count": 1,
   "metadata": {},
   "outputs": [],
   "source": [
    "import time\n",
    "import sys\n",
    "sys.path.append('../../src/')\n",
    "\n",
    "from density_map import get_density_image\n",
    "\n",
    "import pandas as pd\n",
    "\n",
    "import numpy as np\n",
    "from shapely.geometry import Point, Polygon\n",
    "import matplotlib.pyplot as plt\n",
    "import matplotlib as mpl\n",
    "mpl.rcParams['figure.dpi'] = 500"
   ]
  },
  {
   "cell_type": "code",
   "execution_count": 2,
   "metadata": {},
   "outputs": [
    {
     "name": "stdout",
     "output_type": "stream",
     "text": [
      "3467\n",
      "2024-08-09 12:37:54\n"
     ]
    },
    {
     "data": {
      "text/html": [
       "<div>\n",
       "<style scoped>\n",
       "    .dataframe tbody tr th:only-of-type {\n",
       "        vertical-align: middle;\n",
       "    }\n",
       "\n",
       "    .dataframe tbody tr th {\n",
       "        vertical-align: top;\n",
       "    }\n",
       "\n",
       "    .dataframe thead th {\n",
       "        text-align: right;\n",
       "    }\n",
       "</style>\n",
       "<table border=\"1\" class=\"dataframe\">\n",
       "  <thead>\n",
       "    <tr style=\"text-align: right;\">\n",
       "      <th></th>\n",
       "      <th>timestamp</th>\n",
       "      <th>mac</th>\n",
       "      <th>x</th>\n",
       "      <th>y</th>\n",
       "      <th>error</th>\n",
       "      <th>rssi</th>\n",
       "      <th>floor_id</th>\n",
       "      <th>room_id</th>\n",
       "    </tr>\n",
       "  </thead>\n",
       "  <tbody>\n",
       "    <tr>\n",
       "      <th>0</th>\n",
       "      <td>1723203474</td>\n",
       "      <td>8be6ba815f5c45c98465a44307e6f4c0ec6696d267763e...</td>\n",
       "      <td>51.284861</td>\n",
       "      <td>26.737305</td>\n",
       "      <td>1.000000e+01</td>\n",
       "      <td>-56.26316</td>\n",
       "      <td>936</td>\n",
       "      <td>58710.0</td>\n",
       "    </tr>\n",
       "    <tr>\n",
       "      <th>1</th>\n",
       "      <td>1723203474</td>\n",
       "      <td>8aca9941fc542835e4bc79e4d3943b68bb398c3dd275b9...</td>\n",
       "      <td>96.295500</td>\n",
       "      <td>37.486782</td>\n",
       "      <td>1.588822e-14</td>\n",
       "      <td>-64.40000</td>\n",
       "      <td>905</td>\n",
       "      <td>NaN</td>\n",
       "    </tr>\n",
       "    <tr>\n",
       "      <th>2</th>\n",
       "      <td>1723203474</td>\n",
       "      <td>03cecda3f98fcdde9bd4469f4d7cd19f64af83f162a119...</td>\n",
       "      <td>76.960201</td>\n",
       "      <td>18.705164</td>\n",
       "      <td>3.147412e-01</td>\n",
       "      <td>-57.00000</td>\n",
       "      <td>1098</td>\n",
       "      <td>69480.0</td>\n",
       "    </tr>\n",
       "    <tr>\n",
       "      <th>3</th>\n",
       "      <td>1723203474</td>\n",
       "      <td>e11ae3801832724a6650c3d355a162ad6d196cdb50840e...</td>\n",
       "      <td>48.735253</td>\n",
       "      <td>55.710484</td>\n",
       "      <td>6.931871e-01</td>\n",
       "      <td>-69.40000</td>\n",
       "      <td>1110</td>\n",
       "      <td>NaN</td>\n",
       "    </tr>\n",
       "    <tr>\n",
       "      <th>4</th>\n",
       "      <td>1723203474</td>\n",
       "      <td>164d1fa8a3aa2dc6b0d55f53535ce6c00a44f7b1919554...</td>\n",
       "      <td>66.511021</td>\n",
       "      <td>14.383523</td>\n",
       "      <td>3.989842e-01</td>\n",
       "      <td>-59.05000</td>\n",
       "      <td>929</td>\n",
       "      <td>58079.0</td>\n",
       "    </tr>\n",
       "  </tbody>\n",
       "</table>\n",
       "</div>"
      ],
      "text/plain": [
       "    timestamp                                                mac          x  \\\n",
       "0  1723203474  8be6ba815f5c45c98465a44307e6f4c0ec6696d267763e...  51.284861   \n",
       "1  1723203474  8aca9941fc542835e4bc79e4d3943b68bb398c3dd275b9...  96.295500   \n",
       "2  1723203474  03cecda3f98fcdde9bd4469f4d7cd19f64af83f162a119...  76.960201   \n",
       "3  1723203474  e11ae3801832724a6650c3d355a162ad6d196cdb50840e...  48.735253   \n",
       "4  1723203474  164d1fa8a3aa2dc6b0d55f53535ce6c00a44f7b1919554...  66.511021   \n",
       "\n",
       "           y         error      rssi  floor_id  room_id  \n",
       "0  26.737305  1.000000e+01 -56.26316       936  58710.0  \n",
       "1  37.486782  1.588822e-14 -64.40000       905      NaN  \n",
       "2  18.705164  3.147412e-01 -57.00000      1098  69480.0  \n",
       "3  55.710484  6.931871e-01 -69.40000      1110      NaN  \n",
       "4  14.383523  3.989842e-01 -59.05000       929  58079.0  "
      ]
     },
     "execution_count": 2,
     "metadata": {},
     "output_type": "execute_result"
    }
   ],
   "source": [
    "df = pd.read_csv('../../data/data_refined.csv')\n",
    "\n",
    "timestamps_unique = df['timestamp'].unique()\n",
    "\n",
    "batch = df[df['timestamp'] == timestamps_unique[30]]\n",
    "batch = batch.reset_index(drop=True)\n",
    "print(len(batch))\n",
    "timestamp = batch['timestamp'].to_list()[0]\n",
    "print(time.strftime('%Y-%m-%d %H:%M:%S', time.localtime(timestamp)))\n",
    "\n",
    "batch.head()"
   ]
  },
  {
   "cell_type": "code",
   "execution_count": 3,
   "metadata": {},
   "outputs": [
    {
     "name": "stdout",
     "output_type": "stream",
     "text": [
      "<class 'pandas.core.frame.DataFrame'>\n"
     ]
    }
   ],
   "source": [
    "image_bytes = get_density_image(floor_id=1654, batch=batch, plot_devices=False)\n",
    "\n",
    "with open('density_map.png', 'wb') as f:\n",
    "    f.write(image_bytes)"
   ]
  },
  {
   "cell_type": "code",
   "execution_count": null,
   "metadata": {},
   "outputs": [],
   "source": []
  },
  {
   "cell_type": "code",
   "execution_count": null,
   "metadata": {},
   "outputs": [],
   "source": []
  }
 ],
 "metadata": {
  "kernelspec": {
   "display_name": "cpp",
   "language": "python",
   "name": "python3"
  },
  "language_info": {
   "codemirror_mode": {
    "name": "ipython",
    "version": 3
   },
   "file_extension": ".py",
   "mimetype": "text/x-python",
   "name": "python",
   "nbconvert_exporter": "python",
   "pygments_lexer": "ipython3",
   "version": "3.11.5"
  }
 },
 "nbformat": 4,
 "nbformat_minor": 2
}
