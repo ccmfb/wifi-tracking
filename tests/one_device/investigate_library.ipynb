{
 "cells": [
  {
   "cell_type": "code",
   "execution_count": 1,
   "metadata": {},
   "outputs": [],
   "source": [
    "import json\n",
    "import pandas as pd"
   ]
  },
  {
   "cell_type": "code",
   "execution_count": 2,
   "metadata": {},
   "outputs": [],
   "source": [
    "data = pd.read_csv('../../data/data.csv')"
   ]
  },
  {
   "cell_type": "code",
   "execution_count": 3,
   "metadata": {},
   "outputs": [],
   "source": [
    "with open('../../data/id_mappings/floorId_to_mapId.json') as f:\n",
    "    floorId_to_mapId = json.load(f)"
   ]
  },
  {
   "cell_type": "code",
   "execution_count": 4,
   "metadata": {},
   "outputs": [
    {
     "name": "stdout",
     "output_type": "stream",
     "text": [
      "139\n"
     ]
    },
    {
     "data": {
      "text/html": [
       "<div>\n",
       "<style scoped>\n",
       "    .dataframe tbody tr th:only-of-type {\n",
       "        vertical-align: middle;\n",
       "    }\n",
       "\n",
       "    .dataframe tbody tr th {\n",
       "        vertical-align: top;\n",
       "    }\n",
       "\n",
       "    .dataframe thead th {\n",
       "        text-align: right;\n",
       "    }\n",
       "</style>\n",
       "<table border=\"1\" class=\"dataframe\">\n",
       "  <thead>\n",
       "    <tr style=\"text-align: right;\">\n",
       "      <th></th>\n",
       "      <th>timestamp</th>\n",
       "      <th>mac</th>\n",
       "      <th>map_id</th>\n",
       "      <th>rssi</th>\n",
       "      <th>site_id</th>\n",
       "      <th>type</th>\n",
       "      <th>x</th>\n",
       "      <th>y</th>\n",
       "    </tr>\n",
       "  </thead>\n",
       "  <tbody>\n",
       "    <tr>\n",
       "      <th>0</th>\n",
       "      <td>1.723558e+09</td>\n",
       "      <td>a9a7f864b741b8cbdbe9bc22cafcd3ef220bef6f56a6f9...</td>\n",
       "      <td>84e4e427-4160-45cf-85cf-940f6bada947</td>\n",
       "      <td>-58.10</td>\n",
       "      <td>48b01af6-138b-465d-8996-bace824f5726</td>\n",
       "      <td>wifi</td>\n",
       "      <td>13.725521</td>\n",
       "      <td>64.835556</td>\n",
       "    </tr>\n",
       "    <tr>\n",
       "      <th>1</th>\n",
       "      <td>1.723558e+09</td>\n",
       "      <td>a9a7f864b741b8cbdbe9bc22cafcd3ef220bef6f56a6f9...</td>\n",
       "      <td>84e4e427-4160-45cf-85cf-940f6bada947</td>\n",
       "      <td>-59.65</td>\n",
       "      <td>48b01af6-138b-465d-8996-bace824f5726</td>\n",
       "      <td>wifi</td>\n",
       "      <td>14.282210</td>\n",
       "      <td>65.997240</td>\n",
       "    </tr>\n",
       "    <tr>\n",
       "      <th>2</th>\n",
       "      <td>1.723558e+09</td>\n",
       "      <td>a9a7f864b741b8cbdbe9bc22cafcd3ef220bef6f56a6f9...</td>\n",
       "      <td>84e4e427-4160-45cf-85cf-940f6bada947</td>\n",
       "      <td>-61.10</td>\n",
       "      <td>48b01af6-138b-465d-8996-bace824f5726</td>\n",
       "      <td>wifi</td>\n",
       "      <td>14.880072</td>\n",
       "      <td>67.244840</td>\n",
       "    </tr>\n",
       "    <tr>\n",
       "      <th>3</th>\n",
       "      <td>1.723559e+09</td>\n",
       "      <td>a9a7f864b741b8cbdbe9bc22cafcd3ef220bef6f56a6f9...</td>\n",
       "      <td>84e4e427-4160-45cf-85cf-940f6bada947</td>\n",
       "      <td>-57.85</td>\n",
       "      <td>48b01af6-138b-465d-8996-bace824f5726</td>\n",
       "      <td>wifi</td>\n",
       "      <td>13.642944</td>\n",
       "      <td>64.663240</td>\n",
       "    </tr>\n",
       "    <tr>\n",
       "      <th>4</th>\n",
       "      <td>1.723556e+09</td>\n",
       "      <td>a9a7f864b741b8cbdbe9bc22cafcd3ef220bef6f56a6f9...</td>\n",
       "      <td>84e4e427-4160-45cf-85cf-940f6bada947</td>\n",
       "      <td>-64.10</td>\n",
       "      <td>48b01af6-138b-465d-8996-bace824f5726</td>\n",
       "      <td>wifi</td>\n",
       "      <td>16.402065</td>\n",
       "      <td>70.420900</td>\n",
       "    </tr>\n",
       "  </tbody>\n",
       "</table>\n",
       "</div>"
      ],
      "text/plain": [
       "      timestamp                                                mac  \\\n",
       "0  1.723558e+09  a9a7f864b741b8cbdbe9bc22cafcd3ef220bef6f56a6f9...   \n",
       "1  1.723558e+09  a9a7f864b741b8cbdbe9bc22cafcd3ef220bef6f56a6f9...   \n",
       "2  1.723558e+09  a9a7f864b741b8cbdbe9bc22cafcd3ef220bef6f56a6f9...   \n",
       "3  1.723559e+09  a9a7f864b741b8cbdbe9bc22cafcd3ef220bef6f56a6f9...   \n",
       "4  1.723556e+09  a9a7f864b741b8cbdbe9bc22cafcd3ef220bef6f56a6f9...   \n",
       "\n",
       "                                 map_id   rssi  \\\n",
       "0  84e4e427-4160-45cf-85cf-940f6bada947 -58.10   \n",
       "1  84e4e427-4160-45cf-85cf-940f6bada947 -59.65   \n",
       "2  84e4e427-4160-45cf-85cf-940f6bada947 -61.10   \n",
       "3  84e4e427-4160-45cf-85cf-940f6bada947 -57.85   \n",
       "4  84e4e427-4160-45cf-85cf-940f6bada947 -64.10   \n",
       "\n",
       "                                site_id  type          x          y  \n",
       "0  48b01af6-138b-465d-8996-bace824f5726  wifi  13.725521  64.835556  \n",
       "1  48b01af6-138b-465d-8996-bace824f5726  wifi  14.282210  65.997240  \n",
       "2  48b01af6-138b-465d-8996-bace824f5726  wifi  14.880072  67.244840  \n",
       "3  48b01af6-138b-465d-8996-bace824f5726  wifi  13.642944  64.663240  \n",
       "4  48b01af6-138b-465d-8996-bace824f5726  wifi  16.402065  70.420900  "
      ]
     },
     "execution_count": 4,
     "metadata": {},
     "output_type": "execute_result"
    }
   ],
   "source": [
    "map_id = floorId_to_mapId[str(1654)]\n",
    "\n",
    "data = data[data['map_id'] == map_id]\n",
    "\n",
    "macs = data['mac'].unique()\n",
    "df = data[data['mac'] == macs[6]]\n",
    "\n",
    "df = df.reset_index(drop=True)\n",
    "\n",
    "print(len(df))\n",
    "df.head()"
   ]
  },
  {
   "cell_type": "code",
   "execution_count": 10,
   "metadata": {},
   "outputs": [],
   "source": [
    "import matplotlib.pyplot as plt\n",
    "\n",
    "from IPython.display import HTML\n",
    "import ipywidgets as widgets\n",
    "from ipywidgets import interact\n",
    "\n",
    "import sys\n",
    "sys.path.append('../../src')\n",
    "\n",
    "from device import Device\n",
    "\n",
    "import numpy as np"
   ]
  },
  {
   "cell_type": "code",
   "execution_count": 11,
   "metadata": {},
   "outputs": [],
   "source": [
    "with open('../../data/zValue_to_pValue.json') as f:\n",
    "    zValue_to_pValue = json.load(f)\n",
    "    zValue_to_pValue = {float(k): v for k, v in zValue_to_pValue.items()}"
   ]
  },
  {
   "cell_type": "code",
   "execution_count": 12,
   "metadata": {},
   "outputs": [],
   "source": [
    "def update(index):\n",
    "    curr_df = df.iloc[:index]\n",
    "    device = Device(curr_df['mac'][0])\n",
    "\n",
    "\n",
    "    for i in range(len(curr_df)):\n",
    "        device.add_data(\n",
    "            x = curr_df['x'][i],\n",
    "            y = curr_df['y'][i],\n",
    "            rssi = curr_df['rssi'][i],\n",
    "            timestamp = curr_df['timestamp'][i],\n",
    "            floor_id=curr_df['map_id'][i]\n",
    "        )\n",
    "\n",
    "    device.update_position(zValue_to_pValue=zValue_to_pValue)\n",
    "\n",
    "    positions = np.array(device.positions)\n",
    "    xs = positions[:, 0]\n",
    "    ys = positions[:, 1]\n",
    "\n",
    "\n",
    "    fig, ax = plt.subplots(figsize=(10, 10))\n",
    "\n",
    "    ax.scatter(xs, ys, c='gray')\n",
    "    ax.scatter(xs[-1], ys[-1], c='black')\n",
    "\n",
    "    ax.scatter(device.x, device.y, c='red', marker='x')\n",
    "    ax.add_patch(plt.Circle((device.x, device.y), device.error, color='red', alpha=0.3))\n"
   ]
  },
  {
   "cell_type": "code",
   "execution_count": 13,
   "metadata": {},
   "outputs": [
    {
     "data": {
      "application/vnd.jupyter.widget-view+json": {
       "model_id": "88234c297f5740689299b15eb049acfa",
       "version_major": 2,
       "version_minor": 0
      },
      "text/plain": [
       "interactive(children=(IntSlider(value=0, description='index', max=138), Output()), _dom_classes=('widget-inter…"
      ]
     },
     "metadata": {},
     "output_type": "display_data"
    },
    {
     "data": {
      "text/plain": [
       "<function __main__.update(index)>"
      ]
     },
     "execution_count": 13,
     "metadata": {},
     "output_type": "execute_result"
    }
   ],
   "source": [
    "interact(update, index=widgets.IntSlider(min=0, max=len(df)-1, step=1, value=0))"
   ]
  },
  {
   "cell_type": "code",
   "execution_count": null,
   "metadata": {},
   "outputs": [],
   "source": []
  }
 ],
 "metadata": {
  "kernelspec": {
   "display_name": "cpp",
   "language": "python",
   "name": "python3"
  },
  "language_info": {
   "codemirror_mode": {
    "name": "ipython",
    "version": 3
   },
   "file_extension": ".py",
   "mimetype": "text/x-python",
   "name": "python",
   "nbconvert_exporter": "python",
   "pygments_lexer": "ipython3",
   "version": "3.11.5"
  }
 },
 "nbformat": 4,
 "nbformat_minor": 2
}
