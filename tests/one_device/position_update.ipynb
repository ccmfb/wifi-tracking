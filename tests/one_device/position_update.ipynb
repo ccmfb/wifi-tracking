{
 "cells": [
  {
   "cell_type": "code",
   "execution_count": 1,
   "metadata": {},
   "outputs": [],
   "source": [
    "import json\n",
    "import sys\n",
    "sys.path.append('../../src')\n",
    "\n",
    "from device import Device\n",
    "\n",
    "import pandas as pd\n",
    "import numpy as np\n",
    "import matplotlib.pyplot as plt\n",
    "import matplotlib as mpl\n",
    "mpl.rcParams['figure.dpi'] = 400\n",
    "\n",
    "from IPython.display import HTML\n",
    "import ipywidgets as widgets\n",
    "from ipywidgets import interact"
   ]
  },
  {
   "cell_type": "code",
   "execution_count": 2,
   "metadata": {},
   "outputs": [],
   "source": [
    "df = pd.read_csv('data_1d.csv')\n",
    "\n",
    "with open('../../data/zValue_to_pValue.json', 'r') as f:\n",
    "    zValue_to_pValue = json.load(f)\n",
    "    zValue_to_pValue = {float(k): v for k, v in zValue_to_pValue.items()}"
   ]
  },
  {
   "cell_type": "code",
   "execution_count": 3,
   "metadata": {},
   "outputs": [],
   "source": [
    "def update(index):\n",
    "    curr_df = df.iloc[:index]\n",
    "    device = Device(curr_df['mac'][0])\n",
    "\n",
    "\n",
    "    for i in range(len(curr_df)):\n",
    "        device.add_data(\n",
    "            x = curr_df['x'][i],\n",
    "            y = curr_df['y'][i],\n",
    "            rssi = curr_df['rssi'][i],\n",
    "            timestamp = curr_df['timestamp'][i],\n",
    "            floor_id=curr_df['map_id'][i]\n",
    "        )\n",
    "\n",
    "    device.update_position(zValue_to_pValue=zValue_to_pValue)\n",
    "\n",
    "    positions = np.array(device.positions)\n",
    "    xs = positions[:, 0]\n",
    "    ys = positions[:, 1]\n",
    "\n",
    "    fig, ax = plt.subplots(figsize=(10, 5))\n",
    "\n",
    "    ax.scatter(xs, ys, c='gray')\n",
    "    ax.scatter(xs[-1], ys[-1], c='black')\n",
    "\n",
    "    ax.scatter(device.x, device.y, c='red', marker='x')\n",
    "    ax.add_patch(plt.Circle((device.x, device.y), device.error, color='red', alpha=0.3))\n",
    "\n",
    "    ax.set_xlim(0, 100)\n",
    "    ax.set_ylim(0, 100)"
   ]
  },
  {
   "cell_type": "code",
   "execution_count": 4,
   "metadata": {},
   "outputs": [
    {
     "data": {
      "application/vnd.jupyter.widget-view+json": {
       "model_id": "c7bfad28f9364a6d9cc3952d4c6484e9",
       "version_major": 2,
       "version_minor": 0
      },
      "text/plain": [
       "interactive(children=(IntSlider(value=0, description='index', max=59), Output()), _dom_classes=('widget-intera…"
      ]
     },
     "metadata": {},
     "output_type": "display_data"
    },
    {
     "data": {
      "text/plain": [
       "<function __main__.update(index)>"
      ]
     },
     "execution_count": 4,
     "metadata": {},
     "output_type": "execute_result"
    }
   ],
   "source": [
    "interact(update, index=widgets.IntSlider(min=0, max=len(df)-1, step=1, value=0))"
   ]
  },
  {
   "cell_type": "code",
   "execution_count": null,
   "metadata": {},
   "outputs": [],
   "source": []
  },
  {
   "cell_type": "code",
   "execution_count": null,
   "metadata": {},
   "outputs": [],
   "source": []
  }
 ],
 "metadata": {
  "kernelspec": {
   "display_name": "cpp",
   "language": "python",
   "name": "python3"
  },
  "language_info": {
   "codemirror_mode": {
    "name": "ipython",
    "version": 3
   },
   "file_extension": ".py",
   "mimetype": "text/x-python",
   "name": "python",
   "nbconvert_exporter": "python",
   "pygments_lexer": "ipython3",
   "version": "3.11.5"
  }
 },
 "nbformat": 4,
 "nbformat_minor": 2
}
