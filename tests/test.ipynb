{
 "cells": [
  {
   "cell_type": "code",
   "execution_count": 1,
   "metadata": {},
   "outputs": [],
   "source": [
    "import sqlite3"
   ]
  },
  {
   "cell_type": "code",
   "execution_count": 2,
   "metadata": {},
   "outputs": [],
   "source": [
    "conn = sqlite3.connect('../data/refined_data.db')\n",
    "cursor = conn.cursor()"
   ]
  },
  {
   "cell_type": "code",
   "execution_count": 3,
   "metadata": {},
   "outputs": [
    {
     "name": "stdout",
     "output_type": "stream",
     "text": [
      "1723204978\n"
     ]
    }
   ],
   "source": [
    "cursor.execute('select timestamp from data_refined order by id desc limit 1')\n",
    "timestamp = cursor.fetchone()[0]\n",
    "\n",
    "print(timestamp)"
   ]
  },
  {
   "cell_type": "code",
   "execution_count": 4,
   "metadata": {},
   "outputs": [
    {
     "name": "stdout",
     "output_type": "stream",
     "text": [
      "[(107887, 1723204978, '713c9bab85abb152afe938d79000ca46c4add78d86af90800ac60f3e1f0bea5c', 13.021830464124754, 6.982515911619241, 2.080906375746175, -85.6, '1349', 'None'), (107888, 1723204978, 'e4b7f8c937399cd09fc7f6433d5cd36784566714dc5ac22960d158b6158ec456', 13.839974520118414, 71.7242982077222, 0.1322767118863412, -56.4, '1655', '109146'), (107889, 1723204978, '6e62d2a410784330e30732aa7d406741fec30fc8e2b9f1f1e82eddedacebe83b', 59.14221, 2.9038332, 0.0, -66.45, '1110', 'None'), (107890, 1723204978, '785defffd7febbcd0dc2f8616f579cd38ece39c875f13f1b7769f1046df6e1ab', 42.32662385623626, 22.085251584910868, 10.0, -48.3, '1106', '70418'), (107891, 1723204978, '5b17e1b0fa113d3a17c7e0b781a654bbe53d554cbdd544673719bb5bd0d4f122', 50.08274428012424, 16.440013894708013, 8.40656804892742, -88, '1346', 'None'), (107892, 1723204978, 'feb1ba789950dc5af56a971c72246e28553f05f529a42133d3dc40c1cef18783', 0.5, 76.101006, 0.0, -71.85, '1652', 'None'), (107893, 1723204978, 'fcce51e2177ac2bfc2fb5575faf47e7f8ff74cd28ee7b7c54f01827323bca089', 50.338333, 22.956535, 0.0, -70, '935', '58662'), (1